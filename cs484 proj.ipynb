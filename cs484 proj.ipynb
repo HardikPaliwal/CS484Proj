{
  "cells": [
    {
      "cell_type": "markdown",
      "metadata": {
        "id": "view-in-github",
        "colab_type": "text"
      },
      "source": [
        "<a href=\"https://colab.research.google.com/github/HardikPaliwal/CS484Proj/blob/master/cs484%20proj.ipynb\" target=\"_parent\"><img src=\"https://colab.research.google.com/assets/colab-badge.svg\" alt=\"Open In Colab\"/></a>"
      ]
    },
    {
      "cell_type": "markdown",
      "metadata": {
        "id": "hOiQJ0-YBNR8"
      },
      "source": [
        "# **CS484 Final Project**\n",
        "\n",
        "#### Topic 6: Weakly supervised classification\n",
        "\n",
        "#### Hardik Paliwal (20725413), Lance Pereira (20719626)\n",
        "\n",
        "______________________________________________________________"
      ]
    },
    {
      "cell_type": "markdown",
      "source": [
        "#**Table Of Contents**\n",
        "- A) Abstract\n",
        "- B) High Level Goals and Methedology\n",
        "- C) Team Members and Contributions\n",
        "- D) External Code Libraries\n",
        "- E) Code\n",
        "  - 1) Setup (imports, loading data)\n",
        "  - 2) Our CNN (Based on VGG11)\n",
        "  - 3) Clustering Methods from SKlearn \n",
        "- F) Experiments\n",
        "  - 1) Diffirent ratios of M/N\n",
        "  - 2) Diffirent Clustering Methods\n",
        "  - 3) Clustering as Final vs Retrained CNN\n",
        "- G) Results\n",
        "  - 1) Results of diffirent ratios\n",
        "  - 2) Results from diffirent clustering methods\n",
        "  - 3) Results from Clustering vs retrained CNN\n",
        "- H) Conclusions"
      ],
      "metadata": {
        "id": "P5a9RiUbRKX2"
      }
    },
    {
      "cell_type": "markdown",
      "metadata": {
        "id": "lDBcYS6VBNSA"
      },
      "source": [
        "#**A) Abstract:**\n",
        "\n",
        "For our project we have decided to do Project 6, choosing specifically Fashion MNIST. We use weakly supervised classification to try and improve results compared to just using supervised learning.\n",
        " \n",
        "\n",
        "#**B) High Level Goals and Methedology:**\n",
        "\n",
        "Out high level goal is to use weakly supervised classification to improve our \n",
        "prediction ability compared to just training using labeled images. We hope to \n",
        "achieve atleast a 5% increase in our test prediction score using clustering \n",
        "methods.\n",
        "\n",
        "Our method is split into two experiments, \n",
        "- we first will test to see training\n",
        "a CNN on N-M labeled images, then use a cluestering method to classify all the \n",
        "N images, using the majority label in each cluster as the predicted label\n",
        "- secondly we will try using the predicted labels from the previous step to \n",
        "train a new CNN model, to see if it performs better\n",
        "\n",
        "Our baseline will be a simple CNN of N+1 (with the K extra classes being labelled as \"unknown\") to differentiate between unlabeled and labeled classes. Then simply run (some unsupervised model) on the unlabeled data. "
      ]
    },
    {
      "cell_type": "markdown",
      "source": [
        "#**C) Team Members and Contributions**\n",
        "\n",
        "- Hardik Paliwal\n",
        "  - Created CNN based on VGG11 for training\n",
        "  - Created function to gather features from pretrained CNN (trained on M labeled images)\n",
        "  - Created method to get predicted labels from clustering methods\n",
        "\n",
        "- Lance Pereira\n",
        "  - (TODO) Modified VGG11 like CNN for better results\n",
        "  - Created experiments for ratios of M/N \n",
        "  - Split data into labeled and unlabeled\n",
        "  - Created experiments for diffirent clustering methods\n",
        "    - Kmeans, Kmedians, Kmodes\n",
        "    - GMM\n",
        "  - Created experiments for final classification using Kmeans vs using predicted labels to retrain CNN"
      ],
      "metadata": {
        "id": "3ZbWhkZiOTHS"
      }
    },
    {
      "cell_type": "markdown",
      "source": [
        "#**D) External Code Libraries**\n",
        "\n",
        "We used\n",
        "\n",
        "- Pytorch\n",
        "  - Because it was crucial for the quick training of our models\n",
        "  - Allowed us to not have to deal with calculating back propogation\n",
        "- Sklearn\n",
        "  - Provided us a large range of clustering methods for quick experimentation\n",
        "- Numpy\n",
        "  - Useful for large matrix operations"
      ],
      "metadata": {
        "id": "YHKO718hQ17r"
      }
    },
    {
      "cell_type": "code",
      "execution_count": 1,
      "metadata": {
        "id": "phv5gD4DBNSC"
      },
      "outputs": [],
      "source": [
        "import torch\n",
        "import torch.nn as nn\n",
        "import torch.nn.functional as F\n",
        "import torchvision as tv\n",
        "import matplotlib.pyplot as plt\n",
        "from torch.utils.data import DataLoader\n",
        "from torch.autograd import Variable\n",
        "import sklearn\n",
        "from torch import optim\n",
        "import numpy as np\n",
        "import itertools\n",
        "\n",
        "%matplotlib inline"
      ]
    },
    {
      "cell_type": "markdown",
      "source": [
        "# **E) Code**"
      ],
      "metadata": {
        "id": "y_GC_Ou-aqJY"
      }
    },
    {
      "cell_type": "markdown",
      "source": [
        "### **E) Code: Setup**\n",
        "\n",
        "The below cells:\n",
        "- Import Fshion MNIST\n",
        "- define functions that strip label from data"
      ],
      "metadata": {
        "id": "ev3-3ZQobP0E"
      }
    },
    {
      "cell_type": "code",
      "execution_count": 2,
      "metadata": {
        "id": "umKKVD1LBNSE"
      },
      "outputs": [],
      "source": [
        "# Constants\n",
        "dev=torch.device(\"cuda\") \n",
        "NUM_EPOCHS = 6\n",
        "NUM_CLUSTERS = 30\n",
        "NUM_CLASSES = 10\n",
        "UNKNOWN_CLASS = 11"
      ]
    },
    {
      "cell_type": "code",
      "execution_count": 3,
      "metadata": {
        "id": "lpBIjSHXBNSF",
        "colab": {
          "base_uri": "https://localhost:8080/",
          "height": 422,
          "referenced_widgets": [
            "a27ec775fb134cf19630503efc5aaf0b",
            "b39128a78439408c9e3b76c1fa48d601",
            "bad00cf2384d436f8422c345eadca3c9",
            "efc153b099da434ba47afa69f93bbc80",
            "87ee6b320b59467b8f00b6080da89eb3",
            "7a3dd1e762f344e4a236f05819d910d1",
            "67853e31b48b4a4fb31dbba34ccdf3d2",
            "b5a6bca8f8f149d589aab0bbfed52981",
            "bb443ed37904422d9007f1f8719016e6",
            "af4d931de38b4ecd839fd794f79216ac",
            "cc86a0ce030f4b48a4d1612693055c71",
            "6a15bbda893f48b6a2e7741c8c6fb7a9",
            "77f4b9c5fc144dc1a015ca98990c7b49",
            "ae424fb8b02d472d9e1dbfc8f4f69e22",
            "c795f46ce549449ba802700d44173a43",
            "72d4acacee07430d96f8efab1e2c1d4f",
            "1fe9aaa98b1240f09579151d9cd42fa5",
            "4b79fb292a3f4bc8ae9d6352d42ca12b",
            "cd0d1c6ce26647f79817482ae8279e4d",
            "8c22265e89c54a1bbb57114206c67b6e",
            "aab6e0d398ad4a57aea32ef3a247a16f",
            "90d892797f97485d8148d81c4d52f1dd",
            "4c7e615e2ed4453a8258b0146cdfcd16",
            "66bf98147c0242fda64a2fd560f09764",
            "2a776642a8dc442684ed9deda5fe60e0",
            "4e43e831f693451fa1a452d8acf610d0",
            "5273b25e175242e18713b8e07bf857d1",
            "262f9e6453804a468c60f53ccbd43c81",
            "6cc9900c9312443ab18c286ced447ed6",
            "a7597e19e5074a9c97170441cf4c6d47",
            "76dbcfe34ddd4368a8fccd4c7fde1347",
            "0488a509b40246188eabc3ef0d13caae",
            "a5787c8a4d204ca992445108c7aded7e",
            "278ca4319e09460286039933bfab2f58",
            "b3911e01d0034106baf27d0abe7da88b",
            "7e966b071e184f8781d0c8598a20dae9",
            "84df5d8dd03a4ddf88394fa356cdbd7a",
            "ff4b3817b83040bd90780f6309a01c9b",
            "ce87710363df477cb86569a964206a2d",
            "8beb5b927fae4741b44da9935dc51ad1",
            "997931c8492641bb8b344b27f1dde9ad",
            "acbaf82211164fa6bcce4074ec3a0d61",
            "5448d063717d4d0381ae2db5be9c7806",
            "c888e5c692654e6e9063b0e18d49540d"
          ]
        },
        "outputId": "07946d1f-9ece-4961-b60d-115b1acd0e7a"
      },
      "outputs": [
        {
          "output_type": "stream",
          "name": "stdout",
          "text": [
            "Downloading http://fashion-mnist.s3-website.eu-central-1.amazonaws.com/train-images-idx3-ubyte.gz\n",
            "Downloading http://fashion-mnist.s3-website.eu-central-1.amazonaws.com/train-images-idx3-ubyte.gz to ./FashionMNIST/raw/train-images-idx3-ubyte.gz\n"
          ]
        },
        {
          "output_type": "display_data",
          "data": {
            "application/vnd.jupyter.widget-view+json": {
              "model_id": "a27ec775fb134cf19630503efc5aaf0b",
              "version_minor": 0,
              "version_major": 2
            },
            "text/plain": [
              "  0%|          | 0/26421880 [00:00<?, ?it/s]"
            ]
          },
          "metadata": {}
        },
        {
          "output_type": "stream",
          "name": "stdout",
          "text": [
            "Extracting ./FashionMNIST/raw/train-images-idx3-ubyte.gz to ./FashionMNIST/raw\n",
            "\n",
            "Downloading http://fashion-mnist.s3-website.eu-central-1.amazonaws.com/train-labels-idx1-ubyte.gz\n",
            "Downloading http://fashion-mnist.s3-website.eu-central-1.amazonaws.com/train-labels-idx1-ubyte.gz to ./FashionMNIST/raw/train-labels-idx1-ubyte.gz\n"
          ]
        },
        {
          "output_type": "display_data",
          "data": {
            "application/vnd.jupyter.widget-view+json": {
              "model_id": "6a15bbda893f48b6a2e7741c8c6fb7a9",
              "version_minor": 0,
              "version_major": 2
            },
            "text/plain": [
              "  0%|          | 0/29515 [00:00<?, ?it/s]"
            ]
          },
          "metadata": {}
        },
        {
          "output_type": "stream",
          "name": "stdout",
          "text": [
            "Extracting ./FashionMNIST/raw/train-labels-idx1-ubyte.gz to ./FashionMNIST/raw\n",
            "\n",
            "Downloading http://fashion-mnist.s3-website.eu-central-1.amazonaws.com/t10k-images-idx3-ubyte.gz\n",
            "Downloading http://fashion-mnist.s3-website.eu-central-1.amazonaws.com/t10k-images-idx3-ubyte.gz to ./FashionMNIST/raw/t10k-images-idx3-ubyte.gz\n"
          ]
        },
        {
          "output_type": "display_data",
          "data": {
            "application/vnd.jupyter.widget-view+json": {
              "model_id": "4c7e615e2ed4453a8258b0146cdfcd16",
              "version_minor": 0,
              "version_major": 2
            },
            "text/plain": [
              "  0%|          | 0/4422102 [00:00<?, ?it/s]"
            ]
          },
          "metadata": {}
        },
        {
          "output_type": "stream",
          "name": "stdout",
          "text": [
            "Extracting ./FashionMNIST/raw/t10k-images-idx3-ubyte.gz to ./FashionMNIST/raw\n",
            "\n",
            "Downloading http://fashion-mnist.s3-website.eu-central-1.amazonaws.com/t10k-labels-idx1-ubyte.gz\n",
            "Downloading http://fashion-mnist.s3-website.eu-central-1.amazonaws.com/t10k-labels-idx1-ubyte.gz to ./FashionMNIST/raw/t10k-labels-idx1-ubyte.gz\n"
          ]
        },
        {
          "output_type": "display_data",
          "data": {
            "application/vnd.jupyter.widget-view+json": {
              "model_id": "278ca4319e09460286039933bfab2f58",
              "version_minor": 0,
              "version_major": 2
            },
            "text/plain": [
              "  0%|          | 0/5148 [00:00<?, ?it/s]"
            ]
          },
          "metadata": {}
        },
        {
          "output_type": "stream",
          "name": "stdout",
          "text": [
            "Extracting ./FashionMNIST/raw/t10k-labels-idx1-ubyte.gz to ./FashionMNIST/raw\n",
            "\n"
          ]
        }
      ],
      "source": [
        "trainset = tv.datasets.FashionMNIST(root=\"./\", download=True,train=True,  transform=tv.transforms.Compose(\n",
        "    [tv.transforms.Resize(32), tv.transforms.ToTensor()]))\n",
        "trainloader = DataLoader(trainset, batch_size=128, shuffle=True)\n",
        "\n",
        "testset = tv.datasets.FashionMNIST(root=\"./\", download=True,train=False,  transform=tv.transforms.Compose(\n",
        "    [tv.transforms.Resize(32), tv.transforms.ToTensor()]))\n",
        "testloader = DataLoader(testset, batch_size=128, shuffle=True)"
      ]
    },
    {
      "cell_type": "markdown",
      "source": [
        "### **E) Code: Define our Base CNN (Based on VGG11), Test, Train methods**"
      ],
      "metadata": {
        "id": "o24XBil8bahy"
      }
    },
    {
      "cell_type": "code",
      "execution_count": 4,
      "metadata": {
        "id": "sfzjkgNwBNSI"
      },
      "outputs": [],
      "source": [
        "#This is an implementation of VGG11 (which is a precursor to VGG16) for mnist dataset.\n",
        "# it also takes in n, which is the number of classes. N+1 class stands for unknown. \n",
        "\n",
        "#this will let us differeniate the unlabelled data from the labelled data\n",
        "class BasicNet(nn.Module):\n",
        "    def __init__(self, n=9):\n",
        "        super(BasicNet, self).__init__()\n",
        "        self.batchNorm = [nn.BatchNorm2d(64), nn.BatchNorm2d(128),nn.BatchNorm2d(256), nn.BatchNorm2d(256),\n",
        "                          nn.BatchNorm2d(512), nn.BatchNorm2d(512), nn.BatchNorm2d(512), nn.BatchNorm2d(512)]\n",
        "        self.conv = [\n",
        "        nn.Conv2d(1, 64, 3, 1, 1) ,nn.Conv2d(64, 128, 3, 1, 1), nn.Conv2d(128, 256, 3, 1, 1), nn.Conv2d(256, 256, 3, 1, 1)\n",
        "       ,nn.Conv2d(256, 512, 3, 1, 1), nn.Conv2d(512, 512, 3, 1, 1), nn.Conv2d(512, 512, 3, 1, 1), nn.Conv2d(512, 512, 3, 1, 1)\n",
        "        ]\n",
        "        maxPool = nn.MaxPool2d(2, stride=2)\n",
        "        self.conv1 = nn.Sequential(self.conv[0], self.batchNorm[0], nn.ReLU(), maxPool)\n",
        "        self.conv2 = nn.Sequential(self.conv[1], self.batchNorm[1], nn.ReLU(), maxPool)\n",
        "        self.conv3 = nn.Sequential(self.conv[2], self.batchNorm[2], nn.ReLU())\n",
        "        self.conv4 = nn.Sequential(self.conv[3], self.batchNorm[3], nn.ReLU(), maxPool) \n",
        "        self.conv5 = nn.Sequential(self.conv[4], self.batchNorm[4], nn.ReLU())\n",
        "        self.conv6 = nn.Sequential(self.conv[5], self.batchNorm[5], nn.ReLU(), maxPool)\n",
        "        self.conv7 = nn.Sequential(self.conv[6], self.batchNorm[6], nn.ReLU()) \n",
        "        self.conv8 = nn.Sequential(self.conv[7], self.batchNorm[7], nn.ReLU(), maxPool)\n",
        "        self.fc1 = nn.Linear(512, 4096)\n",
        "        self.fc2 = nn.Linear(4096, 4096)\n",
        "        self.fc3 = nn.Linear(4096, n+1)\n",
        "        \n",
        "    def forward(self, x, feature_embedding=False):\n",
        "        dropOut = nn.Dropout(p=0.5)\n",
        "\n",
        "        x = self.conv1(x)\n",
        "        x = self.conv2(x)\n",
        "        x = self.conv3(x)\n",
        "        x = self.conv4(x)\n",
        "        x = self.conv5(x)\n",
        "        x = self.conv6(x)\n",
        "        x = self.conv7(x)\n",
        "        x = self.conv8(x)\n",
        "        x = torch.flatten(x, 1)\n",
        "        \n",
        "        x = dropOut(F.relu(self.fc1(x)))\n",
        "        x = dropOut(F.relu(self.fc2(x)))\n",
        "        if(feature_embedding):\n",
        "          return x\n",
        "        #Not sure why this works without softmax. probably a reasoning givin in the paper (cause the output can range from anything (not normalized to a 0-1 probability range))\n",
        "        x = self.fc3(x)\n",
        "        return x"
      ]
    },
    {
      "cell_type": "code",
      "execution_count": 5,
      "metadata": {
        "id": "7ZUIoIjzBNSL"
      },
      "outputs": [],
      "source": [
        "def test(data, net):\n",
        "    net.eval()\n",
        "    loss_func = nn.CrossEntropyLoss()\n",
        "\n",
        "    total_correct = 0\n",
        "    total_loss = 0\n",
        "    with torch.no_grad():\n",
        "        correct = 0\n",
        "        total = 0\n",
        "        for i, (images, labels) in enumerate(data):\n",
        "            images= images.to(dev)\n",
        "            labels = labels.to(dev)\n",
        "            test_pred = net(images)\n",
        "\n",
        "            pred = torch.max(test_pred, 1)[1].data.squeeze()\n",
        "            total_correct+= (pred == labels).sum().item()\n",
        "            loss = loss_func( test_pred, labels)\n",
        "            total_loss+= loss.item()*images.size(0)\n",
        "        # return total_correct/len(data.dataset), total_loss/len(data.dataset)\n",
        "        # Note From Lance: We shouldn't divide the total loss\n",
        "        return total_correct/len(data.dataset), total_loss\n",
        "  \n",
        "def train(num_epochs, net, trainloader):\n",
        "    optimizer = optim.SGD(net.parameters(), lr=0.01)\n",
        "    loss_func = nn.CrossEntropyLoss()\n",
        "\n",
        "    accuracy_through_epochs = []\n",
        "    total_step = len(trainloader)\n",
        "    \n",
        "    for epoch in range(num_epochs):\n",
        "        net.train()\n",
        "        for i, (images, labels) in enumerate(trainloader):\n",
        "            images= images.to(dev)\n",
        "            labels = labels.to(dev)\n",
        "            optimizer.zero_grad()           \n",
        "            prediction = net(images)\n",
        "            loss = loss_func( prediction, labels)\n",
        "            loss.backward()\n",
        "            optimizer.step()\n",
        "            if ((i +1) % 100 == 0):\n",
        "                print(f\"Epoch {epoch+1} / {num_epochs}, Step {i+1}/ {total_step} , Loss {loss.item()}\")\n",
        "\n",
        "    return accuracy_through_epochs, net"
      ]
    },
    {
      "cell_type": "markdown",
      "source": [
        "### **E) Code: Split Fashion MNIST training data into M labeled images, and N-M unlabeled**"
      ],
      "metadata": {
        "id": "NK6JVE0UGfF8"
      }
    },
    {
      "cell_type": "code",
      "source": [
        "#Modifies dataset in place to only have values correspounding to the labels in classesToUse\n",
        "def splitTrainingData(training_data, M_percent):\n",
        "  # N is len(training_data)\n",
        "  len_N = len(trainset)\n",
        "\n",
        "  # M is the number of labeled images we want\n",
        "  len_M = int(M_percent*len_N)\n",
        "  \n",
        "  labeled_data, unlabeled_data = torch.utils.data.random_split(trainset, [len_M, len_N - len_M])\n",
        "\n",
        "  # strip the labels from unlabeled_data\n",
        "  # unlabeled_data.dataset.targets[unlabeled_data.indices] = UNKNOWN_CLASS\n",
        "\n",
        "  labeled_data_loader = DataLoader(labeled_data, batch_size=128, shuffle=True)\n",
        "  unlabeled_data_loader = DataLoader(unlabeled_data, batch_size=128, shuffle=True)\n",
        "\n",
        "  return labeled_data_loader, unlabeled_data_loader, labeled_data, unlabeled_data\n"
      ],
      "metadata": {
        "id": "HaaxUxtcGppA"
      },
      "execution_count": 6,
      "outputs": []
    },
    {
      "cell_type": "code",
      "source": [
        "labeled_train_loader, unlabeled_train_loader, labeled_train_data, unlabeled_train_data = splitTrainingData(trainset, 0.7)"
      ],
      "metadata": {
        "id": "GaNdStKMkQun"
      },
      "execution_count": 7,
      "outputs": []
    },
    {
      "cell_type": "markdown",
      "source": [
        "### **E) Code: Train Base CNN on M labeled training images**"
      ],
      "metadata": {
        "id": "iPnEeZO5chxW"
      }
    },
    {
      "cell_type": "code",
      "execution_count": 8,
      "metadata": {
        "colab": {
          "base_uri": "https://localhost:8080/",
          "height": 0
        },
        "id": "-Q4oP9MOBNSN",
        "outputId": "d7ab74a8-6779-4437-919c-e5920ade5d0c"
      },
      "outputs": [
        {
          "output_type": "stream",
          "name": "stdout",
          "text": [
            "Epoch 1 / 6, Step 100/ 329 , Loss 0.6828718781471252\n",
            "Epoch 1 / 6, Step 200/ 329 , Loss 0.47804054617881775\n",
            "Epoch 1 / 6, Step 300/ 329 , Loss 0.40134626626968384\n",
            "Epoch 2 / 6, Step 100/ 329 , Loss 0.37585675716400146\n",
            "Epoch 2 / 6, Step 200/ 329 , Loss 0.3031570613384247\n",
            "Epoch 2 / 6, Step 300/ 329 , Loss 0.373841792345047\n",
            "Epoch 3 / 6, Step 100/ 329 , Loss 0.32098811864852905\n",
            "Epoch 3 / 6, Step 200/ 329 , Loss 0.21730278432369232\n",
            "Epoch 3 / 6, Step 300/ 329 , Loss 0.26121917366981506\n",
            "Epoch 4 / 6, Step 100/ 329 , Loss 0.19734835624694824\n",
            "Epoch 4 / 6, Step 200/ 329 , Loss 0.2539602518081665\n",
            "Epoch 4 / 6, Step 300/ 329 , Loss 0.133433535695076\n",
            "Epoch 5 / 6, Step 100/ 329 , Loss 0.12897323071956635\n",
            "Epoch 5 / 6, Step 200/ 329 , Loss 0.11996403336524963\n",
            "Epoch 5 / 6, Step 300/ 329 , Loss 0.09864490479230881\n",
            "Epoch 6 / 6, Step 100/ 329 , Loss 0.06661185622215271\n",
            "Epoch 6 / 6, Step 200/ 329 , Loss 0.25596892833709717\n",
            "Epoch 6 / 6, Step 300/ 329 , Loss 0.24074405431747437\n"
          ]
        }
      ],
      "source": [
        "net = BasicNet()\n",
        "net.to(dev)\n",
        "result, trained_net = train(NUM_EPOCHS, net, labeled_train_loader)"
      ]
    },
    {
      "cell_type": "markdown",
      "source": [
        "### **E) Code: Use the 'semi' trained CNN to gain important features (feature embedings) of N-M *unlabeled* training images**"
      ],
      "metadata": {
        "id": "JgorThJ9GTSZ"
      }
    },
    {
      "cell_type": "code",
      "source": [
        "#do this to store the results in 1 numpy array of 10000 images vs like 20 batches of size 128 images. \n",
        "#get memory error when doing it on a batch of size len(trainloader), so we have to combine the results for trainloader\n",
        "\n",
        "def getFeatureEmbedings(dataloader):\n",
        "  featureEmbed = []\n",
        "  predictedDigit = []\n",
        "\n",
        "  with torch.no_grad():\n",
        "    for i, (images, labels) in enumerate(dataloader):\n",
        "        images= images.to(dev)\n",
        "        labels = labels.to(dev)\n",
        "        featureEmbed.append(net(images, feature_embedding=True).to(\"cpu\").numpy())\n",
        "        pred = net(images)\n",
        "        predictedDigit.append(torch.max(pred, 1)[1].data.squeeze().to(\"cpu\").numpy())\n",
        "\n",
        "  # flatten lists\n",
        "  featureEmbed = np.array(list(itertools.chain(*featureEmbed)))\n",
        "  predictedDigit = np.array(list(itertools.chain(*predictedDigit)))\n",
        "\n",
        "  return featureEmbed, predictedDigit"
      ],
      "metadata": {
        "id": "Cay1LKG1dCgt"
      },
      "execution_count": 9,
      "outputs": []
    },
    {
      "cell_type": "code",
      "source": [
        "# We need the data with the labels\n",
        "trainFeatureEmbed, trainPredictedDigit = getFeatureEmbedings(trainloader)"
      ],
      "metadata": {
        "id": "RXoE9MVsncaB"
      },
      "execution_count": 10,
      "outputs": []
    },
    {
      "cell_type": "markdown",
      "source": [
        "### **E) Code: Train Cluster methods on all train images**"
      ],
      "metadata": {
        "id": "yuce7pGtG0qa"
      }
    },
    {
      "cell_type": "code",
      "execution_count": 11,
      "metadata": {
        "id": "PsyJRDl2BNSO",
        "colab": {
          "base_uri": "https://localhost:8080/",
          "height": 0
        },
        "outputId": "a9daa76a-4c56-4ea3-bd34-fe404793f6ae"
      },
      "outputs": [
        {
          "output_type": "execute_result",
          "data": {
            "text/plain": [
              "MiniBatchKMeans(n_clusters=30)"
            ]
          },
          "metadata": {},
          "execution_count": 11
        }
      ],
      "source": [
        "from sklearn.cluster import MiniBatchKMeans\n",
        "\n",
        "kmeans = MiniBatchKMeans(n_clusters = NUM_CLUSTERS)\n",
        "kmeans.fit(trainFeatureEmbed)"
      ]
    },
    {
      "cell_type": "markdown",
      "source": [
        "### **E) Code: Assign labels to unlabeled images**"
      ],
      "metadata": {
        "id": "cP92A4A4FnBo"
      }
    },
    {
      "cell_type": "code",
      "source": [
        "#In order to see how well k-means did we can use this supervised method of defining what a cluster is by seting the cluster label as the most common digits in that cluster\n",
        "#unsupervised approaches include: manually selecting class depending on mean image\n",
        "def retrieve_cluster_to_classification(cluster_labels,y_train):\n",
        "  reference_labels = {}\n",
        "# For loop to run through each label of cluster label\n",
        "  for i in range(len(np.unique(kmeans.labels_))):\n",
        "    index = np.where(cluster_labels == i,1,0)\n",
        "    # we only read 0:NUM_CLASSES so we dont read the unknown labels\n",
        "    num = np.bincount(y_train[index==1])[:NUM_CLASSES].argmax()\n",
        "    reference_labels[i] = num\n",
        "    # TODO: Right now the refrence label just maps to the majority label, should we also consider the 2nd and 3rd highest\n",
        "  return reference_labels"
      ],
      "metadata": {
        "id": "N4J6Y94UyRci"
      },
      "execution_count": 12,
      "outputs": []
    },
    {
      "cell_type": "code",
      "source": [
        "trainset.targets.max()"
      ],
      "metadata": {
        "id": "9nQ10rgJX-vR",
        "colab": {
          "base_uri": "https://localhost:8080/",
          "height": 0
        },
        "outputId": "e5783f95-749f-49c2-f828-be4842140561"
      },
      "execution_count": 13,
      "outputs": [
        {
          "output_type": "execute_result",
          "data": {
            "text/plain": [
              "tensor(9)"
            ]
          },
          "metadata": {},
          "execution_count": 13
        }
      ]
    },
    {
      "cell_type": "markdown",
      "source": [
        "### **E) Code: Define validation functions a) cluster final, b) retrained CNN**\n",
        "\n"
      ],
      "metadata": {
        "id": "cJ91J2ujyL0Y"
      }
    },
    {
      "cell_type": "code",
      "source": [
        "def cluster_final_classifier_validation(train_dataset, my_labeled_trainset, my_unlabeled_trainset, unlabeled_train_loader, cluster_method):\n",
        "  \n",
        "  # remove all unlabeled labels from main training set, set them to NUM_CLASSES\n",
        "  train_targets = np.array(train_dataset.targets.numpy(), copy=True)  \n",
        "  train_targets[my_unlabeled_trainset.indices] = NUM_CLASSES\n",
        "  \n",
        "  # mapping from NUM_CLUSTERS to FASHION_MNIST classes\n",
        "  reference_labels = retrieve_cluster_to_classification(\n",
        "      cluster_method.labels_, \n",
        "      train_targets\n",
        "  )\n",
        "  \n",
        "  unlabelTrainFeatureEmbed, _ = getFeatureEmbedings(unlabeled_train_loader)\n",
        "\n",
        "  # Assign new labels\n",
        "  predicted_test = cluster_method.predict(unlabelTrainFeatureEmbed)\n",
        "  for i in range(unlabelTrainFeatureEmbed.shape[0]):\n",
        "    my_labeled_trainset.dataset.targets[my_labeled_trainset.indices[i]] = reference_labels[predicted_test[i]]\n",
        "\n",
        "  new_combined_data = torch.utils.data.ConcatDataset([my_labeled_trainset, my_unlabeled_trainset])\n",
        "  new_combined_data_loader = DataLoader(new_combined_data, batch_size=128, shuffle=True)\n",
        "  retrained_net = BasicNet()\n",
        "  retrained_net.to(dev)\n",
        "  result, retrained_net = train(NUM_EPOCHS, retrained_net, new_combined_data_loader)\n",
        "  return retrained_net\n",
        "\n"
      ],
      "metadata": {
        "id": "xwS6S-FokaZJ"
      },
      "execution_count": 14,
      "outputs": []
    },
    {
      "cell_type": "markdown",
      "source": [
        "#**Experiments**\n"
      ],
      "metadata": {
        "id": "KjveyCWCmUnH"
      }
    },
    {
      "cell_type": "code",
      "source": [
        ""
      ],
      "metadata": {
        "id": "z82OGYAGb80N"
      },
      "execution_count": null,
      "outputs": []
    },
    {
      "cell_type": "markdown",
      "source": [
        "#**Results**\n"
      ],
      "metadata": {
        "id": "JGBSP5TXBiGv"
      }
    },
    {
      "cell_type": "markdown",
      "source": [
        "###First we will look at the baseline results from the CNN trained on M labeled images"
      ],
      "metadata": {
        "id": "fnVfGL5oZU3x"
      }
    },
    {
      "cell_type": "code",
      "source": [
        "testFeatureEmbed, _ = getFeatureEmbedings(testloader)"
      ],
      "metadata": {
        "id": "9IKInqSi6C1S"
      },
      "execution_count": 15,
      "outputs": []
    },
    {
      "cell_type": "code",
      "source": [
        "baseline_accuracy, loss = test(testloader, net)\n",
        "print(f\"Our accuracy with just the CNN is: {baseline_accuracy} on test set from training on trainset\" )"
      ],
      "metadata": {
        "id": "pH2XADkWZSER",
        "colab": {
          "base_uri": "https://localhost:8080/",
          "height": 0
        },
        "outputId": "77a5a2ab-55da-48e2-ebd8-6cc51cec8bc6"
      },
      "execution_count": 16,
      "outputs": [
        {
          "output_type": "stream",
          "name": "stdout",
          "text": [
            "Our accuracy with just the CNN is: 0.8467 on test set from training on trainset\n"
          ]
        }
      ]
    },
    {
      "cell_type": "markdown",
      "source": [
        "### Next we will look at all the other methods\n"
      ],
      "metadata": {
        "id": "vJ2rkCOdZUPs"
      }
    },
    {
      "cell_type": "code",
      "source": [
        "retrained_net_kmeans_70_label_30_not = cluster_final_classifier_validation(trainset, labeled_train_data, unlabeled_train_data, unlabeled_train_loader, kmeans)\n",
        "# print(f\"Our accuracy with kmeans is: {accuracy} on test set from training on trainset\" )"
      ],
      "metadata": {
        "id": "zVMCQKfNkb38",
        "colab": {
          "base_uri": "https://localhost:8080/",
          "height": 0
        },
        "outputId": "11656f85-f1e7-4e9d-b219-abccf2d80d10"
      },
      "execution_count": 17,
      "outputs": [
        {
          "output_type": "stream",
          "name": "stdout",
          "text": [
            "Epoch 1 / 6, Step 100/ 469 , Loss 1.4707311391830444\n",
            "Epoch 1 / 6, Step 200/ 469 , Loss 1.299188256263733\n",
            "Epoch 1 / 6, Step 300/ 469 , Loss 1.1469978094100952\n",
            "Epoch 1 / 6, Step 400/ 469 , Loss 1.422230839729309\n",
            "Epoch 2 / 6, Step 100/ 469 , Loss 1.0700477361679077\n",
            "Epoch 2 / 6, Step 200/ 469 , Loss 1.3120163679122925\n",
            "Epoch 2 / 6, Step 300/ 469 , Loss 1.3057096004486084\n",
            "Epoch 2 / 6, Step 400/ 469 , Loss 1.2756646871566772\n",
            "Epoch 3 / 6, Step 100/ 469 , Loss 1.1084754467010498\n",
            "Epoch 3 / 6, Step 200/ 469 , Loss 0.99723219871521\n",
            "Epoch 3 / 6, Step 300/ 469 , Loss 1.1537357568740845\n",
            "Epoch 3 / 6, Step 400/ 469 , Loss 0.9869937300682068\n",
            "Epoch 4 / 6, Step 100/ 469 , Loss 1.0966012477874756\n",
            "Epoch 4 / 6, Step 200/ 469 , Loss 1.1488428115844727\n",
            "Epoch 4 / 6, Step 300/ 469 , Loss 1.31714928150177\n",
            "Epoch 4 / 6, Step 400/ 469 , Loss 1.0298223495483398\n",
            "Epoch 5 / 6, Step 100/ 469 , Loss 1.1900196075439453\n",
            "Epoch 5 / 6, Step 200/ 469 , Loss 1.1190471649169922\n",
            "Epoch 5 / 6, Step 300/ 469 , Loss 1.049065113067627\n",
            "Epoch 5 / 6, Step 400/ 469 , Loss 1.1531866788864136\n",
            "Epoch 6 / 6, Step 100/ 469 , Loss 1.0358881950378418\n",
            "Epoch 6 / 6, Step 200/ 469 , Loss 1.0245177745819092\n",
            "Epoch 6 / 6, Step 300/ 469 , Loss 1.1279971599578857\n",
            "Epoch 6 / 6, Step 400/ 469 , Loss 1.0865570306777954\n"
          ]
        }
      ]
    },
    {
      "cell_type": "code",
      "source": [
        "accuracy_70_label_30_not, loss = test(testloader, retrained_net)\n",
        "print(f\"Our accuracy with the CNN and Kmeans clustering with 70% labeled, 30% unlabeled is: {accuracy_70_label_30_not} on test set from training on trainset\" )"
      ],
      "metadata": {
        "id": "IvzHxZpzC9tw",
        "colab": {
          "base_uri": "https://localhost:8080/",
          "height": 0
        },
        "outputId": "51d0b5ca-60e9-4130-e64c-b87b043447df"
      },
      "execution_count": 18,
      "outputs": [
        {
          "output_type": "stream",
          "name": "stdout",
          "text": [
            "Our accuracy with just the CNN is: 0.8854 on test set from training on trainset\n"
          ]
        }
      ]
    },
    {
      "cell_type": "markdown",
      "source": [
        "#**Conclusions**\n",
        "\n",
        "- We found that the most useful ratio of M/N which was 30% labeled, 70% unlabeled yieled\n",
        "- This compared to 50:50\n",
        "- Compared to 70% labeled, 30% unlabeled"
      ],
      "metadata": {
        "id": "1GxL84V_Rv82"
      }
    }
  ],
  "metadata": {
    "kernelspec": {
      "display_name": "Python 3",
      "language": "python",
      "name": "python3"
    },
    "language_info": {
      "codemirror_mode": {
        "name": "ipython",
        "version": 3
      },
      "file_extension": ".py",
      "mimetype": "text/x-python",
      "name": "python",
      "nbconvert_exporter": "python",
      "pygments_lexer": "ipython3",
      "version": "3.7.4"
    },
    "colab": {
      "name": "Copy of cs484 proj.ipynb",
      "provenance": [],
      "collapsed_sections": [],
      "include_colab_link": true
    },
    "accelerator": "GPU",
    "widgets": {
      "application/vnd.jupyter.widget-state+json": {
        "a27ec775fb134cf19630503efc5aaf0b": {
          "model_module": "@jupyter-widgets/controls",
          "model_name": "HBoxModel",
          "model_module_version": "1.5.0",
          "state": {
            "_view_name": "HBoxView",
            "_dom_classes": [],
            "_model_name": "HBoxModel",
            "_view_module": "@jupyter-widgets/controls",
            "_model_module_version": "1.5.0",
            "_view_count": null,
            "_view_module_version": "1.5.0",
            "box_style": "",
            "layout": "IPY_MODEL_b39128a78439408c9e3b76c1fa48d601",
            "_model_module": "@jupyter-widgets/controls",
            "children": [
              "IPY_MODEL_bad00cf2384d436f8422c345eadca3c9",
              "IPY_MODEL_efc153b099da434ba47afa69f93bbc80",
              "IPY_MODEL_87ee6b320b59467b8f00b6080da89eb3"
            ]
          }
        },
        "b39128a78439408c9e3b76c1fa48d601": {
          "model_module": "@jupyter-widgets/base",
          "model_name": "LayoutModel",
          "model_module_version": "1.2.0",
          "state": {
            "_view_name": "LayoutView",
            "grid_template_rows": null,
            "right": null,
            "justify_content": null,
            "_view_module": "@jupyter-widgets/base",
            "overflow": null,
            "_model_module_version": "1.2.0",
            "_view_count": null,
            "flex_flow": null,
            "width": null,
            "min_width": null,
            "border": null,
            "align_items": null,
            "bottom": null,
            "_model_module": "@jupyter-widgets/base",
            "top": null,
            "grid_column": null,
            "overflow_y": null,
            "overflow_x": null,
            "grid_auto_flow": null,
            "grid_area": null,
            "grid_template_columns": null,
            "flex": null,
            "_model_name": "LayoutModel",
            "justify_items": null,
            "grid_row": null,
            "max_height": null,
            "align_content": null,
            "visibility": null,
            "align_self": null,
            "height": null,
            "min_height": null,
            "padding": null,
            "grid_auto_rows": null,
            "grid_gap": null,
            "max_width": null,
            "order": null,
            "_view_module_version": "1.2.0",
            "grid_template_areas": null,
            "object_position": null,
            "object_fit": null,
            "grid_auto_columns": null,
            "margin": null,
            "display": null,
            "left": null
          }
        },
        "bad00cf2384d436f8422c345eadca3c9": {
          "model_module": "@jupyter-widgets/controls",
          "model_name": "HTMLModel",
          "model_module_version": "1.5.0",
          "state": {
            "_view_name": "HTMLView",
            "style": "IPY_MODEL_7a3dd1e762f344e4a236f05819d910d1",
            "_dom_classes": [],
            "description": "",
            "_model_name": "HTMLModel",
            "placeholder": "​",
            "_view_module": "@jupyter-widgets/controls",
            "_model_module_version": "1.5.0",
            "value": "",
            "_view_count": null,
            "_view_module_version": "1.5.0",
            "description_tooltip": null,
            "_model_module": "@jupyter-widgets/controls",
            "layout": "IPY_MODEL_67853e31b48b4a4fb31dbba34ccdf3d2"
          }
        },
        "efc153b099da434ba47afa69f93bbc80": {
          "model_module": "@jupyter-widgets/controls",
          "model_name": "FloatProgressModel",
          "model_module_version": "1.5.0",
          "state": {
            "_view_name": "ProgressView",
            "style": "IPY_MODEL_b5a6bca8f8f149d589aab0bbfed52981",
            "_dom_classes": [],
            "description": "",
            "_model_name": "FloatProgressModel",
            "bar_style": "success",
            "max": 26421880,
            "_view_module": "@jupyter-widgets/controls",
            "_model_module_version": "1.5.0",
            "value": 26421880,
            "_view_count": null,
            "_view_module_version": "1.5.0",
            "orientation": "horizontal",
            "min": 0,
            "description_tooltip": null,
            "_model_module": "@jupyter-widgets/controls",
            "layout": "IPY_MODEL_bb443ed37904422d9007f1f8719016e6"
          }
        },
        "87ee6b320b59467b8f00b6080da89eb3": {
          "model_module": "@jupyter-widgets/controls",
          "model_name": "HTMLModel",
          "model_module_version": "1.5.0",
          "state": {
            "_view_name": "HTMLView",
            "style": "IPY_MODEL_af4d931de38b4ecd839fd794f79216ac",
            "_dom_classes": [],
            "description": "",
            "_model_name": "HTMLModel",
            "placeholder": "​",
            "_view_module": "@jupyter-widgets/controls",
            "_model_module_version": "1.5.0",
            "value": " 26422272/? [00:02&lt;00:00, 17702422.66it/s]",
            "_view_count": null,
            "_view_module_version": "1.5.0",
            "description_tooltip": null,
            "_model_module": "@jupyter-widgets/controls",
            "layout": "IPY_MODEL_cc86a0ce030f4b48a4d1612693055c71"
          }
        },
        "7a3dd1e762f344e4a236f05819d910d1": {
          "model_module": "@jupyter-widgets/controls",
          "model_name": "DescriptionStyleModel",
          "model_module_version": "1.5.0",
          "state": {
            "_view_name": "StyleView",
            "_model_name": "DescriptionStyleModel",
            "description_width": "",
            "_view_module": "@jupyter-widgets/base",
            "_model_module_version": "1.5.0",
            "_view_count": null,
            "_view_module_version": "1.2.0",
            "_model_module": "@jupyter-widgets/controls"
          }
        },
        "67853e31b48b4a4fb31dbba34ccdf3d2": {
          "model_module": "@jupyter-widgets/base",
          "model_name": "LayoutModel",
          "model_module_version": "1.2.0",
          "state": {
            "_view_name": "LayoutView",
            "grid_template_rows": null,
            "right": null,
            "justify_content": null,
            "_view_module": "@jupyter-widgets/base",
            "overflow": null,
            "_model_module_version": "1.2.0",
            "_view_count": null,
            "flex_flow": null,
            "width": null,
            "min_width": null,
            "border": null,
            "align_items": null,
            "bottom": null,
            "_model_module": "@jupyter-widgets/base",
            "top": null,
            "grid_column": null,
            "overflow_y": null,
            "overflow_x": null,
            "grid_auto_flow": null,
            "grid_area": null,
            "grid_template_columns": null,
            "flex": null,
            "_model_name": "LayoutModel",
            "justify_items": null,
            "grid_row": null,
            "max_height": null,
            "align_content": null,
            "visibility": null,
            "align_self": null,
            "height": null,
            "min_height": null,
            "padding": null,
            "grid_auto_rows": null,
            "grid_gap": null,
            "max_width": null,
            "order": null,
            "_view_module_version": "1.2.0",
            "grid_template_areas": null,
            "object_position": null,
            "object_fit": null,
            "grid_auto_columns": null,
            "margin": null,
            "display": null,
            "left": null
          }
        },
        "b5a6bca8f8f149d589aab0bbfed52981": {
          "model_module": "@jupyter-widgets/controls",
          "model_name": "ProgressStyleModel",
          "model_module_version": "1.5.0",
          "state": {
            "_view_name": "StyleView",
            "_model_name": "ProgressStyleModel",
            "description_width": "",
            "_view_module": "@jupyter-widgets/base",
            "_model_module_version": "1.5.0",
            "_view_count": null,
            "_view_module_version": "1.2.0",
            "bar_color": null,
            "_model_module": "@jupyter-widgets/controls"
          }
        },
        "bb443ed37904422d9007f1f8719016e6": {
          "model_module": "@jupyter-widgets/base",
          "model_name": "LayoutModel",
          "model_module_version": "1.2.0",
          "state": {
            "_view_name": "LayoutView",
            "grid_template_rows": null,
            "right": null,
            "justify_content": null,
            "_view_module": "@jupyter-widgets/base",
            "overflow": null,
            "_model_module_version": "1.2.0",
            "_view_count": null,
            "flex_flow": null,
            "width": null,
            "min_width": null,
            "border": null,
            "align_items": null,
            "bottom": null,
            "_model_module": "@jupyter-widgets/base",
            "top": null,
            "grid_column": null,
            "overflow_y": null,
            "overflow_x": null,
            "grid_auto_flow": null,
            "grid_area": null,
            "grid_template_columns": null,
            "flex": null,
            "_model_name": "LayoutModel",
            "justify_items": null,
            "grid_row": null,
            "max_height": null,
            "align_content": null,
            "visibility": null,
            "align_self": null,
            "height": null,
            "min_height": null,
            "padding": null,
            "grid_auto_rows": null,
            "grid_gap": null,
            "max_width": null,
            "order": null,
            "_view_module_version": "1.2.0",
            "grid_template_areas": null,
            "object_position": null,
            "object_fit": null,
            "grid_auto_columns": null,
            "margin": null,
            "display": null,
            "left": null
          }
        },
        "af4d931de38b4ecd839fd794f79216ac": {
          "model_module": "@jupyter-widgets/controls",
          "model_name": "DescriptionStyleModel",
          "model_module_version": "1.5.0",
          "state": {
            "_view_name": "StyleView",
            "_model_name": "DescriptionStyleModel",
            "description_width": "",
            "_view_module": "@jupyter-widgets/base",
            "_model_module_version": "1.5.0",
            "_view_count": null,
            "_view_module_version": "1.2.0",
            "_model_module": "@jupyter-widgets/controls"
          }
        },
        "cc86a0ce030f4b48a4d1612693055c71": {
          "model_module": "@jupyter-widgets/base",
          "model_name": "LayoutModel",
          "model_module_version": "1.2.0",
          "state": {
            "_view_name": "LayoutView",
            "grid_template_rows": null,
            "right": null,
            "justify_content": null,
            "_view_module": "@jupyter-widgets/base",
            "overflow": null,
            "_model_module_version": "1.2.0",
            "_view_count": null,
            "flex_flow": null,
            "width": null,
            "min_width": null,
            "border": null,
            "align_items": null,
            "bottom": null,
            "_model_module": "@jupyter-widgets/base",
            "top": null,
            "grid_column": null,
            "overflow_y": null,
            "overflow_x": null,
            "grid_auto_flow": null,
            "grid_area": null,
            "grid_template_columns": null,
            "flex": null,
            "_model_name": "LayoutModel",
            "justify_items": null,
            "grid_row": null,
            "max_height": null,
            "align_content": null,
            "visibility": null,
            "align_self": null,
            "height": null,
            "min_height": null,
            "padding": null,
            "grid_auto_rows": null,
            "grid_gap": null,
            "max_width": null,
            "order": null,
            "_view_module_version": "1.2.0",
            "grid_template_areas": null,
            "object_position": null,
            "object_fit": null,
            "grid_auto_columns": null,
            "margin": null,
            "display": null,
            "left": null
          }
        },
        "6a15bbda893f48b6a2e7741c8c6fb7a9": {
          "model_module": "@jupyter-widgets/controls",
          "model_name": "HBoxModel",
          "model_module_version": "1.5.0",
          "state": {
            "_view_name": "HBoxView",
            "_dom_classes": [],
            "_model_name": "HBoxModel",
            "_view_module": "@jupyter-widgets/controls",
            "_model_module_version": "1.5.0",
            "_view_count": null,
            "_view_module_version": "1.5.0",
            "box_style": "",
            "layout": "IPY_MODEL_77f4b9c5fc144dc1a015ca98990c7b49",
            "_model_module": "@jupyter-widgets/controls",
            "children": [
              "IPY_MODEL_ae424fb8b02d472d9e1dbfc8f4f69e22",
              "IPY_MODEL_c795f46ce549449ba802700d44173a43",
              "IPY_MODEL_72d4acacee07430d96f8efab1e2c1d4f"
            ]
          }
        },
        "77f4b9c5fc144dc1a015ca98990c7b49": {
          "model_module": "@jupyter-widgets/base",
          "model_name": "LayoutModel",
          "model_module_version": "1.2.0",
          "state": {
            "_view_name": "LayoutView",
            "grid_template_rows": null,
            "right": null,
            "justify_content": null,
            "_view_module": "@jupyter-widgets/base",
            "overflow": null,
            "_model_module_version": "1.2.0",
            "_view_count": null,
            "flex_flow": null,
            "width": null,
            "min_width": null,
            "border": null,
            "align_items": null,
            "bottom": null,
            "_model_module": "@jupyter-widgets/base",
            "top": null,
            "grid_column": null,
            "overflow_y": null,
            "overflow_x": null,
            "grid_auto_flow": null,
            "grid_area": null,
            "grid_template_columns": null,
            "flex": null,
            "_model_name": "LayoutModel",
            "justify_items": null,
            "grid_row": null,
            "max_height": null,
            "align_content": null,
            "visibility": null,
            "align_self": null,
            "height": null,
            "min_height": null,
            "padding": null,
            "grid_auto_rows": null,
            "grid_gap": null,
            "max_width": null,
            "order": null,
            "_view_module_version": "1.2.0",
            "grid_template_areas": null,
            "object_position": null,
            "object_fit": null,
            "grid_auto_columns": null,
            "margin": null,
            "display": null,
            "left": null
          }
        },
        "ae424fb8b02d472d9e1dbfc8f4f69e22": {
          "model_module": "@jupyter-widgets/controls",
          "model_name": "HTMLModel",
          "model_module_version": "1.5.0",
          "state": {
            "_view_name": "HTMLView",
            "style": "IPY_MODEL_1fe9aaa98b1240f09579151d9cd42fa5",
            "_dom_classes": [],
            "description": "",
            "_model_name": "HTMLModel",
            "placeholder": "​",
            "_view_module": "@jupyter-widgets/controls",
            "_model_module_version": "1.5.0",
            "value": "",
            "_view_count": null,
            "_view_module_version": "1.5.0",
            "description_tooltip": null,
            "_model_module": "@jupyter-widgets/controls",
            "layout": "IPY_MODEL_4b79fb292a3f4bc8ae9d6352d42ca12b"
          }
        },
        "c795f46ce549449ba802700d44173a43": {
          "model_module": "@jupyter-widgets/controls",
          "model_name": "FloatProgressModel",
          "model_module_version": "1.5.0",
          "state": {
            "_view_name": "ProgressView",
            "style": "IPY_MODEL_cd0d1c6ce26647f79817482ae8279e4d",
            "_dom_classes": [],
            "description": "",
            "_model_name": "FloatProgressModel",
            "bar_style": "success",
            "max": 29515,
            "_view_module": "@jupyter-widgets/controls",
            "_model_module_version": "1.5.0",
            "value": 29515,
            "_view_count": null,
            "_view_module_version": "1.5.0",
            "orientation": "horizontal",
            "min": 0,
            "description_tooltip": null,
            "_model_module": "@jupyter-widgets/controls",
            "layout": "IPY_MODEL_8c22265e89c54a1bbb57114206c67b6e"
          }
        },
        "72d4acacee07430d96f8efab1e2c1d4f": {
          "model_module": "@jupyter-widgets/controls",
          "model_name": "HTMLModel",
          "model_module_version": "1.5.0",
          "state": {
            "_view_name": "HTMLView",
            "style": "IPY_MODEL_aab6e0d398ad4a57aea32ef3a247a16f",
            "_dom_classes": [],
            "description": "",
            "_model_name": "HTMLModel",
            "placeholder": "​",
            "_view_module": "@jupyter-widgets/controls",
            "_model_module_version": "1.5.0",
            "value": " 29696/? [00:00&lt;00:00, 89216.88it/s]",
            "_view_count": null,
            "_view_module_version": "1.5.0",
            "description_tooltip": null,
            "_model_module": "@jupyter-widgets/controls",
            "layout": "IPY_MODEL_90d892797f97485d8148d81c4d52f1dd"
          }
        },
        "1fe9aaa98b1240f09579151d9cd42fa5": {
          "model_module": "@jupyter-widgets/controls",
          "model_name": "DescriptionStyleModel",
          "model_module_version": "1.5.0",
          "state": {
            "_view_name": "StyleView",
            "_model_name": "DescriptionStyleModel",
            "description_width": "",
            "_view_module": "@jupyter-widgets/base",
            "_model_module_version": "1.5.0",
            "_view_count": null,
            "_view_module_version": "1.2.0",
            "_model_module": "@jupyter-widgets/controls"
          }
        },
        "4b79fb292a3f4bc8ae9d6352d42ca12b": {
          "model_module": "@jupyter-widgets/base",
          "model_name": "LayoutModel",
          "model_module_version": "1.2.0",
          "state": {
            "_view_name": "LayoutView",
            "grid_template_rows": null,
            "right": null,
            "justify_content": null,
            "_view_module": "@jupyter-widgets/base",
            "overflow": null,
            "_model_module_version": "1.2.0",
            "_view_count": null,
            "flex_flow": null,
            "width": null,
            "min_width": null,
            "border": null,
            "align_items": null,
            "bottom": null,
            "_model_module": "@jupyter-widgets/base",
            "top": null,
            "grid_column": null,
            "overflow_y": null,
            "overflow_x": null,
            "grid_auto_flow": null,
            "grid_area": null,
            "grid_template_columns": null,
            "flex": null,
            "_model_name": "LayoutModel",
            "justify_items": null,
            "grid_row": null,
            "max_height": null,
            "align_content": null,
            "visibility": null,
            "align_self": null,
            "height": null,
            "min_height": null,
            "padding": null,
            "grid_auto_rows": null,
            "grid_gap": null,
            "max_width": null,
            "order": null,
            "_view_module_version": "1.2.0",
            "grid_template_areas": null,
            "object_position": null,
            "object_fit": null,
            "grid_auto_columns": null,
            "margin": null,
            "display": null,
            "left": null
          }
        },
        "cd0d1c6ce26647f79817482ae8279e4d": {
          "model_module": "@jupyter-widgets/controls",
          "model_name": "ProgressStyleModel",
          "model_module_version": "1.5.0",
          "state": {
            "_view_name": "StyleView",
            "_model_name": "ProgressStyleModel",
            "description_width": "",
            "_view_module": "@jupyter-widgets/base",
            "_model_module_version": "1.5.0",
            "_view_count": null,
            "_view_module_version": "1.2.0",
            "bar_color": null,
            "_model_module": "@jupyter-widgets/controls"
          }
        },
        "8c22265e89c54a1bbb57114206c67b6e": {
          "model_module": "@jupyter-widgets/base",
          "model_name": "LayoutModel",
          "model_module_version": "1.2.0",
          "state": {
            "_view_name": "LayoutView",
            "grid_template_rows": null,
            "right": null,
            "justify_content": null,
            "_view_module": "@jupyter-widgets/base",
            "overflow": null,
            "_model_module_version": "1.2.0",
            "_view_count": null,
            "flex_flow": null,
            "width": null,
            "min_width": null,
            "border": null,
            "align_items": null,
            "bottom": null,
            "_model_module": "@jupyter-widgets/base",
            "top": null,
            "grid_column": null,
            "overflow_y": null,
            "overflow_x": null,
            "grid_auto_flow": null,
            "grid_area": null,
            "grid_template_columns": null,
            "flex": null,
            "_model_name": "LayoutModel",
            "justify_items": null,
            "grid_row": null,
            "max_height": null,
            "align_content": null,
            "visibility": null,
            "align_self": null,
            "height": null,
            "min_height": null,
            "padding": null,
            "grid_auto_rows": null,
            "grid_gap": null,
            "max_width": null,
            "order": null,
            "_view_module_version": "1.2.0",
            "grid_template_areas": null,
            "object_position": null,
            "object_fit": null,
            "grid_auto_columns": null,
            "margin": null,
            "display": null,
            "left": null
          }
        },
        "aab6e0d398ad4a57aea32ef3a247a16f": {
          "model_module": "@jupyter-widgets/controls",
          "model_name": "DescriptionStyleModel",
          "model_module_version": "1.5.0",
          "state": {
            "_view_name": "StyleView",
            "_model_name": "DescriptionStyleModel",
            "description_width": "",
            "_view_module": "@jupyter-widgets/base",
            "_model_module_version": "1.5.0",
            "_view_count": null,
            "_view_module_version": "1.2.0",
            "_model_module": "@jupyter-widgets/controls"
          }
        },
        "90d892797f97485d8148d81c4d52f1dd": {
          "model_module": "@jupyter-widgets/base",
          "model_name": "LayoutModel",
          "model_module_version": "1.2.0",
          "state": {
            "_view_name": "LayoutView",
            "grid_template_rows": null,
            "right": null,
            "justify_content": null,
            "_view_module": "@jupyter-widgets/base",
            "overflow": null,
            "_model_module_version": "1.2.0",
            "_view_count": null,
            "flex_flow": null,
            "width": null,
            "min_width": null,
            "border": null,
            "align_items": null,
            "bottom": null,
            "_model_module": "@jupyter-widgets/base",
            "top": null,
            "grid_column": null,
            "overflow_y": null,
            "overflow_x": null,
            "grid_auto_flow": null,
            "grid_area": null,
            "grid_template_columns": null,
            "flex": null,
            "_model_name": "LayoutModel",
            "justify_items": null,
            "grid_row": null,
            "max_height": null,
            "align_content": null,
            "visibility": null,
            "align_self": null,
            "height": null,
            "min_height": null,
            "padding": null,
            "grid_auto_rows": null,
            "grid_gap": null,
            "max_width": null,
            "order": null,
            "_view_module_version": "1.2.0",
            "grid_template_areas": null,
            "object_position": null,
            "object_fit": null,
            "grid_auto_columns": null,
            "margin": null,
            "display": null,
            "left": null
          }
        },
        "4c7e615e2ed4453a8258b0146cdfcd16": {
          "model_module": "@jupyter-widgets/controls",
          "model_name": "HBoxModel",
          "model_module_version": "1.5.0",
          "state": {
            "_view_name": "HBoxView",
            "_dom_classes": [],
            "_model_name": "HBoxModel",
            "_view_module": "@jupyter-widgets/controls",
            "_model_module_version": "1.5.0",
            "_view_count": null,
            "_view_module_version": "1.5.0",
            "box_style": "",
            "layout": "IPY_MODEL_66bf98147c0242fda64a2fd560f09764",
            "_model_module": "@jupyter-widgets/controls",
            "children": [
              "IPY_MODEL_2a776642a8dc442684ed9deda5fe60e0",
              "IPY_MODEL_4e43e831f693451fa1a452d8acf610d0",
              "IPY_MODEL_5273b25e175242e18713b8e07bf857d1"
            ]
          }
        },
        "66bf98147c0242fda64a2fd560f09764": {
          "model_module": "@jupyter-widgets/base",
          "model_name": "LayoutModel",
          "model_module_version": "1.2.0",
          "state": {
            "_view_name": "LayoutView",
            "grid_template_rows": null,
            "right": null,
            "justify_content": null,
            "_view_module": "@jupyter-widgets/base",
            "overflow": null,
            "_model_module_version": "1.2.0",
            "_view_count": null,
            "flex_flow": null,
            "width": null,
            "min_width": null,
            "border": null,
            "align_items": null,
            "bottom": null,
            "_model_module": "@jupyter-widgets/base",
            "top": null,
            "grid_column": null,
            "overflow_y": null,
            "overflow_x": null,
            "grid_auto_flow": null,
            "grid_area": null,
            "grid_template_columns": null,
            "flex": null,
            "_model_name": "LayoutModel",
            "justify_items": null,
            "grid_row": null,
            "max_height": null,
            "align_content": null,
            "visibility": null,
            "align_self": null,
            "height": null,
            "min_height": null,
            "padding": null,
            "grid_auto_rows": null,
            "grid_gap": null,
            "max_width": null,
            "order": null,
            "_view_module_version": "1.2.0",
            "grid_template_areas": null,
            "object_position": null,
            "object_fit": null,
            "grid_auto_columns": null,
            "margin": null,
            "display": null,
            "left": null
          }
        },
        "2a776642a8dc442684ed9deda5fe60e0": {
          "model_module": "@jupyter-widgets/controls",
          "model_name": "HTMLModel",
          "model_module_version": "1.5.0",
          "state": {
            "_view_name": "HTMLView",
            "style": "IPY_MODEL_262f9e6453804a468c60f53ccbd43c81",
            "_dom_classes": [],
            "description": "",
            "_model_name": "HTMLModel",
            "placeholder": "​",
            "_view_module": "@jupyter-widgets/controls",
            "_model_module_version": "1.5.0",
            "value": "",
            "_view_count": null,
            "_view_module_version": "1.5.0",
            "description_tooltip": null,
            "_model_module": "@jupyter-widgets/controls",
            "layout": "IPY_MODEL_6cc9900c9312443ab18c286ced447ed6"
          }
        },
        "4e43e831f693451fa1a452d8acf610d0": {
          "model_module": "@jupyter-widgets/controls",
          "model_name": "FloatProgressModel",
          "model_module_version": "1.5.0",
          "state": {
            "_view_name": "ProgressView",
            "style": "IPY_MODEL_a7597e19e5074a9c97170441cf4c6d47",
            "_dom_classes": [],
            "description": "",
            "_model_name": "FloatProgressModel",
            "bar_style": "success",
            "max": 4422102,
            "_view_module": "@jupyter-widgets/controls",
            "_model_module_version": "1.5.0",
            "value": 4422102,
            "_view_count": null,
            "_view_module_version": "1.5.0",
            "orientation": "horizontal",
            "min": 0,
            "description_tooltip": null,
            "_model_module": "@jupyter-widgets/controls",
            "layout": "IPY_MODEL_76dbcfe34ddd4368a8fccd4c7fde1347"
          }
        },
        "5273b25e175242e18713b8e07bf857d1": {
          "model_module": "@jupyter-widgets/controls",
          "model_name": "HTMLModel",
          "model_module_version": "1.5.0",
          "state": {
            "_view_name": "HTMLView",
            "style": "IPY_MODEL_0488a509b40246188eabc3ef0d13caae",
            "_dom_classes": [],
            "description": "",
            "_model_name": "HTMLModel",
            "placeholder": "​",
            "_view_module": "@jupyter-widgets/controls",
            "_model_module_version": "1.5.0",
            "value": " 4422656/? [00:01&lt;00:00, 6506447.02it/s]",
            "_view_count": null,
            "_view_module_version": "1.5.0",
            "description_tooltip": null,
            "_model_module": "@jupyter-widgets/controls",
            "layout": "IPY_MODEL_a5787c8a4d204ca992445108c7aded7e"
          }
        },
        "262f9e6453804a468c60f53ccbd43c81": {
          "model_module": "@jupyter-widgets/controls",
          "model_name": "DescriptionStyleModel",
          "model_module_version": "1.5.0",
          "state": {
            "_view_name": "StyleView",
            "_model_name": "DescriptionStyleModel",
            "description_width": "",
            "_view_module": "@jupyter-widgets/base",
            "_model_module_version": "1.5.0",
            "_view_count": null,
            "_view_module_version": "1.2.0",
            "_model_module": "@jupyter-widgets/controls"
          }
        },
        "6cc9900c9312443ab18c286ced447ed6": {
          "model_module": "@jupyter-widgets/base",
          "model_name": "LayoutModel",
          "model_module_version": "1.2.0",
          "state": {
            "_view_name": "LayoutView",
            "grid_template_rows": null,
            "right": null,
            "justify_content": null,
            "_view_module": "@jupyter-widgets/base",
            "overflow": null,
            "_model_module_version": "1.2.0",
            "_view_count": null,
            "flex_flow": null,
            "width": null,
            "min_width": null,
            "border": null,
            "align_items": null,
            "bottom": null,
            "_model_module": "@jupyter-widgets/base",
            "top": null,
            "grid_column": null,
            "overflow_y": null,
            "overflow_x": null,
            "grid_auto_flow": null,
            "grid_area": null,
            "grid_template_columns": null,
            "flex": null,
            "_model_name": "LayoutModel",
            "justify_items": null,
            "grid_row": null,
            "max_height": null,
            "align_content": null,
            "visibility": null,
            "align_self": null,
            "height": null,
            "min_height": null,
            "padding": null,
            "grid_auto_rows": null,
            "grid_gap": null,
            "max_width": null,
            "order": null,
            "_view_module_version": "1.2.0",
            "grid_template_areas": null,
            "object_position": null,
            "object_fit": null,
            "grid_auto_columns": null,
            "margin": null,
            "display": null,
            "left": null
          }
        },
        "a7597e19e5074a9c97170441cf4c6d47": {
          "model_module": "@jupyter-widgets/controls",
          "model_name": "ProgressStyleModel",
          "model_module_version": "1.5.0",
          "state": {
            "_view_name": "StyleView",
            "_model_name": "ProgressStyleModel",
            "description_width": "",
            "_view_module": "@jupyter-widgets/base",
            "_model_module_version": "1.5.0",
            "_view_count": null,
            "_view_module_version": "1.2.0",
            "bar_color": null,
            "_model_module": "@jupyter-widgets/controls"
          }
        },
        "76dbcfe34ddd4368a8fccd4c7fde1347": {
          "model_module": "@jupyter-widgets/base",
          "model_name": "LayoutModel",
          "model_module_version": "1.2.0",
          "state": {
            "_view_name": "LayoutView",
            "grid_template_rows": null,
            "right": null,
            "justify_content": null,
            "_view_module": "@jupyter-widgets/base",
            "overflow": null,
            "_model_module_version": "1.2.0",
            "_view_count": null,
            "flex_flow": null,
            "width": null,
            "min_width": null,
            "border": null,
            "align_items": null,
            "bottom": null,
            "_model_module": "@jupyter-widgets/base",
            "top": null,
            "grid_column": null,
            "overflow_y": null,
            "overflow_x": null,
            "grid_auto_flow": null,
            "grid_area": null,
            "grid_template_columns": null,
            "flex": null,
            "_model_name": "LayoutModel",
            "justify_items": null,
            "grid_row": null,
            "max_height": null,
            "align_content": null,
            "visibility": null,
            "align_self": null,
            "height": null,
            "min_height": null,
            "padding": null,
            "grid_auto_rows": null,
            "grid_gap": null,
            "max_width": null,
            "order": null,
            "_view_module_version": "1.2.0",
            "grid_template_areas": null,
            "object_position": null,
            "object_fit": null,
            "grid_auto_columns": null,
            "margin": null,
            "display": null,
            "left": null
          }
        },
        "0488a509b40246188eabc3ef0d13caae": {
          "model_module": "@jupyter-widgets/controls",
          "model_name": "DescriptionStyleModel",
          "model_module_version": "1.5.0",
          "state": {
            "_view_name": "StyleView",
            "_model_name": "DescriptionStyleModel",
            "description_width": "",
            "_view_module": "@jupyter-widgets/base",
            "_model_module_version": "1.5.0",
            "_view_count": null,
            "_view_module_version": "1.2.0",
            "_model_module": "@jupyter-widgets/controls"
          }
        },
        "a5787c8a4d204ca992445108c7aded7e": {
          "model_module": "@jupyter-widgets/base",
          "model_name": "LayoutModel",
          "model_module_version": "1.2.0",
          "state": {
            "_view_name": "LayoutView",
            "grid_template_rows": null,
            "right": null,
            "justify_content": null,
            "_view_module": "@jupyter-widgets/base",
            "overflow": null,
            "_model_module_version": "1.2.0",
            "_view_count": null,
            "flex_flow": null,
            "width": null,
            "min_width": null,
            "border": null,
            "align_items": null,
            "bottom": null,
            "_model_module": "@jupyter-widgets/base",
            "top": null,
            "grid_column": null,
            "overflow_y": null,
            "overflow_x": null,
            "grid_auto_flow": null,
            "grid_area": null,
            "grid_template_columns": null,
            "flex": null,
            "_model_name": "LayoutModel",
            "justify_items": null,
            "grid_row": null,
            "max_height": null,
            "align_content": null,
            "visibility": null,
            "align_self": null,
            "height": null,
            "min_height": null,
            "padding": null,
            "grid_auto_rows": null,
            "grid_gap": null,
            "max_width": null,
            "order": null,
            "_view_module_version": "1.2.0",
            "grid_template_areas": null,
            "object_position": null,
            "object_fit": null,
            "grid_auto_columns": null,
            "margin": null,
            "display": null,
            "left": null
          }
        },
        "278ca4319e09460286039933bfab2f58": {
          "model_module": "@jupyter-widgets/controls",
          "model_name": "HBoxModel",
          "model_module_version": "1.5.0",
          "state": {
            "_view_name": "HBoxView",
            "_dom_classes": [],
            "_model_name": "HBoxModel",
            "_view_module": "@jupyter-widgets/controls",
            "_model_module_version": "1.5.0",
            "_view_count": null,
            "_view_module_version": "1.5.0",
            "box_style": "",
            "layout": "IPY_MODEL_b3911e01d0034106baf27d0abe7da88b",
            "_model_module": "@jupyter-widgets/controls",
            "children": [
              "IPY_MODEL_7e966b071e184f8781d0c8598a20dae9",
              "IPY_MODEL_84df5d8dd03a4ddf88394fa356cdbd7a",
              "IPY_MODEL_ff4b3817b83040bd90780f6309a01c9b"
            ]
          }
        },
        "b3911e01d0034106baf27d0abe7da88b": {
          "model_module": "@jupyter-widgets/base",
          "model_name": "LayoutModel",
          "model_module_version": "1.2.0",
          "state": {
            "_view_name": "LayoutView",
            "grid_template_rows": null,
            "right": null,
            "justify_content": null,
            "_view_module": "@jupyter-widgets/base",
            "overflow": null,
            "_model_module_version": "1.2.0",
            "_view_count": null,
            "flex_flow": null,
            "width": null,
            "min_width": null,
            "border": null,
            "align_items": null,
            "bottom": null,
            "_model_module": "@jupyter-widgets/base",
            "top": null,
            "grid_column": null,
            "overflow_y": null,
            "overflow_x": null,
            "grid_auto_flow": null,
            "grid_area": null,
            "grid_template_columns": null,
            "flex": null,
            "_model_name": "LayoutModel",
            "justify_items": null,
            "grid_row": null,
            "max_height": null,
            "align_content": null,
            "visibility": null,
            "align_self": null,
            "height": null,
            "min_height": null,
            "padding": null,
            "grid_auto_rows": null,
            "grid_gap": null,
            "max_width": null,
            "order": null,
            "_view_module_version": "1.2.0",
            "grid_template_areas": null,
            "object_position": null,
            "object_fit": null,
            "grid_auto_columns": null,
            "margin": null,
            "display": null,
            "left": null
          }
        },
        "7e966b071e184f8781d0c8598a20dae9": {
          "model_module": "@jupyter-widgets/controls",
          "model_name": "HTMLModel",
          "model_module_version": "1.5.0",
          "state": {
            "_view_name": "HTMLView",
            "style": "IPY_MODEL_ce87710363df477cb86569a964206a2d",
            "_dom_classes": [],
            "description": "",
            "_model_name": "HTMLModel",
            "placeholder": "​",
            "_view_module": "@jupyter-widgets/controls",
            "_model_module_version": "1.5.0",
            "value": "",
            "_view_count": null,
            "_view_module_version": "1.5.0",
            "description_tooltip": null,
            "_model_module": "@jupyter-widgets/controls",
            "layout": "IPY_MODEL_8beb5b927fae4741b44da9935dc51ad1"
          }
        },
        "84df5d8dd03a4ddf88394fa356cdbd7a": {
          "model_module": "@jupyter-widgets/controls",
          "model_name": "FloatProgressModel",
          "model_module_version": "1.5.0",
          "state": {
            "_view_name": "ProgressView",
            "style": "IPY_MODEL_997931c8492641bb8b344b27f1dde9ad",
            "_dom_classes": [],
            "description": "",
            "_model_name": "FloatProgressModel",
            "bar_style": "success",
            "max": 5148,
            "_view_module": "@jupyter-widgets/controls",
            "_model_module_version": "1.5.0",
            "value": 5148,
            "_view_count": null,
            "_view_module_version": "1.5.0",
            "orientation": "horizontal",
            "min": 0,
            "description_tooltip": null,
            "_model_module": "@jupyter-widgets/controls",
            "layout": "IPY_MODEL_acbaf82211164fa6bcce4074ec3a0d61"
          }
        },
        "ff4b3817b83040bd90780f6309a01c9b": {
          "model_module": "@jupyter-widgets/controls",
          "model_name": "HTMLModel",
          "model_module_version": "1.5.0",
          "state": {
            "_view_name": "HTMLView",
            "style": "IPY_MODEL_5448d063717d4d0381ae2db5be9c7806",
            "_dom_classes": [],
            "description": "",
            "_model_name": "HTMLModel",
            "placeholder": "​",
            "_view_module": "@jupyter-widgets/controls",
            "_model_module_version": "1.5.0",
            "value": " 6144/? [00:00&lt;00:00, 184301.72it/s]",
            "_view_count": null,
            "_view_module_version": "1.5.0",
            "description_tooltip": null,
            "_model_module": "@jupyter-widgets/controls",
            "layout": "IPY_MODEL_c888e5c692654e6e9063b0e18d49540d"
          }
        },
        "ce87710363df477cb86569a964206a2d": {
          "model_module": "@jupyter-widgets/controls",
          "model_name": "DescriptionStyleModel",
          "model_module_version": "1.5.0",
          "state": {
            "_view_name": "StyleView",
            "_model_name": "DescriptionStyleModel",
            "description_width": "",
            "_view_module": "@jupyter-widgets/base",
            "_model_module_version": "1.5.0",
            "_view_count": null,
            "_view_module_version": "1.2.0",
            "_model_module": "@jupyter-widgets/controls"
          }
        },
        "8beb5b927fae4741b44da9935dc51ad1": {
          "model_module": "@jupyter-widgets/base",
          "model_name": "LayoutModel",
          "model_module_version": "1.2.0",
          "state": {
            "_view_name": "LayoutView",
            "grid_template_rows": null,
            "right": null,
            "justify_content": null,
            "_view_module": "@jupyter-widgets/base",
            "overflow": null,
            "_model_module_version": "1.2.0",
            "_view_count": null,
            "flex_flow": null,
            "width": null,
            "min_width": null,
            "border": null,
            "align_items": null,
            "bottom": null,
            "_model_module": "@jupyter-widgets/base",
            "top": null,
            "grid_column": null,
            "overflow_y": null,
            "overflow_x": null,
            "grid_auto_flow": null,
            "grid_area": null,
            "grid_template_columns": null,
            "flex": null,
            "_model_name": "LayoutModel",
            "justify_items": null,
            "grid_row": null,
            "max_height": null,
            "align_content": null,
            "visibility": null,
            "align_self": null,
            "height": null,
            "min_height": null,
            "padding": null,
            "grid_auto_rows": null,
            "grid_gap": null,
            "max_width": null,
            "order": null,
            "_view_module_version": "1.2.0",
            "grid_template_areas": null,
            "object_position": null,
            "object_fit": null,
            "grid_auto_columns": null,
            "margin": null,
            "display": null,
            "left": null
          }
        },
        "997931c8492641bb8b344b27f1dde9ad": {
          "model_module": "@jupyter-widgets/controls",
          "model_name": "ProgressStyleModel",
          "model_module_version": "1.5.0",
          "state": {
            "_view_name": "StyleView",
            "_model_name": "ProgressStyleModel",
            "description_width": "",
            "_view_module": "@jupyter-widgets/base",
            "_model_module_version": "1.5.0",
            "_view_count": null,
            "_view_module_version": "1.2.0",
            "bar_color": null,
            "_model_module": "@jupyter-widgets/controls"
          }
        },
        "acbaf82211164fa6bcce4074ec3a0d61": {
          "model_module": "@jupyter-widgets/base",
          "model_name": "LayoutModel",
          "model_module_version": "1.2.0",
          "state": {
            "_view_name": "LayoutView",
            "grid_template_rows": null,
            "right": null,
            "justify_content": null,
            "_view_module": "@jupyter-widgets/base",
            "overflow": null,
            "_model_module_version": "1.2.0",
            "_view_count": null,
            "flex_flow": null,
            "width": null,
            "min_width": null,
            "border": null,
            "align_items": null,
            "bottom": null,
            "_model_module": "@jupyter-widgets/base",
            "top": null,
            "grid_column": null,
            "overflow_y": null,
            "overflow_x": null,
            "grid_auto_flow": null,
            "grid_area": null,
            "grid_template_columns": null,
            "flex": null,
            "_model_name": "LayoutModel",
            "justify_items": null,
            "grid_row": null,
            "max_height": null,
            "align_content": null,
            "visibility": null,
            "align_self": null,
            "height": null,
            "min_height": null,
            "padding": null,
            "grid_auto_rows": null,
            "grid_gap": null,
            "max_width": null,
            "order": null,
            "_view_module_version": "1.2.0",
            "grid_template_areas": null,
            "object_position": null,
            "object_fit": null,
            "grid_auto_columns": null,
            "margin": null,
            "display": null,
            "left": null
          }
        },
        "5448d063717d4d0381ae2db5be9c7806": {
          "model_module": "@jupyter-widgets/controls",
          "model_name": "DescriptionStyleModel",
          "model_module_version": "1.5.0",
          "state": {
            "_view_name": "StyleView",
            "_model_name": "DescriptionStyleModel",
            "description_width": "",
            "_view_module": "@jupyter-widgets/base",
            "_model_module_version": "1.5.0",
            "_view_count": null,
            "_view_module_version": "1.2.0",
            "_model_module": "@jupyter-widgets/controls"
          }
        },
        "c888e5c692654e6e9063b0e18d49540d": {
          "model_module": "@jupyter-widgets/base",
          "model_name": "LayoutModel",
          "model_module_version": "1.2.0",
          "state": {
            "_view_name": "LayoutView",
            "grid_template_rows": null,
            "right": null,
            "justify_content": null,
            "_view_module": "@jupyter-widgets/base",
            "overflow": null,
            "_model_module_version": "1.2.0",
            "_view_count": null,
            "flex_flow": null,
            "width": null,
            "min_width": null,
            "border": null,
            "align_items": null,
            "bottom": null,
            "_model_module": "@jupyter-widgets/base",
            "top": null,
            "grid_column": null,
            "overflow_y": null,
            "overflow_x": null,
            "grid_auto_flow": null,
            "grid_area": null,
            "grid_template_columns": null,
            "flex": null,
            "_model_name": "LayoutModel",
            "justify_items": null,
            "grid_row": null,
            "max_height": null,
            "align_content": null,
            "visibility": null,
            "align_self": null,
            "height": null,
            "min_height": null,
            "padding": null,
            "grid_auto_rows": null,
            "grid_gap": null,
            "max_width": null,
            "order": null,
            "_view_module_version": "1.2.0",
            "grid_template_areas": null,
            "object_position": null,
            "object_fit": null,
            "grid_auto_columns": null,
            "margin": null,
            "display": null,
            "left": null
          }
        }
      }
    }
  },
  "nbformat": 4,
  "nbformat_minor": 0
}