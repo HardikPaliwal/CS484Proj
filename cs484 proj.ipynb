{
  "cells": [
    {
      "cell_type": "markdown",
      "metadata": {
        "id": "view-in-github",
        "colab_type": "text"
      },
      "source": [
        "<a href=\"https://colab.research.google.com/github/HardikPaliwal/CS484Proj/blob/master/cs484%20proj.ipynb\" target=\"_parent\"><img src=\"https://colab.research.google.com/assets/colab-badge.svg\" alt=\"Open In Colab\"/></a>"
      ]
    },
    {
      "cell_type": "markdown",
      "metadata": {
        "id": "hOiQJ0-YBNR8"
      },
      "source": [
        "# **CS484 Final Project**\n",
        "\n",
        "#### Topic 6: Weakly supervised classification\n",
        "\n",
        "#### Hardik Paliwal (20725413), Lance Pereira (20719626)\n",
        "\n",
        "______________________________________________________________"
      ]
    },
    {
      "cell_type": "markdown",
      "source": [
        "#**Table Of Contents**\n",
        "- A) Abstract\n",
        "- B) High Level Goals and Methedology\n",
        "- C) Team Members and Contributions\n",
        "- D) External Code Libraries\n",
        "- E) Code\n",
        "  - 1) Setup (imports, loading data)\n",
        "  - 2) Define our Base CNN (Based on VGG11), Test, Train methods\n",
        "  - 3) Split Fashion MNIST training data into M labeled images, and N-M unlabeled\n",
        "  - 4) Train Base CNN on M labeled training images\n",
        "  - 5) Use the 'semi' trained CNN to gain important features (feature embedings) of N-M *unlabeled* training images\n",
        "  - 6) Match cluster labels to actual Fashion MNIST labels\n",
        "  - 7) Define retrained CNN function using predicted labels from clustering for unlabeled data\n",
        "- F) Experiments\n",
        "  - 1) Diffirent ratios of M/N\n",
        "  - 2) Diffirent Clustering Methods\n",
        "- G) Results\n",
        "- H) Conclusions"
      ],
      "metadata": {
        "id": "P5a9RiUbRKX2"
      }
    },
    {
      "cell_type": "markdown",
      "metadata": {
        "id": "lDBcYS6VBNSA"
      },
      "source": [
        "#**A) Abstract:**\n",
        "\n",
        "For our project we have decided to do Project 6, choosing specifically Fashion MNIST. We use weakly supervised classification using feature extraction (embedings similar to a PCA) along with clustering methods to try and improve results compared to just using supervised learning.\n",
        " \n",
        "\n",
        "#**B) High Level Goals and Methedology:**\n",
        "\n",
        "Out high level goal is to use weakly supervised classification to improve our \n",
        "prediction ability compared to just training using labeled images. We hope to \n",
        "achieve atleast a 5% increase in our test prediction score using clustering \n",
        "methods such as Kmeans and Mini-Batch Kmeans. Our attempts to use other clustering methods were stopped by our limited RAM capacity, but Kmeans and Mini-Batch Kmeans are quite effective.\n",
        "\n",
        "Our method is split into two experiments, \n",
        "- we first will test to see training\n",
        "a CNN on M labeled images, then use a cluestering method to classify all the \n",
        "N images, using the majority label in each cluster as the predicted label for the unlabeled N-M images\n",
        "- secondly we will try using the predicted labels from the previous step to \n",
        "train a new CNN model, to see if it performs better than the original CNN model trained on just the M labeled images\n",
        "\n",
        "Our baseline will be a simple CNN  trained on the M labeled images. We will use this to see if our weakly supervised method improved the accuracy rate. "
      ]
    },
    {
      "cell_type": "markdown",
      "source": [
        "#**C) Team Members and Contributions**\n",
        "\n",
        "- Hardik Paliwal\n",
        "  - Created CNN based on VGG11 for training\n",
        "  - Created function to gather features (feature embedings) from pretrained CNN (trained on M labeled images)\n",
        "  - Created method to get predicted labels from clustering methods\n",
        "  - Created train,test methods\n",
        "\n",
        "- Lance Pereira\n",
        "  - Create function to retrain CNN using clustered labels\n",
        "  - Modified clustering prediction methods to use only labeled training data\n",
        "  - Created experiments for diffirent ratios of M:M-N\n",
        "  - Created function to split data into labeled and unlabeled\n",
        "  - Created experiments for diffirent clustering methods\n",
        "    - Mini Batch Kmeans\n",
        "    - Kmeans\n",
        "  - Wrote/formated report\n",
        "\n"
      ],
      "metadata": {
        "id": "3ZbWhkZiOTHS"
      }
    },
    {
      "cell_type": "markdown",
      "source": [
        "#**D) External Code Libraries**\n",
        "\n",
        "We used\n",
        "\n",
        "- Pytorch\n",
        "  - Because it was crucial for the quick training of our models\n",
        "  - Allowed us to not have to deal with calculating back propogation\n",
        "- Sklearn\n",
        "  - Provided us a large range of clustering methods for quick experimentation\n",
        "- Numpy\n",
        "  - Useful for large matrix operations"
      ],
      "metadata": {
        "id": "YHKO718hQ17r"
      }
    },
    {
      "cell_type": "code",
      "execution_count": 2,
      "metadata": {
        "id": "phv5gD4DBNSC"
      },
      "outputs": [],
      "source": [
        "import torch\n",
        "import torch.nn as nn\n",
        "import torch.nn.functional as F\n",
        "import torchvision as tv\n",
        "import matplotlib.pyplot as plt\n",
        "from torch.utils.data import DataLoader\n",
        "from torch.autograd import Variable\n",
        "import sklearn\n",
        "from torch import optim\n",
        "import numpy as np\n",
        "import itertools\n",
        "\n",
        "%matplotlib inline"
      ]
    },
    {
      "cell_type": "markdown",
      "source": [
        "# **E) Code**"
      ],
      "metadata": {
        "id": "y_GC_Ou-aqJY"
      }
    },
    {
      "cell_type": "markdown",
      "source": [
        "### **E) [1] Code: Setup**\n",
        "\n",
        "The below cells:\n",
        "- Import Fshion MNIST\n",
        "- define functions that strip label from data"
      ],
      "metadata": {
        "id": "ev3-3ZQobP0E"
      }
    },
    {
      "cell_type": "code",
      "execution_count": 3,
      "metadata": {
        "id": "umKKVD1LBNSE"
      },
      "outputs": [],
      "source": [
        "# Constants\n",
        "dev=torch.device(\"cuda\") \n",
        "NUM_EPOCHS = 6\n",
        "NUM_CLUSTERS = 30\n",
        "NUM_CLASSES = 10\n",
        "UNKNOWN_CLASS = 11"
      ]
    },
    {
      "cell_type": "code",
      "execution_count": 4,
      "metadata": {
        "id": "lpBIjSHXBNSF",
        "colab": {
          "base_uri": "https://localhost:8080/",
          "height": 422,
          "referenced_widgets": [
            "159056227b264740ac3a7ea068bbff1e",
            "c0bc20df4c164429bd201c39d4ccc7f7",
            "e062a210bc5142d6a3113b893f345d2f",
            "015824ac48854be6a0121d0a41bb448f",
            "46bcea98abb34a479cb7ebb2bc8a7eb3",
            "a70a40041e134108b45d5c06e961e5d6",
            "7859d84c4230481e9c6714c1654bca1c",
            "60f7987d11b14576b588541c12c24097",
            "a3e18b054cc64c328c70d781d745913a",
            "5d10bfd30e974f7daba900ad06c15c22",
            "62dbb1c0682c446fb94285c13411bc37",
            "250f64e2dd834bc28ad8587464fc78ac",
            "9c5fda0c49a945e8b7a95342f923c602",
            "7c45fe0ef27d4346b21317342ca67456",
            "d7a9f10e60404b64854c6d0323091ae6",
            "319b6da2240546cc8b2cff33e75bee11",
            "ec0bee30018d4ba199e8f611708e12ff",
            "dcccf943fc0041ea94e91db0f4b07bf5",
            "0027c8ee65c54c39853b0bc296892d8a",
            "139f5e4019ec46e7816e622d1b9f2bc2",
            "14264c197c294681b1c000d0b1697843",
            "d22800a374404153ad0bed3c256f1f29",
            "572600b116f94dbab7c2987feb1e325c",
            "d5d4c455b2574e47b3629f5e6cc08b98",
            "3e3e0c354c53496186e03c5d962dc6f0",
            "21c081479dfe4a769423829641cbe56d",
            "6ab7c29f952344baa86f2acf66f91c2e",
            "94bd6bdac2d343f593ede64c6de272d9",
            "cc1a713370cd4f8bbec68a1aa009771a",
            "728bb06d2e494ab8adc965bc3e27d66b",
            "e3adedea5f0847649d8f23e1e3586e7a",
            "0f3b10b139334264abf304e07969925a",
            "2a9aa56650924a8b99b277ca4bf8a13e",
            "f24f026be76943619f8bb40e52f5ead0",
            "df55d3d566c34e349812363ccb32dd37",
            "b7e644dbdab4476a91d40ffa30b61f41",
            "b7312de457954fc7834cf23cb29041a8",
            "ceb40e649c0c4d0f85b62b61e206ec1c",
            "b0de3dbfd39442589fee4de32f0537ff",
            "5ac5a241cfe147e0b149f100462f515e",
            "2391f1d317134676a1eb075bed47203c",
            "929dff000d0d45aca4c157a4e19b96a9",
            "34ef8ec681504db39122ad03d8ca5ac9",
            "fc772181dfc24bb7b25d102f0852b1ee"
          ]
        },
        "outputId": "a9f478f9-bca0-45ae-8bca-247730d09e32"
      },
      "outputs": [
        {
          "output_type": "stream",
          "name": "stdout",
          "text": [
            "Downloading http://fashion-mnist.s3-website.eu-central-1.amazonaws.com/train-images-idx3-ubyte.gz\n",
            "Downloading http://fashion-mnist.s3-website.eu-central-1.amazonaws.com/train-images-idx3-ubyte.gz to ./FashionMNIST/raw/train-images-idx3-ubyte.gz\n"
          ]
        },
        {
          "output_type": "display_data",
          "data": {
            "application/vnd.jupyter.widget-view+json": {
              "model_id": "159056227b264740ac3a7ea068bbff1e",
              "version_minor": 0,
              "version_major": 2
            },
            "text/plain": [
              "  0%|          | 0/26421880 [00:00<?, ?it/s]"
            ]
          },
          "metadata": {}
        },
        {
          "output_type": "stream",
          "name": "stdout",
          "text": [
            "Extracting ./FashionMNIST/raw/train-images-idx3-ubyte.gz to ./FashionMNIST/raw\n",
            "\n",
            "Downloading http://fashion-mnist.s3-website.eu-central-1.amazonaws.com/train-labels-idx1-ubyte.gz\n",
            "Downloading http://fashion-mnist.s3-website.eu-central-1.amazonaws.com/train-labels-idx1-ubyte.gz to ./FashionMNIST/raw/train-labels-idx1-ubyte.gz\n"
          ]
        },
        {
          "output_type": "display_data",
          "data": {
            "application/vnd.jupyter.widget-view+json": {
              "model_id": "250f64e2dd834bc28ad8587464fc78ac",
              "version_minor": 0,
              "version_major": 2
            },
            "text/plain": [
              "  0%|          | 0/29515 [00:00<?, ?it/s]"
            ]
          },
          "metadata": {}
        },
        {
          "output_type": "stream",
          "name": "stdout",
          "text": [
            "Extracting ./FashionMNIST/raw/train-labels-idx1-ubyte.gz to ./FashionMNIST/raw\n",
            "\n",
            "Downloading http://fashion-mnist.s3-website.eu-central-1.amazonaws.com/t10k-images-idx3-ubyte.gz\n",
            "Downloading http://fashion-mnist.s3-website.eu-central-1.amazonaws.com/t10k-images-idx3-ubyte.gz to ./FashionMNIST/raw/t10k-images-idx3-ubyte.gz\n"
          ]
        },
        {
          "output_type": "display_data",
          "data": {
            "application/vnd.jupyter.widget-view+json": {
              "model_id": "572600b116f94dbab7c2987feb1e325c",
              "version_minor": 0,
              "version_major": 2
            },
            "text/plain": [
              "  0%|          | 0/4422102 [00:00<?, ?it/s]"
            ]
          },
          "metadata": {}
        },
        {
          "output_type": "stream",
          "name": "stdout",
          "text": [
            "Extracting ./FashionMNIST/raw/t10k-images-idx3-ubyte.gz to ./FashionMNIST/raw\n",
            "\n",
            "Downloading http://fashion-mnist.s3-website.eu-central-1.amazonaws.com/t10k-labels-idx1-ubyte.gz\n",
            "Downloading http://fashion-mnist.s3-website.eu-central-1.amazonaws.com/t10k-labels-idx1-ubyte.gz to ./FashionMNIST/raw/t10k-labels-idx1-ubyte.gz\n"
          ]
        },
        {
          "output_type": "display_data",
          "data": {
            "application/vnd.jupyter.widget-view+json": {
              "model_id": "f24f026be76943619f8bb40e52f5ead0",
              "version_minor": 0,
              "version_major": 2
            },
            "text/plain": [
              "  0%|          | 0/5148 [00:00<?, ?it/s]"
            ]
          },
          "metadata": {}
        },
        {
          "output_type": "stream",
          "name": "stdout",
          "text": [
            "Extracting ./FashionMNIST/raw/t10k-labels-idx1-ubyte.gz to ./FashionMNIST/raw\n",
            "\n"
          ]
        }
      ],
      "source": [
        "trainset = tv.datasets.FashionMNIST(root=\"./\", download=True,train=True,  transform=tv.transforms.Compose(\n",
        "    [tv.transforms.Resize(32), tv.transforms.ToTensor()]))\n",
        "trainloader = DataLoader(trainset, batch_size=128, shuffle=False)\n",
        "\n",
        "trainset1 = tv.datasets.FashionMNIST(root=\"./\", download=True,train=True,  transform=tv.transforms.Compose(\n",
        "    [tv.transforms.Resize(32), tv.transforms.ToTensor()]))\n",
        "trainloader1 = DataLoader(trainset, batch_size=128, shuffle=False)\n",
        "\n",
        "trainset2 = tv.datasets.FashionMNIST(root=\"./\", download=True,train=True,  transform=tv.transforms.Compose(\n",
        "    [tv.transforms.Resize(32), tv.transforms.ToTensor()]))\n",
        "trainloader2 = DataLoader(trainset, batch_size=128, shuffle=False)\n",
        "\n",
        "trainset3 = tv.datasets.FashionMNIST(root=\"./\", download=True,train=True,  transform=tv.transforms.Compose(\n",
        "    [tv.transforms.Resize(32), tv.transforms.ToTensor()]))\n",
        "trainloader3 = DataLoader(trainset, batch_size=128, shuffle=False)\n",
        "\n",
        "testset = tv.datasets.FashionMNIST(root=\"./\", download=True,train=False,  transform=tv.transforms.Compose(\n",
        "    [tv.transforms.Resize(32), tv.transforms.ToTensor()]))\n",
        "testloader = DataLoader(testset, batch_size=128, shuffle=True)"
      ]
    },
    {
      "cell_type": "markdown",
      "source": [
        "### **E) [2] Code: Define our Base CNN (Based on VGG11), Test, Train methods**"
      ],
      "metadata": {
        "id": "o24XBil8bahy"
      }
    },
    {
      "cell_type": "code",
      "execution_count": 5,
      "metadata": {
        "id": "sfzjkgNwBNSI"
      },
      "outputs": [],
      "source": [
        "#This is an implementation of VGG11 (which is a precursor to VGG16) for mnist dataset.\n",
        "# it also takes in n, which is the number of classes. N+1 class stands for unknown. \n",
        "\n",
        "#this will let us differeniate the unlabelled data from the labelled data\n",
        "class BasicNet(nn.Module):\n",
        "    def __init__(self, n=9):\n",
        "        super(BasicNet, self).__init__()\n",
        "        self.batchNorm = [nn.BatchNorm2d(64), nn.BatchNorm2d(128),nn.BatchNorm2d(256), nn.BatchNorm2d(256),\n",
        "                          nn.BatchNorm2d(512), nn.BatchNorm2d(512), nn.BatchNorm2d(512), nn.BatchNorm2d(512)]\n",
        "        self.conv = [\n",
        "        nn.Conv2d(1, 64, 3, 1, 1) ,nn.Conv2d(64, 128, 3, 1, 1), nn.Conv2d(128, 256, 3, 1, 1), nn.Conv2d(256, 256, 3, 1, 1)\n",
        "       ,nn.Conv2d(256, 512, 3, 1, 1), nn.Conv2d(512, 512, 3, 1, 1), nn.Conv2d(512, 512, 3, 1, 1), nn.Conv2d(512, 512, 3, 1, 1)\n",
        "        ]\n",
        "        maxPool = nn.MaxPool2d(2, stride=2)\n",
        "        self.conv1 = nn.Sequential(self.conv[0], self.batchNorm[0], nn.ReLU(), maxPool)\n",
        "        self.conv2 = nn.Sequential(self.conv[1], self.batchNorm[1], nn.ReLU(), maxPool)\n",
        "        self.conv3 = nn.Sequential(self.conv[2], self.batchNorm[2], nn.ReLU())\n",
        "        self.conv4 = nn.Sequential(self.conv[3], self.batchNorm[3], nn.ReLU(), maxPool) \n",
        "        self.conv5 = nn.Sequential(self.conv[4], self.batchNorm[4], nn.ReLU())\n",
        "        self.conv6 = nn.Sequential(self.conv[5], self.batchNorm[5], nn.ReLU(), maxPool)\n",
        "        self.conv7 = nn.Sequential(self.conv[6], self.batchNorm[6], nn.ReLU()) \n",
        "        self.conv8 = nn.Sequential(self.conv[7], self.batchNorm[7], nn.ReLU(), maxPool)\n",
        "        self.fc1 = nn.Linear(512, 4096)\n",
        "        self.fc2 = nn.Linear(4096, 4096)\n",
        "        self.fc3 = nn.Linear(4096, n+1)\n",
        "        \n",
        "    def forward(self, x, feature_embedding=False):\n",
        "        dropOut = nn.Dropout(p=0.5)\n",
        "\n",
        "        x = self.conv1(x)\n",
        "        x = self.conv2(x)\n",
        "        x = self.conv3(x)\n",
        "        x = self.conv4(x)\n",
        "        x = self.conv5(x)\n",
        "        x = self.conv6(x)\n",
        "        x = self.conv7(x)\n",
        "        x = self.conv8(x)\n",
        "        x = torch.flatten(x, 1)\n",
        "        \n",
        "        x = dropOut(F.relu(self.fc1(x)))\n",
        "        x = dropOut(F.relu(self.fc2(x)))\n",
        "        if(feature_embedding):\n",
        "          return x\n",
        "        #Not sure why this works without softmax. probably a reasoning givin in the paper (cause the output can range from anything (not normalized to a 0-1 probability range))\n",
        "        x = self.fc3(x)\n",
        "        return x"
      ]
    },
    {
      "cell_type": "code",
      "execution_count": 6,
      "metadata": {
        "id": "7ZUIoIjzBNSL"
      },
      "outputs": [],
      "source": [
        "def test(data, net):\n",
        "    net.eval()\n",
        "    loss_func = nn.CrossEntropyLoss()\n",
        "\n",
        "    total_correct = 0\n",
        "    total_loss = 0\n",
        "    with torch.no_grad():\n",
        "        correct = 0\n",
        "        total = 0\n",
        "        for i, (images, labels) in enumerate(data):\n",
        "            images= images.to(dev)\n",
        "            labels = labels.to(dev)\n",
        "            test_pred = net(images)\n",
        "\n",
        "            pred = torch.max(test_pred, 1)[1].data.squeeze()\n",
        "            total_correct+= (pred == labels).sum().item()\n",
        "            loss = loss_func( test_pred, labels)\n",
        "            total_loss+= loss.item()*images.size(0)\n",
        "        # return total_correct/len(data.dataset), total_loss/len(data.dataset)\n",
        "        # Note From Lance: We shouldn't divide the total loss\n",
        "        return total_correct/len(data.dataset), total_loss\n",
        "  \n",
        "def train(num_epochs, net, trainloader):\n",
        "    optimizer = optim.SGD(net.parameters(), lr=0.01)\n",
        "    loss_func = nn.CrossEntropyLoss()\n",
        "\n",
        "    accuracy_through_epochs = []\n",
        "    total_step = len(trainloader)\n",
        "    \n",
        "    for epoch in range(num_epochs):\n",
        "        net.train()\n",
        "        for i, (images, labels) in enumerate(trainloader):\n",
        "            images= images.to(dev)\n",
        "            labels = labels.to(dev)\n",
        "            optimizer.zero_grad()           \n",
        "            prediction = net(images)\n",
        "            loss = loss_func( prediction, labels)\n",
        "            loss.backward()\n",
        "            optimizer.step()\n",
        "            if ((i +1) % 100 == 0):\n",
        "                print(f\"Epoch {epoch+1} / {num_epochs}, Step {i+1}/ {total_step} , Loss {loss.item()}\")\n",
        "\n",
        "    return accuracy_through_epochs, net"
      ]
    },
    {
      "cell_type": "markdown",
      "source": [
        "### **E) [3] Code: Split Fashion MNIST training data into M labeled images, and N-M unlabeled**"
      ],
      "metadata": {
        "id": "NK6JVE0UGfF8"
      }
    },
    {
      "cell_type": "code",
      "source": [
        "#Modifies dataset in place to only have values correspounding to the labels in classesToUse\n",
        "def splitTrainingData(training_data, M_percent):\n",
        "  # N is len(training_data)\n",
        "  len_N = len(trainset)\n",
        "\n",
        "  # M is the number of labeled images we want\n",
        "  len_M = int(M_percent*len_N)\n",
        "  \n",
        "  labeled_data, unlabeled_data = torch.utils.data.random_split(trainset, [len_M, len_N - len_M])\n",
        "\n",
        "  # strip the labels from unlabeled_data\n",
        "  # unlabeled_data.dataset.targets[unlabeled_data.indices] = UNKNOWN_CLASS\n",
        "\n",
        "  labeled_data_loader = DataLoader(labeled_data, batch_size=128, shuffle=True)\n",
        "  unlabeled_data_loader = DataLoader(unlabeled_data, batch_size=128, shuffle=True)\n",
        "\n",
        "  return labeled_data_loader, unlabeled_data_loader, labeled_data, unlabeled_data\n"
      ],
      "metadata": {
        "id": "HaaxUxtcGppA"
      },
      "execution_count": 7,
      "outputs": []
    },
    {
      "cell_type": "code",
      "source": [
        "labeled_train_loader, unlabeled_train_loader, labeled_train_data, unlabeled_train_data = splitTrainingData(trainset, 0.7)"
      ],
      "metadata": {
        "id": "GaNdStKMkQun"
      },
      "execution_count": 8,
      "outputs": []
    },
    {
      "cell_type": "markdown",
      "source": [
        "### **E) [4] Code: Train Base CNN on M labeled training images**"
      ],
      "metadata": {
        "id": "iPnEeZO5chxW"
      }
    },
    {
      "cell_type": "code",
      "execution_count": 9,
      "metadata": {
        "colab": {
          "base_uri": "https://localhost:8080/"
        },
        "id": "-Q4oP9MOBNSN",
        "outputId": "45f14990-28c3-4a9e-8e31-83693e71fc66"
      },
      "outputs": [
        {
          "output_type": "stream",
          "name": "stdout",
          "text": [
            "Epoch 1 / 6, Step 100/ 329 , Loss 0.5896614789962769\n",
            "Epoch 1 / 6, Step 200/ 329 , Loss 0.38664066791534424\n",
            "Epoch 1 / 6, Step 300/ 329 , Loss 0.2878396511077881\n",
            "Epoch 2 / 6, Step 100/ 329 , Loss 0.2322658896446228\n",
            "Epoch 2 / 6, Step 200/ 329 , Loss 0.3462001383304596\n",
            "Epoch 2 / 6, Step 300/ 329 , Loss 0.3597228527069092\n",
            "Epoch 3 / 6, Step 100/ 329 , Loss 0.2226351797580719\n",
            "Epoch 3 / 6, Step 200/ 329 , Loss 0.2493106722831726\n",
            "Epoch 3 / 6, Step 300/ 329 , Loss 0.23303848505020142\n",
            "Epoch 4 / 6, Step 100/ 329 , Loss 0.2768872380256653\n",
            "Epoch 4 / 6, Step 200/ 329 , Loss 0.21701441705226898\n",
            "Epoch 4 / 6, Step 300/ 329 , Loss 0.23288694024085999\n",
            "Epoch 5 / 6, Step 100/ 329 , Loss 0.1061006560921669\n",
            "Epoch 5 / 6, Step 200/ 329 , Loss 0.09838267415761948\n",
            "Epoch 5 / 6, Step 300/ 329 , Loss 0.12534736096858978\n",
            "Epoch 6 / 6, Step 100/ 329 , Loss 0.06440412998199463\n",
            "Epoch 6 / 6, Step 200/ 329 , Loss 0.11180933564901352\n",
            "Epoch 6 / 6, Step 300/ 329 , Loss 0.0588134303689003\n"
          ]
        }
      ],
      "source": [
        "net = BasicNet()\n",
        "net.to(dev)\n",
        "result, trained_net = train(NUM_EPOCHS, net, labeled_train_loader)"
      ]
    },
    {
      "cell_type": "markdown",
      "source": [
        "### **E) [5] Code: Use the 'semi' trained CNN to gain important features (feature embedings) of N-M *unlabeled* training images**"
      ],
      "metadata": {
        "id": "JgorThJ9GTSZ"
      }
    },
    {
      "cell_type": "code",
      "source": [
        "#do this to store the results in 1 numpy array of 10000 images vs like 20 batches of size 128 images. \n",
        "#get memory error when doing it on a batch of size len(trainloader), so we have to combine the results for trainloader\n",
        "\n",
        "def getFeatureEmbedings(dataloader):\n",
        "  featureEmbed = []\n",
        "  predictedDigit = []\n",
        "\n",
        "  with torch.no_grad():\n",
        "    for i, (images, labels) in enumerate(dataloader):\n",
        "        images= images.to(dev)\n",
        "        labels = labels.to(dev)\n",
        "        featureEmbed.append(net(images, feature_embedding=True).to(\"cpu\").numpy())\n",
        "        pred = net(images)\n",
        "        predictedDigit.append(torch.max(pred, 1)[1].data.squeeze().to(\"cpu\").numpy())\n",
        "\n",
        "  # flatten lists\n",
        "  featureEmbed = np.array(list(itertools.chain(*featureEmbed)))\n",
        "  predictedDigit = np.array(list(itertools.chain(*predictedDigit)))\n",
        "\n",
        "  return featureEmbed, predictedDigit"
      ],
      "metadata": {
        "id": "Cay1LKG1dCgt"
      },
      "execution_count": 10,
      "outputs": []
    },
    {
      "cell_type": "code",
      "source": [
        "# We need the data with the labels\n",
        "trainFeatureEmbed, trainPredictedDigit = getFeatureEmbedings(trainloader)"
      ],
      "metadata": {
        "id": "RXoE9MVsncaB"
      },
      "execution_count": 11,
      "outputs": []
    },
    {
      "cell_type": "markdown",
      "source": [
        "### **E) [6] Code: Match cluster labels to actual Fashion MNIST labels**"
      ],
      "metadata": {
        "id": "cP92A4A4FnBo"
      }
    },
    {
      "cell_type": "code",
      "source": [
        "#In order to see how well k-means did we can use this supervised method of defining what a cluster is by seting the cluster label as the most common digits in that cluster\n",
        "#unsupervised approaches include: manually selecting class depending on mean image\n",
        "def retrieve_cluster_to_classification(cluster_labels,y_train):\n",
        "  reference_labels = {}\n",
        "# For loop to run through each label of cluster label\n",
        "  for i in range(len(np.unique(kmeans.labels_))):\n",
        "    index = np.where(cluster_labels == i,1,0)\n",
        "    # we only read 0:NUM_CLASSES so we dont read the unknown labels\n",
        "    num = np.bincount(y_train[index==1])[:NUM_CLASSES].argmax()\n",
        "    reference_labels[i] = num\n",
        "    # TODO: Right now the refrence label just maps to the majority label, should we also consider the 2nd and 3rd highest\n",
        "  return reference_labels"
      ],
      "metadata": {
        "id": "N4J6Y94UyRci"
      },
      "execution_count": 12,
      "outputs": []
    },
    {
      "cell_type": "markdown",
      "source": [
        "### **E) [7] Code: Define retrained CNN function using predicted labels from clustering for unlabeled data**\n",
        "\n"
      ],
      "metadata": {
        "id": "cJ91J2ujyL0Y"
      }
    },
    {
      "cell_type": "code",
      "source": [
        "def retrain_CNN_with_predicted_labels(train_dataset, my_labeled_trainset, my_unlabeled_trainset, unlabeled_train_loader, cluster_method):\n",
        "  \n",
        "  # remove all unlabeled labels from main training set, set them to NUM_CLASSES\n",
        "  train_targets = np.array(train_dataset.targets.numpy(), copy=True)  \n",
        "  train_targets[my_unlabeled_trainset.indices] = NUM_CLASSES\n",
        "  \n",
        "  # mapping from NUM_CLUSTERS to FASHION_MNIST classes\n",
        "  reference_labels = retrieve_cluster_to_classification(\n",
        "      cluster_method.labels_, \n",
        "      train_targets\n",
        "  )\n",
        "\n",
        "  unlabelTrainFeatureEmbed, _ = getFeatureEmbedings(unlabeled_train_loader)\n",
        "  \n",
        "  # Assign new labels\n",
        "  predicted_test = cluster_method.predict(unlabelTrainFeatureEmbed)\n",
        "  \n",
        "  for i in range(unlabelTrainFeatureEmbed.shape[0]):\n",
        "    my_unlabeled_trainset.dataset.targets[my_unlabeled_trainset.indices[i]] = reference_labels[predicted_test[i]]\n",
        "\n",
        "  new_combined_data = torch.utils.data.ConcatDataset([my_labeled_trainset, my_unlabeled_trainset])\n",
        "  new_combined_data_loader = DataLoader(new_combined_data, batch_size=128, shuffle=True)\n",
        "  retrained_net = BasicNet()\n",
        "  retrained_net.to(dev)\n",
        "  result, retrained_net = train(NUM_EPOCHS, retrained_net, new_combined_data_loader)\n",
        "  return retrained_net\n",
        "\n"
      ],
      "metadata": {
        "id": "xwS6S-FokaZJ"
      },
      "execution_count": 13,
      "outputs": []
    },
    {
      "cell_type": "markdown",
      "source": [
        "#**Experiments**\n"
      ],
      "metadata": {
        "id": "KjveyCWCmUnH"
      }
    },
    {
      "cell_type": "markdown",
      "source": [
        "###Experiment A) First we will create three experiments using diffirent ratios of M:N-M\n",
        "\n",
        "\n",
        "1.   Ratio of 70% labeled to 30% unlabeled\n",
        "2.   Ratio of 50% labeled to 50% unlabeled\n",
        "3.   Ratio of 30% labeled to 70% unlabeled\n",
        "\n",
        "\n"
      ],
      "metadata": {
        "id": "Zk9ebry0n4lA"
      }
    },
    {
      "cell_type": "code",
      "source": [
        "# Experiment A: Diffirent Ratios of M to N\n",
        "\n",
        "labeled_train_loader_70, unlabeled_train_loader_30, labeled_train_data_70, unlabeled_train_data_30 = splitTrainingData(trainset1, 0.7)\n",
        "labeled_train_loader_50, unlabeled_train_loader_50, labeled_train_data_50, unlabeled_train_data_50 = splitTrainingData(trainset2, 0.5)\n",
        "labeled_train_loader_30, unlabeled_train_loader_70, labeled_train_data_30, unlabeled_train_data_70 = splitTrainingData(trainset3, 0.3)"
      ],
      "metadata": {
        "id": "njxlymmEn6UR"
      },
      "execution_count": 14,
      "outputs": []
    },
    {
      "cell_type": "markdown",
      "source": [
        "###Experiment B) Then we will try training it with diffirent clustering methods"
      ],
      "metadata": {
        "id": "gU2k8HEDrNYm"
      }
    },
    {
      "cell_type": "code",
      "source": [
        "from sklearn.cluster import MiniBatchKMeans\n",
        "\n",
        "kmeans = MiniBatchKMeans(n_clusters = NUM_CLUSTERS)\n",
        "\n",
        "kmeans.fit(trainFeatureEmbed)"
      ],
      "metadata": {
        "colab": {
          "base_uri": "https://localhost:8080/"
        },
        "id": "JAss2NNi-6-z",
        "outputId": "7ca8baea-696c-458e-aac6-36b874cb8358"
      },
      "execution_count": 15,
      "outputs": [
        {
          "output_type": "execute_result",
          "data": {
            "text/plain": [
              "MiniBatchKMeans(n_clusters=30)"
            ]
          },
          "metadata": {},
          "execution_count": 15
        }
      ]
    },
    {
      "cell_type": "code",
      "source": [
        "from sklearn.cluster import KMeans\n",
        "\n",
        "gmm = KMeans(n_clusters = NUM_CLUSTERS)\n",
        "\n",
        "gmm.fit(trainFeatureEmbed)"
      ],
      "metadata": {
        "colab": {
          "base_uri": "https://localhost:8080/"
        },
        "id": "LDYIOUEK-wo9",
        "outputId": "5f0875d7-14b7-44ee-9cc9-2496b1dc9edf"
      },
      "execution_count": 16,
      "outputs": [
        {
          "output_type": "execute_result",
          "data": {
            "text/plain": [
              "KMeans(n_clusters=30)"
            ]
          },
          "metadata": {},
          "execution_count": 16
        }
      ]
    },
    {
      "cell_type": "markdown",
      "source": [
        "###Experiment C) Train all the models combining diffirent experiments"
      ],
      "metadata": {
        "id": "8dpNhodXA5pv"
      }
    },
    {
      "cell_type": "code",
      "source": [
        "labeled_train_loader_70, unlabeled_train_loader_30, labeled_train_data_70, unlabeled_train_data_30 = splitTrainingData(trainset1, 0.7)\n",
        "\n",
        "retrained_net_kmeans_70_label_30_not = retrain_CNN_with_predicted_labels(trainset, labeled_train_data_70, unlabeled_train_data_30, unlabeled_train_loader_30, kmeans)"
      ],
      "metadata": {
        "colab": {
          "base_uri": "https://localhost:8080/"
        },
        "id": "v01rGfhXBFaU",
        "outputId": "d8bccd41-7b2b-41dc-d10a-de74c89d4180"
      },
      "execution_count": 17,
      "outputs": [
        {
          "output_type": "stream",
          "name": "stdout",
          "text": [
            "Epoch 1 / 6, Step 100/ 469 , Loss 1.3077466487884521\n",
            "Epoch 1 / 6, Step 200/ 469 , Loss 1.5021998882293701\n",
            "Epoch 1 / 6, Step 300/ 469 , Loss 1.197214126586914\n",
            "Epoch 1 / 6, Step 400/ 469 , Loss 1.4652421474456787\n",
            "Epoch 2 / 6, Step 100/ 469 , Loss 1.2810701131820679\n",
            "Epoch 2 / 6, Step 200/ 469 , Loss 1.3173002004623413\n",
            "Epoch 2 / 6, Step 300/ 469 , Loss 1.277416467666626\n",
            "Epoch 2 / 6, Step 400/ 469 , Loss 1.3105747699737549\n",
            "Epoch 3 / 6, Step 100/ 469 , Loss 1.1672008037567139\n",
            "Epoch 3 / 6, Step 200/ 469 , Loss 1.2709344625473022\n",
            "Epoch 3 / 6, Step 300/ 469 , Loss 1.0227795839309692\n",
            "Epoch 3 / 6, Step 400/ 469 , Loss 1.282875895500183\n",
            "Epoch 4 / 6, Step 100/ 469 , Loss 1.2673919200897217\n",
            "Epoch 4 / 6, Step 200/ 469 , Loss 1.0441604852676392\n",
            "Epoch 4 / 6, Step 300/ 469 , Loss 1.1563324928283691\n",
            "Epoch 4 / 6, Step 400/ 469 , Loss 1.1749768257141113\n",
            "Epoch 5 / 6, Step 100/ 469 , Loss 1.2146838903427124\n",
            "Epoch 5 / 6, Step 200/ 469 , Loss 0.8686410784721375\n",
            "Epoch 5 / 6, Step 300/ 469 , Loss 1.3460208177566528\n",
            "Epoch 5 / 6, Step 400/ 469 , Loss 1.4131942987442017\n",
            "Epoch 6 / 6, Step 100/ 469 , Loss 1.130473256111145\n",
            "Epoch 6 / 6, Step 200/ 469 , Loss 1.0645304918289185\n",
            "Epoch 6 / 6, Step 300/ 469 , Loss 1.2398172616958618\n",
            "Epoch 6 / 6, Step 400/ 469 , Loss 0.8550801873207092\n"
          ]
        }
      ]
    },
    {
      "cell_type": "code",
      "source": [
        "retrained_net_kmeans_50_label_50_not = retrain_CNN_with_predicted_labels(trainset, labeled_train_data_50, unlabeled_train_data_50, unlabeled_train_loader_50, kmeans)"
      ],
      "metadata": {
        "colab": {
          "base_uri": "https://localhost:8080/"
        },
        "id": "Wz1hF8lNBHR_",
        "outputId": "b326868a-7798-4f09-94aa-638035cbf08b"
      },
      "execution_count": 18,
      "outputs": [
        {
          "output_type": "stream",
          "name": "stdout",
          "text": [
            "Epoch 1 / 6, Step 100/ 469 , Loss 1.9856040477752686\n",
            "Epoch 1 / 6, Step 200/ 469 , Loss 1.8667981624603271\n",
            "Epoch 1 / 6, Step 300/ 469 , Loss 1.9587582349777222\n",
            "Epoch 1 / 6, Step 400/ 469 , Loss 1.9245553016662598\n",
            "Epoch 2 / 6, Step 100/ 469 , Loss 1.9451022148132324\n",
            "Epoch 2 / 6, Step 200/ 469 , Loss 1.820996642112732\n",
            "Epoch 2 / 6, Step 300/ 469 , Loss 1.9114162921905518\n",
            "Epoch 2 / 6, Step 400/ 469 , Loss 1.8987590074539185\n",
            "Epoch 3 / 6, Step 100/ 469 , Loss 1.8657362461090088\n",
            "Epoch 3 / 6, Step 200/ 469 , Loss 1.9047188758850098\n",
            "Epoch 3 / 6, Step 300/ 469 , Loss 1.8050297498703003\n",
            "Epoch 3 / 6, Step 400/ 469 , Loss 1.8202325105667114\n",
            "Epoch 4 / 6, Step 100/ 469 , Loss 1.8185404539108276\n",
            "Epoch 4 / 6, Step 200/ 469 , Loss 1.7653898000717163\n",
            "Epoch 4 / 6, Step 300/ 469 , Loss 1.9097654819488525\n",
            "Epoch 4 / 6, Step 400/ 469 , Loss 1.9511072635650635\n",
            "Epoch 5 / 6, Step 100/ 469 , Loss 1.9066110849380493\n",
            "Epoch 5 / 6, Step 200/ 469 , Loss 1.8726301193237305\n",
            "Epoch 5 / 6, Step 300/ 469 , Loss 1.8893966674804688\n",
            "Epoch 5 / 6, Step 400/ 469 , Loss 1.8973332643508911\n",
            "Epoch 6 / 6, Step 100/ 469 , Loss 1.8443297147750854\n",
            "Epoch 6 / 6, Step 200/ 469 , Loss 1.9057611227035522\n",
            "Epoch 6 / 6, Step 300/ 469 , Loss 1.929040789604187\n",
            "Epoch 6 / 6, Step 400/ 469 , Loss 1.6826194524765015\n"
          ]
        }
      ]
    },
    {
      "cell_type": "code",
      "source": [
        "retrained_net_kmeans_30_label_70_not = retrain_CNN_with_predicted_labels(trainset, labeled_train_data_30, unlabeled_train_data_70, unlabeled_train_loader_70, kmeans)"
      ],
      "metadata": {
        "colab": {
          "base_uri": "https://localhost:8080/"
        },
        "id": "BjNFDCvOBHam",
        "outputId": "333824ab-79f1-4797-87bd-dd0887d27a0b"
      },
      "execution_count": 19,
      "outputs": [
        {
          "output_type": "stream",
          "name": "stdout",
          "text": [
            "Epoch 1 / 6, Step 100/ 469 , Loss 2.0655272006988525\n",
            "Epoch 1 / 6, Step 200/ 469 , Loss 2.1276915073394775\n",
            "Epoch 1 / 6, Step 300/ 469 , Loss 2.0456411838531494\n",
            "Epoch 1 / 6, Step 400/ 469 , Loss 2.040234327316284\n",
            "Epoch 2 / 6, Step 100/ 469 , Loss 2.013228416442871\n",
            "Epoch 2 / 6, Step 200/ 469 , Loss 2.0299222469329834\n",
            "Epoch 2 / 6, Step 300/ 469 , Loss 2.1579625606536865\n",
            "Epoch 2 / 6, Step 400/ 469 , Loss 2.0318336486816406\n",
            "Epoch 3 / 6, Step 100/ 469 , Loss 2.0196309089660645\n",
            "Epoch 3 / 6, Step 200/ 469 , Loss 1.971649408340454\n",
            "Epoch 3 / 6, Step 300/ 469 , Loss 2.025629758834839\n",
            "Epoch 3 / 6, Step 400/ 469 , Loss 1.9865151643753052\n",
            "Epoch 4 / 6, Step 100/ 469 , Loss 1.9981296062469482\n",
            "Epoch 4 / 6, Step 200/ 469 , Loss 2.0194079875946045\n",
            "Epoch 4 / 6, Step 300/ 469 , Loss 2.021954298019409\n",
            "Epoch 4 / 6, Step 400/ 469 , Loss 1.9601690769195557\n",
            "Epoch 5 / 6, Step 100/ 469 , Loss 2.0374221801757812\n",
            "Epoch 5 / 6, Step 200/ 469 , Loss 2.0020627975463867\n",
            "Epoch 5 / 6, Step 300/ 469 , Loss 1.9685097932815552\n",
            "Epoch 5 / 6, Step 400/ 469 , Loss 1.9349340200424194\n",
            "Epoch 6 / 6, Step 100/ 469 , Loss 2.0806479454040527\n",
            "Epoch 6 / 6, Step 200/ 469 , Loss 2.0410783290863037\n",
            "Epoch 6 / 6, Step 300/ 469 , Loss 2.031367540359497\n",
            "Epoch 6 / 6, Step 400/ 469 , Loss 2.045809268951416\n"
          ]
        }
      ]
    },
    {
      "cell_type": "code",
      "source": [
        "retrained_net_gmm_70_label_30_not = retrain_CNN_with_predicted_labels(trainset, labeled_train_data_70, unlabeled_train_data_30, unlabeled_train_loader_30, gmm)"
      ],
      "metadata": {
        "colab": {
          "base_uri": "https://localhost:8080/"
        },
        "id": "0-i9wlc7BMDr",
        "outputId": "ee3955a5-b88b-43ee-c34a-9231763fa8b2"
      },
      "execution_count": 33,
      "outputs": [
        {
          "output_type": "stream",
          "name": "stdout",
          "text": [
            "Epoch 1 / 6, Step 100/ 469 , Loss 0.25750860571861267\n",
            "Epoch 1 / 6, Step 200/ 469 , Loss 0.3161627948284149\n",
            "Epoch 1 / 6, Step 300/ 469 , Loss 0.30919647216796875\n",
            "Epoch 1 / 6, Step 400/ 469 , Loss 0.23848018050193787\n",
            "Epoch 2 / 6, Step 100/ 469 , Loss 0.27384525537490845\n",
            "Epoch 2 / 6, Step 200/ 469 , Loss 0.2125859260559082\n",
            "Epoch 2 / 6, Step 300/ 469 , Loss 0.28071328997612\n",
            "Epoch 2 / 6, Step 400/ 469 , Loss 0.17969448864459991\n",
            "Epoch 3 / 6, Step 100/ 469 , Loss 0.30424943566322327\n",
            "Epoch 3 / 6, Step 200/ 469 , Loss 0.21379859745502472\n",
            "Epoch 3 / 6, Step 300/ 469 , Loss 0.11011718213558197\n",
            "Epoch 3 / 6, Step 400/ 469 , Loss 0.31632810831069946\n",
            "Epoch 4 / 6, Step 100/ 469 , Loss 0.13579429686069489\n",
            "Epoch 4 / 6, Step 200/ 469 , Loss 0.4842036962509155\n",
            "Epoch 4 / 6, Step 300/ 469 , Loss 0.3260994851589203\n",
            "Epoch 4 / 6, Step 400/ 469 , Loss 0.24616527557373047\n",
            "Epoch 5 / 6, Step 100/ 469 , Loss 0.22891172766685486\n",
            "Epoch 5 / 6, Step 200/ 469 , Loss 0.2275041788816452\n",
            "Epoch 5 / 6, Step 300/ 469 , Loss 0.36433932185173035\n",
            "Epoch 5 / 6, Step 400/ 469 , Loss 0.14801740646362305\n",
            "Epoch 6 / 6, Step 100/ 469 , Loss 0.32018211483955383\n",
            "Epoch 6 / 6, Step 200/ 469 , Loss 0.19356179237365723\n",
            "Epoch 6 / 6, Step 300/ 469 , Loss 0.20638588070869446\n",
            "Epoch 6 / 6, Step 400/ 469 , Loss 0.31674182415008545\n"
          ]
        }
      ]
    },
    {
      "cell_type": "code",
      "source": [
        "retrained_net_gmm_50_label_50_not = retrain_CNN_with_predicted_labels(trainset, labeled_train_data_50, unlabeled_train_data_50, unlabeled_train_loader_50, gmm)"
      ],
      "metadata": {
        "colab": {
          "base_uri": "https://localhost:8080/"
        },
        "id": "CSar1kepBMJw",
        "outputId": "bf6c353e-4345-4981-aae9-69003ba2fc8c"
      },
      "execution_count": 21,
      "outputs": [
        {
          "output_type": "stream",
          "name": "stdout",
          "text": [
            "Epoch 1 / 6, Step 100/ 469 , Loss 1.3504608869552612\n",
            "Epoch 1 / 6, Step 200/ 469 , Loss 1.0888428688049316\n",
            "Epoch 1 / 6, Step 300/ 469 , Loss 1.083351492881775\n",
            "Epoch 1 / 6, Step 400/ 469 , Loss 1.117932915687561\n",
            "Epoch 2 / 6, Step 100/ 469 , Loss 1.0760465860366821\n",
            "Epoch 2 / 6, Step 200/ 469 , Loss 1.2446783781051636\n",
            "Epoch 2 / 6, Step 300/ 469 , Loss 1.2663403749465942\n",
            "Epoch 2 / 6, Step 400/ 469 , Loss 1.309420108795166\n",
            "Epoch 3 / 6, Step 100/ 469 , Loss 1.2133630514144897\n",
            "Epoch 3 / 6, Step 200/ 469 , Loss 1.2981140613555908\n",
            "Epoch 3 / 6, Step 300/ 469 , Loss 1.2319101095199585\n",
            "Epoch 3 / 6, Step 400/ 469 , Loss 1.208457112312317\n",
            "Epoch 4 / 6, Step 100/ 469 , Loss 0.8844984173774719\n",
            "Epoch 4 / 6, Step 200/ 469 , Loss 1.1128549575805664\n",
            "Epoch 4 / 6, Step 300/ 469 , Loss 1.042758584022522\n",
            "Epoch 4 / 6, Step 400/ 469 , Loss 1.248980164527893\n",
            "Epoch 5 / 6, Step 100/ 469 , Loss 1.0877869129180908\n",
            "Epoch 5 / 6, Step 200/ 469 , Loss 1.2652432918548584\n",
            "Epoch 5 / 6, Step 300/ 469 , Loss 1.180959939956665\n",
            "Epoch 5 / 6, Step 400/ 469 , Loss 1.258550763130188\n",
            "Epoch 6 / 6, Step 100/ 469 , Loss 1.0430179834365845\n",
            "Epoch 6 / 6, Step 200/ 469 , Loss 1.17298424243927\n",
            "Epoch 6 / 6, Step 300/ 469 , Loss 1.0256273746490479\n",
            "Epoch 6 / 6, Step 400/ 469 , Loss 1.1374541521072388\n"
          ]
        }
      ]
    },
    {
      "cell_type": "code",
      "source": [
        "retrained_net_gmm_30_label_70_not = retrain_CNN_with_predicted_labels(trainset, labeled_train_data_30, unlabeled_train_data_70, unlabeled_train_loader_70, gmm)"
      ],
      "metadata": {
        "colab": {
          "base_uri": "https://localhost:8080/"
        },
        "id": "XM5MAfTbBMTA",
        "outputId": "1374685c-2e14-4b9a-a8a9-92ab08f9fd05"
      },
      "execution_count": 22,
      "outputs": [
        {
          "output_type": "stream",
          "name": "stdout",
          "text": [
            "Epoch 1 / 6, Step 100/ 469 , Loss 0.38810646533966064\n",
            "Epoch 1 / 6, Step 200/ 469 , Loss 0.34588196873664856\n",
            "Epoch 1 / 6, Step 300/ 469 , Loss 0.5103456974029541\n",
            "Epoch 1 / 6, Step 400/ 469 , Loss 0.5229159593582153\n",
            "Epoch 2 / 6, Step 100/ 469 , Loss 0.5555210113525391\n",
            "Epoch 2 / 6, Step 200/ 469 , Loss 0.35558781027793884\n",
            "Epoch 2 / 6, Step 300/ 469 , Loss 0.4295312166213989\n",
            "Epoch 2 / 6, Step 400/ 469 , Loss 0.4190937280654907\n",
            "Epoch 3 / 6, Step 100/ 469 , Loss 0.4520753026008606\n",
            "Epoch 3 / 6, Step 200/ 469 , Loss 0.39666807651519775\n",
            "Epoch 3 / 6, Step 300/ 469 , Loss 0.4346494674682617\n",
            "Epoch 3 / 6, Step 400/ 469 , Loss 0.3661379814147949\n",
            "Epoch 4 / 6, Step 100/ 469 , Loss 0.42919453978538513\n",
            "Epoch 4 / 6, Step 200/ 469 , Loss 0.3797461688518524\n",
            "Epoch 4 / 6, Step 300/ 469 , Loss 0.4750433564186096\n",
            "Epoch 4 / 6, Step 400/ 469 , Loss 0.4261043965816498\n",
            "Epoch 5 / 6, Step 100/ 469 , Loss 0.44995495676994324\n",
            "Epoch 5 / 6, Step 200/ 469 , Loss 0.42984291911125183\n",
            "Epoch 5 / 6, Step 300/ 469 , Loss 0.5086904764175415\n",
            "Epoch 5 / 6, Step 400/ 469 , Loss 0.4117642641067505\n",
            "Epoch 6 / 6, Step 100/ 469 , Loss 0.2735496163368225\n",
            "Epoch 6 / 6, Step 200/ 469 , Loss 0.2858707904815674\n",
            "Epoch 6 / 6, Step 300/ 469 , Loss 0.2747817635536194\n",
            "Epoch 6 / 6, Step 400/ 469 , Loss 0.41030392050743103\n"
          ]
        }
      ]
    },
    {
      "cell_type": "markdown",
      "source": [
        "#**Results**\n"
      ],
      "metadata": {
        "id": "JGBSP5TXBiGv"
      }
    },
    {
      "cell_type": "markdown",
      "source": [
        "###First we will look at the **baseline** results from the CNN trained on M labeled images"
      ],
      "metadata": {
        "id": "fnVfGL5oZU3x"
      }
    },
    {
      "cell_type": "code",
      "source": [
        "testFeatureEmbed, _ = getFeatureEmbedings(testloader)"
      ],
      "metadata": {
        "id": "9IKInqSi6C1S"
      },
      "execution_count": 23,
      "outputs": []
    },
    {
      "cell_type": "code",
      "source": [
        "baseline_accuracy, loss = test(testloader, net)\n",
        "print(f\"Our accuracy with just the CNN is: {baseline_accuracy} on test set from training on trainset\" )"
      ],
      "metadata": {
        "id": "pH2XADkWZSER",
        "colab": {
          "base_uri": "https://localhost:8080/"
        },
        "outputId": "907f40d6-8259-4690-c1a0-4ee11fdcf4ba"
      },
      "execution_count": 24,
      "outputs": [
        {
          "output_type": "stream",
          "name": "stdout",
          "text": [
            "Our accuracy with just the CNN is: 0.8586 on test set from training on trainset\n"
          ]
        }
      ]
    },
    {
      "cell_type": "markdown",
      "source": [
        "### Next we will look at all the other methods that use weakly supervised learning, we aim to be better than the baseline in each\n"
      ],
      "metadata": {
        "id": "vJ2rkCOdZUPs"
      }
    },
    {
      "cell_type": "code",
      "source": [
        "accuracy_kmeans_70_label_30_not, loss = test(testloader, retrained_net_kmeans_70_label_30_not)\n",
        "print(f\"Our accuracy with the CNN and Mini-Batch Kmeans clustering with 70% labeled, 30% unlabeled is: {accuracy_kmeans_70_label_30_not} on test set\" )"
      ],
      "metadata": {
        "colab": {
          "base_uri": "https://localhost:8080/"
        },
        "id": "yut5RI8zAxZg",
        "outputId": "006c1313-3493-4072-b42b-0065e731ea47"
      },
      "execution_count": 25,
      "outputs": [
        {
          "output_type": "stream",
          "name": "stdout",
          "text": [
            "Our accuracy with the CNN and Mini-Batch Kmeans clustering with 70% labeled, 30% unlabeled is: 0.8854 on test set\n"
          ]
        }
      ]
    },
    {
      "cell_type": "code",
      "source": [
        "accuracy_kmeans_50_label_50_not, loss = test(testloader, retrained_net_kmeans_50_label_50_not)\n",
        "print(f\"Our accuracy with the CNN and Mini-Batch Kmeans clustering with 50% labeled, 50% unlabeled is: {accuracy_kmeans_50_label_50_not} on test set\" )"
      ],
      "metadata": {
        "colab": {
          "base_uri": "https://localhost:8080/"
        },
        "id": "q0d8xRVIAxlT",
        "outputId": "47182b94-3760-4468-cabd-9548adcf9539"
      },
      "execution_count": 26,
      "outputs": [
        {
          "output_type": "stream",
          "name": "stdout",
          "text": [
            "Our accuracy with the CNN and Mini-Batch Kmeans clustering with 50% labeled, 50% unlabeled is: 0.7828 on test set\n"
          ]
        }
      ]
    },
    {
      "cell_type": "code",
      "source": [
        "accuracy_kmeans_30_label_70_not, loss = test(testloader, retrained_net_kmeans_30_label_70_not)\n",
        "print(f\"Our accuracy with the CNN and Mini-Batch Kmeans clustering with 30% labeled, 70% unlabeled is: {accuracy_kmeans_30_label_70_not} on test set\" )"
      ],
      "metadata": {
        "id": "IvzHxZpzC9tw",
        "colab": {
          "base_uri": "https://localhost:8080/"
        },
        "outputId": "6cda7ee0-ab1e-463c-8a87-8741c78ad95a"
      },
      "execution_count": 27,
      "outputs": [
        {
          "output_type": "stream",
          "name": "stdout",
          "text": [
            "Our accuracy with the CNN and Mini-Batch Kmeans clustering with 30% labeled, 70% unlabeled is: 0.1256 on test set\n"
          ]
        }
      ]
    },
    {
      "cell_type": "code",
      "source": [
        "accuracy_gmm_70_label_30_not, loss = test(testloader, retrained_net_gmm_70_label_30_not)\n",
        "print(f\"Our accuracy with the CNN and Kmeans clustering with 70% labeled, 30% unlabeled is: {accuracy_gmm_70_label_30_not} on test set from training on trainset\" )"
      ],
      "metadata": {
        "colab": {
          "base_uri": "https://localhost:8080/"
        },
        "id": "0V2K0kkdCjJ6",
        "outputId": "0ee93fa5-71f6-4917-c76f-128c9ae16818"
      },
      "execution_count": 34,
      "outputs": [
        {
          "output_type": "stream",
          "name": "stdout",
          "text": [
            "Our accuracy with the CNN and Kmeans clustering with 70% labeled, 30% unlabeled is: 0.1001 on test set from training on trainset\n"
          ]
        }
      ]
    },
    {
      "cell_type": "code",
      "source": [
        "accuracy_gmm_50_label_50_not, loss = test(testloader, retrained_net_gmm_50_label_50_not)\n",
        "print(f\"Our accuracy with the CNN and Kmeans clustering with 50% labeled, 50% unlabeled is: {accuracy_gmm_50_label_50_not} on test set from training on trainset\" )"
      ],
      "metadata": {
        "colab": {
          "base_uri": "https://localhost:8080/"
        },
        "id": "CmVV-eFACjUc",
        "outputId": "f5dc64de-54b8-47a8-8ec9-2b29b6cdd2d1"
      },
      "execution_count": 29,
      "outputs": [
        {
          "output_type": "stream",
          "name": "stdout",
          "text": [
            "Our accuracy with the CNN and Kmeans clustering with 50% labeled, 50% unlabeled is: 0.1 on test set from training on trainset\n"
          ]
        }
      ]
    },
    {
      "cell_type": "code",
      "source": [
        "accuracy_gmm_30_label_70_not, loss = test(testloader, retrained_net_gmm_30_label_70_not)\n",
        "print(f\"Our accuracy with the CNN and Kmeans clustering with 30% labeled, 70% unlabeled is: {accuracy_gmm_30_label_70_not} on test set from training on trainset\" )"
      ],
      "metadata": {
        "colab": {
          "base_uri": "https://localhost:8080/"
        },
        "id": "Q1zSeky8Cjbu",
        "outputId": "bf5c3524-0488-452d-c03e-9d43f76269d2"
      },
      "execution_count": 35,
      "outputs": [
        {
          "output_type": "stream",
          "name": "stdout",
          "text": [
            "Our accuracy with the CNN and Kmeans clustering with 30% labeled, 70% unlabeled is: 0.1 on test set from training on trainset\n"
          ]
        }
      ]
    },
    {
      "cell_type": "markdown",
      "source": [
        "#**Conclusions**\n",
        "\n",
        "One positive result from our experiments is that we found Mini-Batch Kmeans with a ratio of 70% labeled, 30% unlabeled yielded a 5% increase in accuracy compared to the baseline. However we saw that all other ratios and clustering methods provided a < 20% accuracy rate. Mini Batch K-means in general was more accurate than just pure k-means.\n",
        "\n",
        "\n",
        "The usefulness of ratios where unlabeled was equal to or greater that would have been more of a useful result, but an improvement from 30% unlabeled to \n",
        "85.4% accuracy is not a total loss.\n",
        "\n",
        "\n",
        "We were limited in which clustering methods we could use due to RAM capacity and learning times. GMM was used originally but it would take 2 hours to train with a GPU, and would often crash. DBSCAN, and OPTICS models were also attempted but faced similar issues. \n",
        "\n",
        "\n",
        "One reason we believe that the results weren't as strong as we expected is that we randomly split the data into M% labeled and (N-M)% unlabeled, without taking into consideration the labels of the data. This could have lead to hotspots of certain label types being placed in the unlabeled set, leading to poor classification results.\n",
        "\n",
        "\n",
        "Another reason we believe that could explain the result, is that we performed clustering on the feature emebedings of the images. Meaning that after we trained our original CNN on M labeled images, we used it to get a vector of size 4096 from each image in the training set. We performed clustering on the feature embeded version of each image, and 4096 might have been too small of a feature to encode all the data of an image required to cluster it properly (although in prior tests we reached 85.4% accuracy just from clustering using a full labeled N size dataset).\n",
        "\n",
        "Lastly we believe that the way that we assigned labels to the unlabeled images might be improved. We used the mode label in each cluster (from the labeled images in the cluster). We believe that in the future we should have only labeled images with a probability greater than a certain threshold as the label, as there were 30 clusters, and noisy/inacurate labels could have been introduced."
      ],
      "metadata": {
        "id": "1GxL84V_Rv82"
      }
    }
  ],
  "metadata": {
    "kernelspec": {
      "display_name": "Python 3",
      "language": "python",
      "name": "python3"
    },
    "language_info": {
      "codemirror_mode": {
        "name": "ipython",
        "version": 3
      },
      "file_extension": ".py",
      "mimetype": "text/x-python",
      "name": "python",
      "nbconvert_exporter": "python",
      "pygments_lexer": "ipython3",
      "version": "3.7.4"
    },
    "colab": {
      "name": "Copy of cs484 proj.ipynb",
      "provenance": [],
      "collapsed_sections": [],
      "machine_shape": "hm",
      "include_colab_link": true
    },
    "accelerator": "GPU",
    "widgets": {
      "application/vnd.jupyter.widget-state+json": {
        "159056227b264740ac3a7ea068bbff1e": {
          "model_module": "@jupyter-widgets/controls",
          "model_name": "HBoxModel",
          "model_module_version": "1.5.0",
          "state": {
            "_view_name": "HBoxView",
            "_dom_classes": [],
            "_model_name": "HBoxModel",
            "_view_module": "@jupyter-widgets/controls",
            "_model_module_version": "1.5.0",
            "_view_count": null,
            "_view_module_version": "1.5.0",
            "box_style": "",
            "layout": "IPY_MODEL_c0bc20df4c164429bd201c39d4ccc7f7",
            "_model_module": "@jupyter-widgets/controls",
            "children": [
              "IPY_MODEL_e062a210bc5142d6a3113b893f345d2f",
              "IPY_MODEL_015824ac48854be6a0121d0a41bb448f",
              "IPY_MODEL_46bcea98abb34a479cb7ebb2bc8a7eb3"
            ]
          }
        },
        "c0bc20df4c164429bd201c39d4ccc7f7": {
          "model_module": "@jupyter-widgets/base",
          "model_name": "LayoutModel",
          "model_module_version": "1.2.0",
          "state": {
            "_view_name": "LayoutView",
            "grid_template_rows": null,
            "right": null,
            "justify_content": null,
            "_view_module": "@jupyter-widgets/base",
            "overflow": null,
            "_model_module_version": "1.2.0",
            "_view_count": null,
            "flex_flow": null,
            "width": null,
            "min_width": null,
            "border": null,
            "align_items": null,
            "bottom": null,
            "_model_module": "@jupyter-widgets/base",
            "top": null,
            "grid_column": null,
            "overflow_y": null,
            "overflow_x": null,
            "grid_auto_flow": null,
            "grid_area": null,
            "grid_template_columns": null,
            "flex": null,
            "_model_name": "LayoutModel",
            "justify_items": null,
            "grid_row": null,
            "max_height": null,
            "align_content": null,
            "visibility": null,
            "align_self": null,
            "height": null,
            "min_height": null,
            "padding": null,
            "grid_auto_rows": null,
            "grid_gap": null,
            "max_width": null,
            "order": null,
            "_view_module_version": "1.2.0",
            "grid_template_areas": null,
            "object_position": null,
            "object_fit": null,
            "grid_auto_columns": null,
            "margin": null,
            "display": null,
            "left": null
          }
        },
        "e062a210bc5142d6a3113b893f345d2f": {
          "model_module": "@jupyter-widgets/controls",
          "model_name": "HTMLModel",
          "model_module_version": "1.5.0",
          "state": {
            "_view_name": "HTMLView",
            "style": "IPY_MODEL_a70a40041e134108b45d5c06e961e5d6",
            "_dom_classes": [],
            "description": "",
            "_model_name": "HTMLModel",
            "placeholder": "​",
            "_view_module": "@jupyter-widgets/controls",
            "_model_module_version": "1.5.0",
            "value": "",
            "_view_count": null,
            "_view_module_version": "1.5.0",
            "description_tooltip": null,
            "_model_module": "@jupyter-widgets/controls",
            "layout": "IPY_MODEL_7859d84c4230481e9c6714c1654bca1c"
          }
        },
        "015824ac48854be6a0121d0a41bb448f": {
          "model_module": "@jupyter-widgets/controls",
          "model_name": "FloatProgressModel",
          "model_module_version": "1.5.0",
          "state": {
            "_view_name": "ProgressView",
            "style": "IPY_MODEL_60f7987d11b14576b588541c12c24097",
            "_dom_classes": [],
            "description": "",
            "_model_name": "FloatProgressModel",
            "bar_style": "success",
            "max": 26421880,
            "_view_module": "@jupyter-widgets/controls",
            "_model_module_version": "1.5.0",
            "value": 26421880,
            "_view_count": null,
            "_view_module_version": "1.5.0",
            "orientation": "horizontal",
            "min": 0,
            "description_tooltip": null,
            "_model_module": "@jupyter-widgets/controls",
            "layout": "IPY_MODEL_a3e18b054cc64c328c70d781d745913a"
          }
        },
        "46bcea98abb34a479cb7ebb2bc8a7eb3": {
          "model_module": "@jupyter-widgets/controls",
          "model_name": "HTMLModel",
          "model_module_version": "1.5.0",
          "state": {
            "_view_name": "HTMLView",
            "style": "IPY_MODEL_5d10bfd30e974f7daba900ad06c15c22",
            "_dom_classes": [],
            "description": "",
            "_model_name": "HTMLModel",
            "placeholder": "​",
            "_view_module": "@jupyter-widgets/controls",
            "_model_module_version": "1.5.0",
            "value": " 26422272/? [00:02&lt;00:00, 16383149.62it/s]",
            "_view_count": null,
            "_view_module_version": "1.5.0",
            "description_tooltip": null,
            "_model_module": "@jupyter-widgets/controls",
            "layout": "IPY_MODEL_62dbb1c0682c446fb94285c13411bc37"
          }
        },
        "a70a40041e134108b45d5c06e961e5d6": {
          "model_module": "@jupyter-widgets/controls",
          "model_name": "DescriptionStyleModel",
          "model_module_version": "1.5.0",
          "state": {
            "_view_name": "StyleView",
            "_model_name": "DescriptionStyleModel",
            "description_width": "",
            "_view_module": "@jupyter-widgets/base",
            "_model_module_version": "1.5.0",
            "_view_count": null,
            "_view_module_version": "1.2.0",
            "_model_module": "@jupyter-widgets/controls"
          }
        },
        "7859d84c4230481e9c6714c1654bca1c": {
          "model_module": "@jupyter-widgets/base",
          "model_name": "LayoutModel",
          "model_module_version": "1.2.0",
          "state": {
            "_view_name": "LayoutView",
            "grid_template_rows": null,
            "right": null,
            "justify_content": null,
            "_view_module": "@jupyter-widgets/base",
            "overflow": null,
            "_model_module_version": "1.2.0",
            "_view_count": null,
            "flex_flow": null,
            "width": null,
            "min_width": null,
            "border": null,
            "align_items": null,
            "bottom": null,
            "_model_module": "@jupyter-widgets/base",
            "top": null,
            "grid_column": null,
            "overflow_y": null,
            "overflow_x": null,
            "grid_auto_flow": null,
            "grid_area": null,
            "grid_template_columns": null,
            "flex": null,
            "_model_name": "LayoutModel",
            "justify_items": null,
            "grid_row": null,
            "max_height": null,
            "align_content": null,
            "visibility": null,
            "align_self": null,
            "height": null,
            "min_height": null,
            "padding": null,
            "grid_auto_rows": null,
            "grid_gap": null,
            "max_width": null,
            "order": null,
            "_view_module_version": "1.2.0",
            "grid_template_areas": null,
            "object_position": null,
            "object_fit": null,
            "grid_auto_columns": null,
            "margin": null,
            "display": null,
            "left": null
          }
        },
        "60f7987d11b14576b588541c12c24097": {
          "model_module": "@jupyter-widgets/controls",
          "model_name": "ProgressStyleModel",
          "model_module_version": "1.5.0",
          "state": {
            "_view_name": "StyleView",
            "_model_name": "ProgressStyleModel",
            "description_width": "",
            "_view_module": "@jupyter-widgets/base",
            "_model_module_version": "1.5.0",
            "_view_count": null,
            "_view_module_version": "1.2.0",
            "bar_color": null,
            "_model_module": "@jupyter-widgets/controls"
          }
        },
        "a3e18b054cc64c328c70d781d745913a": {
          "model_module": "@jupyter-widgets/base",
          "model_name": "LayoutModel",
          "model_module_version": "1.2.0",
          "state": {
            "_view_name": "LayoutView",
            "grid_template_rows": null,
            "right": null,
            "justify_content": null,
            "_view_module": "@jupyter-widgets/base",
            "overflow": null,
            "_model_module_version": "1.2.0",
            "_view_count": null,
            "flex_flow": null,
            "width": null,
            "min_width": null,
            "border": null,
            "align_items": null,
            "bottom": null,
            "_model_module": "@jupyter-widgets/base",
            "top": null,
            "grid_column": null,
            "overflow_y": null,
            "overflow_x": null,
            "grid_auto_flow": null,
            "grid_area": null,
            "grid_template_columns": null,
            "flex": null,
            "_model_name": "LayoutModel",
            "justify_items": null,
            "grid_row": null,
            "max_height": null,
            "align_content": null,
            "visibility": null,
            "align_self": null,
            "height": null,
            "min_height": null,
            "padding": null,
            "grid_auto_rows": null,
            "grid_gap": null,
            "max_width": null,
            "order": null,
            "_view_module_version": "1.2.0",
            "grid_template_areas": null,
            "object_position": null,
            "object_fit": null,
            "grid_auto_columns": null,
            "margin": null,
            "display": null,
            "left": null
          }
        },
        "5d10bfd30e974f7daba900ad06c15c22": {
          "model_module": "@jupyter-widgets/controls",
          "model_name": "DescriptionStyleModel",
          "model_module_version": "1.5.0",
          "state": {
            "_view_name": "StyleView",
            "_model_name": "DescriptionStyleModel",
            "description_width": "",
            "_view_module": "@jupyter-widgets/base",
            "_model_module_version": "1.5.0",
            "_view_count": null,
            "_view_module_version": "1.2.0",
            "_model_module": "@jupyter-widgets/controls"
          }
        },
        "62dbb1c0682c446fb94285c13411bc37": {
          "model_module": "@jupyter-widgets/base",
          "model_name": "LayoutModel",
          "model_module_version": "1.2.0",
          "state": {
            "_view_name": "LayoutView",
            "grid_template_rows": null,
            "right": null,
            "justify_content": null,
            "_view_module": "@jupyter-widgets/base",
            "overflow": null,
            "_model_module_version": "1.2.0",
            "_view_count": null,
            "flex_flow": null,
            "width": null,
            "min_width": null,
            "border": null,
            "align_items": null,
            "bottom": null,
            "_model_module": "@jupyter-widgets/base",
            "top": null,
            "grid_column": null,
            "overflow_y": null,
            "overflow_x": null,
            "grid_auto_flow": null,
            "grid_area": null,
            "grid_template_columns": null,
            "flex": null,
            "_model_name": "LayoutModel",
            "justify_items": null,
            "grid_row": null,
            "max_height": null,
            "align_content": null,
            "visibility": null,
            "align_self": null,
            "height": null,
            "min_height": null,
            "padding": null,
            "grid_auto_rows": null,
            "grid_gap": null,
            "max_width": null,
            "order": null,
            "_view_module_version": "1.2.0",
            "grid_template_areas": null,
            "object_position": null,
            "object_fit": null,
            "grid_auto_columns": null,
            "margin": null,
            "display": null,
            "left": null
          }
        },
        "250f64e2dd834bc28ad8587464fc78ac": {
          "model_module": "@jupyter-widgets/controls",
          "model_name": "HBoxModel",
          "model_module_version": "1.5.0",
          "state": {
            "_view_name": "HBoxView",
            "_dom_classes": [],
            "_model_name": "HBoxModel",
            "_view_module": "@jupyter-widgets/controls",
            "_model_module_version": "1.5.0",
            "_view_count": null,
            "_view_module_version": "1.5.0",
            "box_style": "",
            "layout": "IPY_MODEL_9c5fda0c49a945e8b7a95342f923c602",
            "_model_module": "@jupyter-widgets/controls",
            "children": [
              "IPY_MODEL_7c45fe0ef27d4346b21317342ca67456",
              "IPY_MODEL_d7a9f10e60404b64854c6d0323091ae6",
              "IPY_MODEL_319b6da2240546cc8b2cff33e75bee11"
            ]
          }
        },
        "9c5fda0c49a945e8b7a95342f923c602": {
          "model_module": "@jupyter-widgets/base",
          "model_name": "LayoutModel",
          "model_module_version": "1.2.0",
          "state": {
            "_view_name": "LayoutView",
            "grid_template_rows": null,
            "right": null,
            "justify_content": null,
            "_view_module": "@jupyter-widgets/base",
            "overflow": null,
            "_model_module_version": "1.2.0",
            "_view_count": null,
            "flex_flow": null,
            "width": null,
            "min_width": null,
            "border": null,
            "align_items": null,
            "bottom": null,
            "_model_module": "@jupyter-widgets/base",
            "top": null,
            "grid_column": null,
            "overflow_y": null,
            "overflow_x": null,
            "grid_auto_flow": null,
            "grid_area": null,
            "grid_template_columns": null,
            "flex": null,
            "_model_name": "LayoutModel",
            "justify_items": null,
            "grid_row": null,
            "max_height": null,
            "align_content": null,
            "visibility": null,
            "align_self": null,
            "height": null,
            "min_height": null,
            "padding": null,
            "grid_auto_rows": null,
            "grid_gap": null,
            "max_width": null,
            "order": null,
            "_view_module_version": "1.2.0",
            "grid_template_areas": null,
            "object_position": null,
            "object_fit": null,
            "grid_auto_columns": null,
            "margin": null,
            "display": null,
            "left": null
          }
        },
        "7c45fe0ef27d4346b21317342ca67456": {
          "model_module": "@jupyter-widgets/controls",
          "model_name": "HTMLModel",
          "model_module_version": "1.5.0",
          "state": {
            "_view_name": "HTMLView",
            "style": "IPY_MODEL_ec0bee30018d4ba199e8f611708e12ff",
            "_dom_classes": [],
            "description": "",
            "_model_name": "HTMLModel",
            "placeholder": "​",
            "_view_module": "@jupyter-widgets/controls",
            "_model_module_version": "1.5.0",
            "value": "",
            "_view_count": null,
            "_view_module_version": "1.5.0",
            "description_tooltip": null,
            "_model_module": "@jupyter-widgets/controls",
            "layout": "IPY_MODEL_dcccf943fc0041ea94e91db0f4b07bf5"
          }
        },
        "d7a9f10e60404b64854c6d0323091ae6": {
          "model_module": "@jupyter-widgets/controls",
          "model_name": "FloatProgressModel",
          "model_module_version": "1.5.0",
          "state": {
            "_view_name": "ProgressView",
            "style": "IPY_MODEL_0027c8ee65c54c39853b0bc296892d8a",
            "_dom_classes": [],
            "description": "",
            "_model_name": "FloatProgressModel",
            "bar_style": "success",
            "max": 29515,
            "_view_module": "@jupyter-widgets/controls",
            "_model_module_version": "1.5.0",
            "value": 29515,
            "_view_count": null,
            "_view_module_version": "1.5.0",
            "orientation": "horizontal",
            "min": 0,
            "description_tooltip": null,
            "_model_module": "@jupyter-widgets/controls",
            "layout": "IPY_MODEL_139f5e4019ec46e7816e622d1b9f2bc2"
          }
        },
        "319b6da2240546cc8b2cff33e75bee11": {
          "model_module": "@jupyter-widgets/controls",
          "model_name": "HTMLModel",
          "model_module_version": "1.5.0",
          "state": {
            "_view_name": "HTMLView",
            "style": "IPY_MODEL_14264c197c294681b1c000d0b1697843",
            "_dom_classes": [],
            "description": "",
            "_model_name": "HTMLModel",
            "placeholder": "​",
            "_view_module": "@jupyter-widgets/controls",
            "_model_module_version": "1.5.0",
            "value": " 29696/? [00:00&lt;00:00, 82371.45it/s]",
            "_view_count": null,
            "_view_module_version": "1.5.0",
            "description_tooltip": null,
            "_model_module": "@jupyter-widgets/controls",
            "layout": "IPY_MODEL_d22800a374404153ad0bed3c256f1f29"
          }
        },
        "ec0bee30018d4ba199e8f611708e12ff": {
          "model_module": "@jupyter-widgets/controls",
          "model_name": "DescriptionStyleModel",
          "model_module_version": "1.5.0",
          "state": {
            "_view_name": "StyleView",
            "_model_name": "DescriptionStyleModel",
            "description_width": "",
            "_view_module": "@jupyter-widgets/base",
            "_model_module_version": "1.5.0",
            "_view_count": null,
            "_view_module_version": "1.2.0",
            "_model_module": "@jupyter-widgets/controls"
          }
        },
        "dcccf943fc0041ea94e91db0f4b07bf5": {
          "model_module": "@jupyter-widgets/base",
          "model_name": "LayoutModel",
          "model_module_version": "1.2.0",
          "state": {
            "_view_name": "LayoutView",
            "grid_template_rows": null,
            "right": null,
            "justify_content": null,
            "_view_module": "@jupyter-widgets/base",
            "overflow": null,
            "_model_module_version": "1.2.0",
            "_view_count": null,
            "flex_flow": null,
            "width": null,
            "min_width": null,
            "border": null,
            "align_items": null,
            "bottom": null,
            "_model_module": "@jupyter-widgets/base",
            "top": null,
            "grid_column": null,
            "overflow_y": null,
            "overflow_x": null,
            "grid_auto_flow": null,
            "grid_area": null,
            "grid_template_columns": null,
            "flex": null,
            "_model_name": "LayoutModel",
            "justify_items": null,
            "grid_row": null,
            "max_height": null,
            "align_content": null,
            "visibility": null,
            "align_self": null,
            "height": null,
            "min_height": null,
            "padding": null,
            "grid_auto_rows": null,
            "grid_gap": null,
            "max_width": null,
            "order": null,
            "_view_module_version": "1.2.0",
            "grid_template_areas": null,
            "object_position": null,
            "object_fit": null,
            "grid_auto_columns": null,
            "margin": null,
            "display": null,
            "left": null
          }
        },
        "0027c8ee65c54c39853b0bc296892d8a": {
          "model_module": "@jupyter-widgets/controls",
          "model_name": "ProgressStyleModel",
          "model_module_version": "1.5.0",
          "state": {
            "_view_name": "StyleView",
            "_model_name": "ProgressStyleModel",
            "description_width": "",
            "_view_module": "@jupyter-widgets/base",
            "_model_module_version": "1.5.0",
            "_view_count": null,
            "_view_module_version": "1.2.0",
            "bar_color": null,
            "_model_module": "@jupyter-widgets/controls"
          }
        },
        "139f5e4019ec46e7816e622d1b9f2bc2": {
          "model_module": "@jupyter-widgets/base",
          "model_name": "LayoutModel",
          "model_module_version": "1.2.0",
          "state": {
            "_view_name": "LayoutView",
            "grid_template_rows": null,
            "right": null,
            "justify_content": null,
            "_view_module": "@jupyter-widgets/base",
            "overflow": null,
            "_model_module_version": "1.2.0",
            "_view_count": null,
            "flex_flow": null,
            "width": null,
            "min_width": null,
            "border": null,
            "align_items": null,
            "bottom": null,
            "_model_module": "@jupyter-widgets/base",
            "top": null,
            "grid_column": null,
            "overflow_y": null,
            "overflow_x": null,
            "grid_auto_flow": null,
            "grid_area": null,
            "grid_template_columns": null,
            "flex": null,
            "_model_name": "LayoutModel",
            "justify_items": null,
            "grid_row": null,
            "max_height": null,
            "align_content": null,
            "visibility": null,
            "align_self": null,
            "height": null,
            "min_height": null,
            "padding": null,
            "grid_auto_rows": null,
            "grid_gap": null,
            "max_width": null,
            "order": null,
            "_view_module_version": "1.2.0",
            "grid_template_areas": null,
            "object_position": null,
            "object_fit": null,
            "grid_auto_columns": null,
            "margin": null,
            "display": null,
            "left": null
          }
        },
        "14264c197c294681b1c000d0b1697843": {
          "model_module": "@jupyter-widgets/controls",
          "model_name": "DescriptionStyleModel",
          "model_module_version": "1.5.0",
          "state": {
            "_view_name": "StyleView",
            "_model_name": "DescriptionStyleModel",
            "description_width": "",
            "_view_module": "@jupyter-widgets/base",
            "_model_module_version": "1.5.0",
            "_view_count": null,
            "_view_module_version": "1.2.0",
            "_model_module": "@jupyter-widgets/controls"
          }
        },
        "d22800a374404153ad0bed3c256f1f29": {
          "model_module": "@jupyter-widgets/base",
          "model_name": "LayoutModel",
          "model_module_version": "1.2.0",
          "state": {
            "_view_name": "LayoutView",
            "grid_template_rows": null,
            "right": null,
            "justify_content": null,
            "_view_module": "@jupyter-widgets/base",
            "overflow": null,
            "_model_module_version": "1.2.0",
            "_view_count": null,
            "flex_flow": null,
            "width": null,
            "min_width": null,
            "border": null,
            "align_items": null,
            "bottom": null,
            "_model_module": "@jupyter-widgets/base",
            "top": null,
            "grid_column": null,
            "overflow_y": null,
            "overflow_x": null,
            "grid_auto_flow": null,
            "grid_area": null,
            "grid_template_columns": null,
            "flex": null,
            "_model_name": "LayoutModel",
            "justify_items": null,
            "grid_row": null,
            "max_height": null,
            "align_content": null,
            "visibility": null,
            "align_self": null,
            "height": null,
            "min_height": null,
            "padding": null,
            "grid_auto_rows": null,
            "grid_gap": null,
            "max_width": null,
            "order": null,
            "_view_module_version": "1.2.0",
            "grid_template_areas": null,
            "object_position": null,
            "object_fit": null,
            "grid_auto_columns": null,
            "margin": null,
            "display": null,
            "left": null
          }
        },
        "572600b116f94dbab7c2987feb1e325c": {
          "model_module": "@jupyter-widgets/controls",
          "model_name": "HBoxModel",
          "model_module_version": "1.5.0",
          "state": {
            "_view_name": "HBoxView",
            "_dom_classes": [],
            "_model_name": "HBoxModel",
            "_view_module": "@jupyter-widgets/controls",
            "_model_module_version": "1.5.0",
            "_view_count": null,
            "_view_module_version": "1.5.0",
            "box_style": "",
            "layout": "IPY_MODEL_d5d4c455b2574e47b3629f5e6cc08b98",
            "_model_module": "@jupyter-widgets/controls",
            "children": [
              "IPY_MODEL_3e3e0c354c53496186e03c5d962dc6f0",
              "IPY_MODEL_21c081479dfe4a769423829641cbe56d",
              "IPY_MODEL_6ab7c29f952344baa86f2acf66f91c2e"
            ]
          }
        },
        "d5d4c455b2574e47b3629f5e6cc08b98": {
          "model_module": "@jupyter-widgets/base",
          "model_name": "LayoutModel",
          "model_module_version": "1.2.0",
          "state": {
            "_view_name": "LayoutView",
            "grid_template_rows": null,
            "right": null,
            "justify_content": null,
            "_view_module": "@jupyter-widgets/base",
            "overflow": null,
            "_model_module_version": "1.2.0",
            "_view_count": null,
            "flex_flow": null,
            "width": null,
            "min_width": null,
            "border": null,
            "align_items": null,
            "bottom": null,
            "_model_module": "@jupyter-widgets/base",
            "top": null,
            "grid_column": null,
            "overflow_y": null,
            "overflow_x": null,
            "grid_auto_flow": null,
            "grid_area": null,
            "grid_template_columns": null,
            "flex": null,
            "_model_name": "LayoutModel",
            "justify_items": null,
            "grid_row": null,
            "max_height": null,
            "align_content": null,
            "visibility": null,
            "align_self": null,
            "height": null,
            "min_height": null,
            "padding": null,
            "grid_auto_rows": null,
            "grid_gap": null,
            "max_width": null,
            "order": null,
            "_view_module_version": "1.2.0",
            "grid_template_areas": null,
            "object_position": null,
            "object_fit": null,
            "grid_auto_columns": null,
            "margin": null,
            "display": null,
            "left": null
          }
        },
        "3e3e0c354c53496186e03c5d962dc6f0": {
          "model_module": "@jupyter-widgets/controls",
          "model_name": "HTMLModel",
          "model_module_version": "1.5.0",
          "state": {
            "_view_name": "HTMLView",
            "style": "IPY_MODEL_94bd6bdac2d343f593ede64c6de272d9",
            "_dom_classes": [],
            "description": "",
            "_model_name": "HTMLModel",
            "placeholder": "​",
            "_view_module": "@jupyter-widgets/controls",
            "_model_module_version": "1.5.0",
            "value": "",
            "_view_count": null,
            "_view_module_version": "1.5.0",
            "description_tooltip": null,
            "_model_module": "@jupyter-widgets/controls",
            "layout": "IPY_MODEL_cc1a713370cd4f8bbec68a1aa009771a"
          }
        },
        "21c081479dfe4a769423829641cbe56d": {
          "model_module": "@jupyter-widgets/controls",
          "model_name": "FloatProgressModel",
          "model_module_version": "1.5.0",
          "state": {
            "_view_name": "ProgressView",
            "style": "IPY_MODEL_728bb06d2e494ab8adc965bc3e27d66b",
            "_dom_classes": [],
            "description": "",
            "_model_name": "FloatProgressModel",
            "bar_style": "success",
            "max": 4422102,
            "_view_module": "@jupyter-widgets/controls",
            "_model_module_version": "1.5.0",
            "value": 4422102,
            "_view_count": null,
            "_view_module_version": "1.5.0",
            "orientation": "horizontal",
            "min": 0,
            "description_tooltip": null,
            "_model_module": "@jupyter-widgets/controls",
            "layout": "IPY_MODEL_e3adedea5f0847649d8f23e1e3586e7a"
          }
        },
        "6ab7c29f952344baa86f2acf66f91c2e": {
          "model_module": "@jupyter-widgets/controls",
          "model_name": "HTMLModel",
          "model_module_version": "1.5.0",
          "state": {
            "_view_name": "HTMLView",
            "style": "IPY_MODEL_0f3b10b139334264abf304e07969925a",
            "_dom_classes": [],
            "description": "",
            "_model_name": "HTMLModel",
            "placeholder": "​",
            "_view_module": "@jupyter-widgets/controls",
            "_model_module_version": "1.5.0",
            "value": " 4422656/? [00:01&lt;00:00, 6493685.29it/s]",
            "_view_count": null,
            "_view_module_version": "1.5.0",
            "description_tooltip": null,
            "_model_module": "@jupyter-widgets/controls",
            "layout": "IPY_MODEL_2a9aa56650924a8b99b277ca4bf8a13e"
          }
        },
        "94bd6bdac2d343f593ede64c6de272d9": {
          "model_module": "@jupyter-widgets/controls",
          "model_name": "DescriptionStyleModel",
          "model_module_version": "1.5.0",
          "state": {
            "_view_name": "StyleView",
            "_model_name": "DescriptionStyleModel",
            "description_width": "",
            "_view_module": "@jupyter-widgets/base",
            "_model_module_version": "1.5.0",
            "_view_count": null,
            "_view_module_version": "1.2.0",
            "_model_module": "@jupyter-widgets/controls"
          }
        },
        "cc1a713370cd4f8bbec68a1aa009771a": {
          "model_module": "@jupyter-widgets/base",
          "model_name": "LayoutModel",
          "model_module_version": "1.2.0",
          "state": {
            "_view_name": "LayoutView",
            "grid_template_rows": null,
            "right": null,
            "justify_content": null,
            "_view_module": "@jupyter-widgets/base",
            "overflow": null,
            "_model_module_version": "1.2.0",
            "_view_count": null,
            "flex_flow": null,
            "width": null,
            "min_width": null,
            "border": null,
            "align_items": null,
            "bottom": null,
            "_model_module": "@jupyter-widgets/base",
            "top": null,
            "grid_column": null,
            "overflow_y": null,
            "overflow_x": null,
            "grid_auto_flow": null,
            "grid_area": null,
            "grid_template_columns": null,
            "flex": null,
            "_model_name": "LayoutModel",
            "justify_items": null,
            "grid_row": null,
            "max_height": null,
            "align_content": null,
            "visibility": null,
            "align_self": null,
            "height": null,
            "min_height": null,
            "padding": null,
            "grid_auto_rows": null,
            "grid_gap": null,
            "max_width": null,
            "order": null,
            "_view_module_version": "1.2.0",
            "grid_template_areas": null,
            "object_position": null,
            "object_fit": null,
            "grid_auto_columns": null,
            "margin": null,
            "display": null,
            "left": null
          }
        },
        "728bb06d2e494ab8adc965bc3e27d66b": {
          "model_module": "@jupyter-widgets/controls",
          "model_name": "ProgressStyleModel",
          "model_module_version": "1.5.0",
          "state": {
            "_view_name": "StyleView",
            "_model_name": "ProgressStyleModel",
            "description_width": "",
            "_view_module": "@jupyter-widgets/base",
            "_model_module_version": "1.5.0",
            "_view_count": null,
            "_view_module_version": "1.2.0",
            "bar_color": null,
            "_model_module": "@jupyter-widgets/controls"
          }
        },
        "e3adedea5f0847649d8f23e1e3586e7a": {
          "model_module": "@jupyter-widgets/base",
          "model_name": "LayoutModel",
          "model_module_version": "1.2.0",
          "state": {
            "_view_name": "LayoutView",
            "grid_template_rows": null,
            "right": null,
            "justify_content": null,
            "_view_module": "@jupyter-widgets/base",
            "overflow": null,
            "_model_module_version": "1.2.0",
            "_view_count": null,
            "flex_flow": null,
            "width": null,
            "min_width": null,
            "border": null,
            "align_items": null,
            "bottom": null,
            "_model_module": "@jupyter-widgets/base",
            "top": null,
            "grid_column": null,
            "overflow_y": null,
            "overflow_x": null,
            "grid_auto_flow": null,
            "grid_area": null,
            "grid_template_columns": null,
            "flex": null,
            "_model_name": "LayoutModel",
            "justify_items": null,
            "grid_row": null,
            "max_height": null,
            "align_content": null,
            "visibility": null,
            "align_self": null,
            "height": null,
            "min_height": null,
            "padding": null,
            "grid_auto_rows": null,
            "grid_gap": null,
            "max_width": null,
            "order": null,
            "_view_module_version": "1.2.0",
            "grid_template_areas": null,
            "object_position": null,
            "object_fit": null,
            "grid_auto_columns": null,
            "margin": null,
            "display": null,
            "left": null
          }
        },
        "0f3b10b139334264abf304e07969925a": {
          "model_module": "@jupyter-widgets/controls",
          "model_name": "DescriptionStyleModel",
          "model_module_version": "1.5.0",
          "state": {
            "_view_name": "StyleView",
            "_model_name": "DescriptionStyleModel",
            "description_width": "",
            "_view_module": "@jupyter-widgets/base",
            "_model_module_version": "1.5.0",
            "_view_count": null,
            "_view_module_version": "1.2.0",
            "_model_module": "@jupyter-widgets/controls"
          }
        },
        "2a9aa56650924a8b99b277ca4bf8a13e": {
          "model_module": "@jupyter-widgets/base",
          "model_name": "LayoutModel",
          "model_module_version": "1.2.0",
          "state": {
            "_view_name": "LayoutView",
            "grid_template_rows": null,
            "right": null,
            "justify_content": null,
            "_view_module": "@jupyter-widgets/base",
            "overflow": null,
            "_model_module_version": "1.2.0",
            "_view_count": null,
            "flex_flow": null,
            "width": null,
            "min_width": null,
            "border": null,
            "align_items": null,
            "bottom": null,
            "_model_module": "@jupyter-widgets/base",
            "top": null,
            "grid_column": null,
            "overflow_y": null,
            "overflow_x": null,
            "grid_auto_flow": null,
            "grid_area": null,
            "grid_template_columns": null,
            "flex": null,
            "_model_name": "LayoutModel",
            "justify_items": null,
            "grid_row": null,
            "max_height": null,
            "align_content": null,
            "visibility": null,
            "align_self": null,
            "height": null,
            "min_height": null,
            "padding": null,
            "grid_auto_rows": null,
            "grid_gap": null,
            "max_width": null,
            "order": null,
            "_view_module_version": "1.2.0",
            "grid_template_areas": null,
            "object_position": null,
            "object_fit": null,
            "grid_auto_columns": null,
            "margin": null,
            "display": null,
            "left": null
          }
        },
        "f24f026be76943619f8bb40e52f5ead0": {
          "model_module": "@jupyter-widgets/controls",
          "model_name": "HBoxModel",
          "model_module_version": "1.5.0",
          "state": {
            "_view_name": "HBoxView",
            "_dom_classes": [],
            "_model_name": "HBoxModel",
            "_view_module": "@jupyter-widgets/controls",
            "_model_module_version": "1.5.0",
            "_view_count": null,
            "_view_module_version": "1.5.0",
            "box_style": "",
            "layout": "IPY_MODEL_df55d3d566c34e349812363ccb32dd37",
            "_model_module": "@jupyter-widgets/controls",
            "children": [
              "IPY_MODEL_b7e644dbdab4476a91d40ffa30b61f41",
              "IPY_MODEL_b7312de457954fc7834cf23cb29041a8",
              "IPY_MODEL_ceb40e649c0c4d0f85b62b61e206ec1c"
            ]
          }
        },
        "df55d3d566c34e349812363ccb32dd37": {
          "model_module": "@jupyter-widgets/base",
          "model_name": "LayoutModel",
          "model_module_version": "1.2.0",
          "state": {
            "_view_name": "LayoutView",
            "grid_template_rows": null,
            "right": null,
            "justify_content": null,
            "_view_module": "@jupyter-widgets/base",
            "overflow": null,
            "_model_module_version": "1.2.0",
            "_view_count": null,
            "flex_flow": null,
            "width": null,
            "min_width": null,
            "border": null,
            "align_items": null,
            "bottom": null,
            "_model_module": "@jupyter-widgets/base",
            "top": null,
            "grid_column": null,
            "overflow_y": null,
            "overflow_x": null,
            "grid_auto_flow": null,
            "grid_area": null,
            "grid_template_columns": null,
            "flex": null,
            "_model_name": "LayoutModel",
            "justify_items": null,
            "grid_row": null,
            "max_height": null,
            "align_content": null,
            "visibility": null,
            "align_self": null,
            "height": null,
            "min_height": null,
            "padding": null,
            "grid_auto_rows": null,
            "grid_gap": null,
            "max_width": null,
            "order": null,
            "_view_module_version": "1.2.0",
            "grid_template_areas": null,
            "object_position": null,
            "object_fit": null,
            "grid_auto_columns": null,
            "margin": null,
            "display": null,
            "left": null
          }
        },
        "b7e644dbdab4476a91d40ffa30b61f41": {
          "model_module": "@jupyter-widgets/controls",
          "model_name": "HTMLModel",
          "model_module_version": "1.5.0",
          "state": {
            "_view_name": "HTMLView",
            "style": "IPY_MODEL_b0de3dbfd39442589fee4de32f0537ff",
            "_dom_classes": [],
            "description": "",
            "_model_name": "HTMLModel",
            "placeholder": "​",
            "_view_module": "@jupyter-widgets/controls",
            "_model_module_version": "1.5.0",
            "value": "",
            "_view_count": null,
            "_view_module_version": "1.5.0",
            "description_tooltip": null,
            "_model_module": "@jupyter-widgets/controls",
            "layout": "IPY_MODEL_5ac5a241cfe147e0b149f100462f515e"
          }
        },
        "b7312de457954fc7834cf23cb29041a8": {
          "model_module": "@jupyter-widgets/controls",
          "model_name": "FloatProgressModel",
          "model_module_version": "1.5.0",
          "state": {
            "_view_name": "ProgressView",
            "style": "IPY_MODEL_2391f1d317134676a1eb075bed47203c",
            "_dom_classes": [],
            "description": "",
            "_model_name": "FloatProgressModel",
            "bar_style": "success",
            "max": 5148,
            "_view_module": "@jupyter-widgets/controls",
            "_model_module_version": "1.5.0",
            "value": 5148,
            "_view_count": null,
            "_view_module_version": "1.5.0",
            "orientation": "horizontal",
            "min": 0,
            "description_tooltip": null,
            "_model_module": "@jupyter-widgets/controls",
            "layout": "IPY_MODEL_929dff000d0d45aca4c157a4e19b96a9"
          }
        },
        "ceb40e649c0c4d0f85b62b61e206ec1c": {
          "model_module": "@jupyter-widgets/controls",
          "model_name": "HTMLModel",
          "model_module_version": "1.5.0",
          "state": {
            "_view_name": "HTMLView",
            "style": "IPY_MODEL_34ef8ec681504db39122ad03d8ca5ac9",
            "_dom_classes": [],
            "description": "",
            "_model_name": "HTMLModel",
            "placeholder": "​",
            "_view_module": "@jupyter-widgets/controls",
            "_model_module_version": "1.5.0",
            "value": " 6144/? [00:00&lt;00:00, 176676.13it/s]",
            "_view_count": null,
            "_view_module_version": "1.5.0",
            "description_tooltip": null,
            "_model_module": "@jupyter-widgets/controls",
            "layout": "IPY_MODEL_fc772181dfc24bb7b25d102f0852b1ee"
          }
        },
        "b0de3dbfd39442589fee4de32f0537ff": {
          "model_module": "@jupyter-widgets/controls",
          "model_name": "DescriptionStyleModel",
          "model_module_version": "1.5.0",
          "state": {
            "_view_name": "StyleView",
            "_model_name": "DescriptionStyleModel",
            "description_width": "",
            "_view_module": "@jupyter-widgets/base",
            "_model_module_version": "1.5.0",
            "_view_count": null,
            "_view_module_version": "1.2.0",
            "_model_module": "@jupyter-widgets/controls"
          }
        },
        "5ac5a241cfe147e0b149f100462f515e": {
          "model_module": "@jupyter-widgets/base",
          "model_name": "LayoutModel",
          "model_module_version": "1.2.0",
          "state": {
            "_view_name": "LayoutView",
            "grid_template_rows": null,
            "right": null,
            "justify_content": null,
            "_view_module": "@jupyter-widgets/base",
            "overflow": null,
            "_model_module_version": "1.2.0",
            "_view_count": null,
            "flex_flow": null,
            "width": null,
            "min_width": null,
            "border": null,
            "align_items": null,
            "bottom": null,
            "_model_module": "@jupyter-widgets/base",
            "top": null,
            "grid_column": null,
            "overflow_y": null,
            "overflow_x": null,
            "grid_auto_flow": null,
            "grid_area": null,
            "grid_template_columns": null,
            "flex": null,
            "_model_name": "LayoutModel",
            "justify_items": null,
            "grid_row": null,
            "max_height": null,
            "align_content": null,
            "visibility": null,
            "align_self": null,
            "height": null,
            "min_height": null,
            "padding": null,
            "grid_auto_rows": null,
            "grid_gap": null,
            "max_width": null,
            "order": null,
            "_view_module_version": "1.2.0",
            "grid_template_areas": null,
            "object_position": null,
            "object_fit": null,
            "grid_auto_columns": null,
            "margin": null,
            "display": null,
            "left": null
          }
        },
        "2391f1d317134676a1eb075bed47203c": {
          "model_module": "@jupyter-widgets/controls",
          "model_name": "ProgressStyleModel",
          "model_module_version": "1.5.0",
          "state": {
            "_view_name": "StyleView",
            "_model_name": "ProgressStyleModel",
            "description_width": "",
            "_view_module": "@jupyter-widgets/base",
            "_model_module_version": "1.5.0",
            "_view_count": null,
            "_view_module_version": "1.2.0",
            "bar_color": null,
            "_model_module": "@jupyter-widgets/controls"
          }
        },
        "929dff000d0d45aca4c157a4e19b96a9": {
          "model_module": "@jupyter-widgets/base",
          "model_name": "LayoutModel",
          "model_module_version": "1.2.0",
          "state": {
            "_view_name": "LayoutView",
            "grid_template_rows": null,
            "right": null,
            "justify_content": null,
            "_view_module": "@jupyter-widgets/base",
            "overflow": null,
            "_model_module_version": "1.2.0",
            "_view_count": null,
            "flex_flow": null,
            "width": null,
            "min_width": null,
            "border": null,
            "align_items": null,
            "bottom": null,
            "_model_module": "@jupyter-widgets/base",
            "top": null,
            "grid_column": null,
            "overflow_y": null,
            "overflow_x": null,
            "grid_auto_flow": null,
            "grid_area": null,
            "grid_template_columns": null,
            "flex": null,
            "_model_name": "LayoutModel",
            "justify_items": null,
            "grid_row": null,
            "max_height": null,
            "align_content": null,
            "visibility": null,
            "align_self": null,
            "height": null,
            "min_height": null,
            "padding": null,
            "grid_auto_rows": null,
            "grid_gap": null,
            "max_width": null,
            "order": null,
            "_view_module_version": "1.2.0",
            "grid_template_areas": null,
            "object_position": null,
            "object_fit": null,
            "grid_auto_columns": null,
            "margin": null,
            "display": null,
            "left": null
          }
        },
        "34ef8ec681504db39122ad03d8ca5ac9": {
          "model_module": "@jupyter-widgets/controls",
          "model_name": "DescriptionStyleModel",
          "model_module_version": "1.5.0",
          "state": {
            "_view_name": "StyleView",
            "_model_name": "DescriptionStyleModel",
            "description_width": "",
            "_view_module": "@jupyter-widgets/base",
            "_model_module_version": "1.5.0",
            "_view_count": null,
            "_view_module_version": "1.2.0",
            "_model_module": "@jupyter-widgets/controls"
          }
        },
        "fc772181dfc24bb7b25d102f0852b1ee": {
          "model_module": "@jupyter-widgets/base",
          "model_name": "LayoutModel",
          "model_module_version": "1.2.0",
          "state": {
            "_view_name": "LayoutView",
            "grid_template_rows": null,
            "right": null,
            "justify_content": null,
            "_view_module": "@jupyter-widgets/base",
            "overflow": null,
            "_model_module_version": "1.2.0",
            "_view_count": null,
            "flex_flow": null,
            "width": null,
            "min_width": null,
            "border": null,
            "align_items": null,
            "bottom": null,
            "_model_module": "@jupyter-widgets/base",
            "top": null,
            "grid_column": null,
            "overflow_y": null,
            "overflow_x": null,
            "grid_auto_flow": null,
            "grid_area": null,
            "grid_template_columns": null,
            "flex": null,
            "_model_name": "LayoutModel",
            "justify_items": null,
            "grid_row": null,
            "max_height": null,
            "align_content": null,
            "visibility": null,
            "align_self": null,
            "height": null,
            "min_height": null,
            "padding": null,
            "grid_auto_rows": null,
            "grid_gap": null,
            "max_width": null,
            "order": null,
            "_view_module_version": "1.2.0",
            "grid_template_areas": null,
            "object_position": null,
            "object_fit": null,
            "grid_auto_columns": null,
            "margin": null,
            "display": null,
            "left": null
          }
        }
      }
    }
  },
  "nbformat": 4,
  "nbformat_minor": 0
}