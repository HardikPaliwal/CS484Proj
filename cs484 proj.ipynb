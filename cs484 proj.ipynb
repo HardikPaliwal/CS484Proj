{
  "cells": [
    {
      "cell_type": "markdown",
      "metadata": {
        "id": "view-in-github",
        "colab_type": "text"
      },
      "source": [
        "<a href=\"https://colab.research.google.com/github/HardikPaliwal/CS484Proj/blob/master/cs484%20proj.ipynb\" target=\"_parent\"><img src=\"https://colab.research.google.com/assets/colab-badge.svg\" alt=\"Open In Colab\"/></a>"
      ]
    },
    {
      "cell_type": "markdown",
      "metadata": {
        "id": "hOiQJ0-YBNR8"
      },
      "source": [
        "# **CS484 Final Project**\n",
        "\n",
        "#### Topic 6: Weakly supervised classification\n",
        "\n",
        "#### Hardik Paliwal (20725413), Lance Pereira (20719626)\n",
        "\n",
        "______________________________________________________________"
      ]
    },
    {
      "cell_type": "markdown",
      "source": [
        "#**Table Of Contents**\n",
        "- A) Abstract\n",
        "- B) High Level Goals and Methedology\n",
        "- C) Team Members and Contributions\n",
        "- D) External Code Libraries\n",
        "- E) Code\n",
        "  - 1) Setup (imports, loading data)\n",
        "  - 2) Define our Base CNN (Based on VGG11), Test, Train methods\n",
        "  - 3) Split Fashion MNIST training data into M labeled images, and N-M unlabeled\n",
        "  - 4) Train Base CNN on M labeled training images\n",
        "  - 5) Use the 'semi' trained CNN to gain important features (feature embedings) of N-M *unlabeled* training images\n",
        "  - 6) Match cluster labels to actual Fashion MNIST labels\n",
        "  - 7) Define retrained CNN function using predicted labels from clustering for unlabeled data\n",
        "- F) Experiments\n",
        "  - 1) Diffirent ratios of M/N\n",
        "  - 2) Diffirent Clustering Methods\n",
        "- G) Results\n",
        "- H) Conclusions"
      ],
      "metadata": {
        "id": "P5a9RiUbRKX2"
      }
    },
    {
      "cell_type": "markdown",
      "metadata": {
        "id": "lDBcYS6VBNSA"
      },
      "source": [
        "#**A) Abstract:**\n",
        "\n",
        "For our project we have decided to do Project 6, choosing specifically Fashion MNIST. We use weakly supervised classification using feature extraction (embedings similar to a PCA) along with clustering methods to try and improve results compared to just using supervised learning.\n",
        " \n",
        "\n",
        "#**B) High Level Goals and Methedology:**\n",
        "\n",
        "Out high level goal is to use weakly supervised classification to improve our \n",
        "prediction ability compared to just training using labeled images. We hope to \n",
        "achieve atleast a 5% increase in our test prediction score using clustering \n",
        "methods such as Kmeans and Mini-Batch Kmeans. Our attempts to use other clustering methods were stopped by our limited RAM capacity, but Kmeans and Mini-Batch Kmeans are quite effective.\n",
        "\n",
        "Our method is split into two experiments, \n",
        "- we first will test to see training\n",
        "a CNN on M labeled images, then use a cluestering method to classify all the \n",
        "N images, using the majority label in each cluster as the predicted label for the unlabeled N-M images\n",
        "- secondly we will try using the predicted labels from the previous step to \n",
        "train a new CNN model, to see if it performs better than the original CNN model trained on just the M labeled images\n",
        "\n",
        "Our baseline will be a simple CNN  trained on the M labeled images. We will use this to see if our weakly supervised method improved the accuracy rate. "
      ]
    },
    {
      "cell_type": "markdown",
      "source": [
        "#**C) Team Members and Contributions**\n",
        "\n",
        "- Hardik Paliwal\n",
        "  - Created CNN based on VGG11 for training\n",
        "  - Created function to gather features (feature embedings) from pretrained CNN (trained on M labeled images)\n",
        "  - Created method to get predicted labels from clustering methods\n",
        "  - Created train,test methods\n",
        "\n",
        "- Lance Pereira\n",
        "  - Create function to retrain CNN using clustered labels\n",
        "  - Modified clustering prediction methods to use only labeled training data\n",
        "  - Created experiments for diffirent ratios of M:M-N\n",
        "  - Created function to split data into labeled and unlabeled\n",
        "  - Created experiments for diffirent clustering methods\n",
        "    - Mini Batch Kmeans\n",
        "    - Kmeans\n",
        "  - Wrote/formated report\n",
        "\n"
      ],
      "metadata": {
        "id": "3ZbWhkZiOTHS"
      }
    },
    {
      "cell_type": "markdown",
      "source": [
        "#**D) External Code Libraries**\n",
        "\n",
        "We used\n",
        "\n",
        "- Pytorch\n",
        "  - Because it was crucial for the quick training of our models\n",
        "  - Allowed us to not have to deal with calculating back propogation\n",
        "- Sklearn\n",
        "  - Provided us a large range of clustering methods for quick experimentation\n",
        "- Numpy\n",
        "  - Useful for large matrix operations"
      ],
      "metadata": {
        "id": "YHKO718hQ17r"
      }
    },
    {
      "cell_type": "code",
      "execution_count": null,
      "metadata": {
        "id": "phv5gD4DBNSC"
      },
      "outputs": [],
      "source": [
        "import torch\n",
        "import torch.nn as nn\n",
        "import torch.nn.functional as F\n",
        "import torchvision as tv\n",
        "import matplotlib.pyplot as plt\n",
        "from torch.utils.data import DataLoader\n",
        "from torch.autograd import Variable\n",
        "import sklearn\n",
        "from torch import optim\n",
        "import numpy as np\n",
        "import itertools\n",
        "\n",
        "%matplotlib inline"
      ]
    },
    {
      "cell_type": "markdown",
      "source": [
        "# **E) Code**"
      ],
      "metadata": {
        "id": "y_GC_Ou-aqJY"
      }
    },
    {
      "cell_type": "markdown",
      "source": [
        "### **E) [1] Code: Setup**\n",
        "\n",
        "The below cells:\n",
        "- Import Fshion MNIST\n",
        "- define functions that strip label from data"
      ],
      "metadata": {
        "id": "ev3-3ZQobP0E"
      }
    },
    {
      "cell_type": "code",
      "execution_count": null,
      "metadata": {
        "id": "umKKVD1LBNSE"
      },
      "outputs": [],
      "source": [
        "# Constants\n",
        "dev=torch.device(\"cuda\") \n",
        "NUM_EPOCHS = 6\n",
        "NUM_CLUSTERS = 30\n",
        "NUM_CLASSES = 10\n",
        "UNKNOWN_CLASS = 11"
      ]
    },
    {
      "cell_type": "code",
      "execution_count": null,
      "metadata": {
        "id": "lpBIjSHXBNSF"
      },
      "outputs": [],
      "source": [
        "trainset = tv.datasets.FashionMNIST(root=\"./\", download=True,train=True,  transform=tv.transforms.Compose(\n",
        "    [tv.transforms.Resize(32), tv.transforms.ToTensor()]))\n",
        "trainloader = DataLoader(trainset, batch_size=128, shuffle=True)\n",
        "\n",
        "testset = tv.datasets.FashionMNIST(root=\"./\", download=True,train=False,  transform=tv.transforms.Compose(\n",
        "    [tv.transforms.Resize(32), tv.transforms.ToTensor()]))\n",
        "testloader = DataLoader(testset, batch_size=128, shuffle=True)"
      ]
    },
    {
      "cell_type": "markdown",
      "source": [
        "### **E) [2] Code: Define our Base CNN (Based on VGG11), Test, Train methods**"
      ],
      "metadata": {
        "id": "o24XBil8bahy"
      }
    },
    {
      "cell_type": "code",
      "execution_count": null,
      "metadata": {
        "id": "sfzjkgNwBNSI"
      },
      "outputs": [],
      "source": [
        "#This is an implementation of VGG11 (which is a precursor to VGG16) for mnist dataset.\n",
        "# it also takes in n, which is the number of classes. N+1 class stands for unknown. \n",
        "\n",
        "#this will let us differeniate the unlabelled data from the labelled data\n",
        "class BasicNet(nn.Module):\n",
        "    def __init__(self, n=9):\n",
        "        super(BasicNet, self).__init__()\n",
        "        self.batchNorm = [nn.BatchNorm2d(64), nn.BatchNorm2d(128),nn.BatchNorm2d(256), nn.BatchNorm2d(256),\n",
        "                          nn.BatchNorm2d(512), nn.BatchNorm2d(512), nn.BatchNorm2d(512), nn.BatchNorm2d(512)]\n",
        "        self.conv = [\n",
        "        nn.Conv2d(1, 64, 3, 1, 1) ,nn.Conv2d(64, 128, 3, 1, 1), nn.Conv2d(128, 256, 3, 1, 1), nn.Conv2d(256, 256, 3, 1, 1)\n",
        "       ,nn.Conv2d(256, 512, 3, 1, 1), nn.Conv2d(512, 512, 3, 1, 1), nn.Conv2d(512, 512, 3, 1, 1), nn.Conv2d(512, 512, 3, 1, 1)\n",
        "        ]\n",
        "        maxPool = nn.MaxPool2d(2, stride=2)\n",
        "        self.conv1 = nn.Sequential(self.conv[0], self.batchNorm[0], nn.ReLU(), maxPool)\n",
        "        self.conv2 = nn.Sequential(self.conv[1], self.batchNorm[1], nn.ReLU(), maxPool)\n",
        "        self.conv3 = nn.Sequential(self.conv[2], self.batchNorm[2], nn.ReLU())\n",
        "        self.conv4 = nn.Sequential(self.conv[3], self.batchNorm[3], nn.ReLU(), maxPool) \n",
        "        self.conv5 = nn.Sequential(self.conv[4], self.batchNorm[4], nn.ReLU())\n",
        "        self.conv6 = nn.Sequential(self.conv[5], self.batchNorm[5], nn.ReLU(), maxPool)\n",
        "        self.conv7 = nn.Sequential(self.conv[6], self.batchNorm[6], nn.ReLU()) \n",
        "        self.conv8 = nn.Sequential(self.conv[7], self.batchNorm[7], nn.ReLU(), maxPool)\n",
        "        self.fc1 = nn.Linear(512, 4096)\n",
        "        self.fc2 = nn.Linear(4096, 4096)\n",
        "        self.fc3 = nn.Linear(4096, n+1)\n",
        "        \n",
        "    def forward(self, x, feature_embedding=False):\n",
        "        dropOut = nn.Dropout(p=0.5)\n",
        "\n",
        "        x = self.conv1(x)\n",
        "        x = self.conv2(x)\n",
        "        x = self.conv3(x)\n",
        "        x = self.conv4(x)\n",
        "        x = self.conv5(x)\n",
        "        x = self.conv6(x)\n",
        "        x = self.conv7(x)\n",
        "        x = self.conv8(x)\n",
        "        x = torch.flatten(x, 1)\n",
        "        \n",
        "        x = dropOut(F.relu(self.fc1(x)))\n",
        "        x = dropOut(F.relu(self.fc2(x)))\n",
        "        if(feature_embedding):\n",
        "          return x\n",
        "        #Not sure why this works without softmax. probably a reasoning givin in the paper (cause the output can range from anything (not normalized to a 0-1 probability range))\n",
        "        x = self.fc3(x)\n",
        "        return x"
      ]
    },
    {
      "cell_type": "code",
      "execution_count": null,
      "metadata": {
        "id": "7ZUIoIjzBNSL"
      },
      "outputs": [],
      "source": [
        "def test(data, net):\n",
        "    net.eval()\n",
        "    loss_func = nn.CrossEntropyLoss()\n",
        "\n",
        "    total_correct = 0\n",
        "    total_loss = 0\n",
        "    with torch.no_grad():\n",
        "        correct = 0\n",
        "        total = 0\n",
        "        for i, (images, labels) in enumerate(data):\n",
        "            images= images.to(dev)\n",
        "            labels = labels.to(dev)\n",
        "            test_pred = net(images)\n",
        "\n",
        "            pred = torch.max(test_pred, 1)[1].data.squeeze()\n",
        "            total_correct+= (pred == labels).sum().item()\n",
        "            loss = loss_func( test_pred, labels)\n",
        "            total_loss+= loss.item()*images.size(0)\n",
        "        # return total_correct/len(data.dataset), total_loss/len(data.dataset)\n",
        "        # Note From Lance: We shouldn't divide the total loss\n",
        "        return total_correct/len(data.dataset), total_loss\n",
        "  \n",
        "def train(num_epochs, net, trainloader):\n",
        "    optimizer = optim.SGD(net.parameters(), lr=0.01)\n",
        "    loss_func = nn.CrossEntropyLoss()\n",
        "\n",
        "    accuracy_through_epochs = []\n",
        "    total_step = len(trainloader)\n",
        "    \n",
        "    for epoch in range(num_epochs):\n",
        "        net.train()\n",
        "        for i, (images, labels) in enumerate(trainloader):\n",
        "            images= images.to(dev)\n",
        "            labels = labels.to(dev)\n",
        "            optimizer.zero_grad()           \n",
        "            prediction = net(images)\n",
        "            loss = loss_func( prediction, labels)\n",
        "            loss.backward()\n",
        "            optimizer.step()\n",
        "            if ((i +1) % 100 == 0):\n",
        "                print(f\"Epoch {epoch+1} / {num_epochs}, Step {i+1}/ {total_step} , Loss {loss.item()}\")\n",
        "\n",
        "    return accuracy_through_epochs, net"
      ]
    },
    {
      "cell_type": "markdown",
      "source": [
        "### **E) [3] Code: Split Fashion MNIST training data into M labeled images, and N-M unlabeled**"
      ],
      "metadata": {
        "id": "NK6JVE0UGfF8"
      }
    },
    {
      "cell_type": "code",
      "source": [
        "#Modifies dataset in place to only have values correspounding to the labels in classesToUse\n",
        "def splitTrainingData(training_data, M_percent):\n",
        "  # N is len(training_data)\n",
        "  len_N = len(trainset)\n",
        "\n",
        "  # M is the number of labeled images we want\n",
        "  len_M = int(M_percent*len_N)\n",
        "  \n",
        "  labeled_data, unlabeled_data = torch.utils.data.random_split(trainset, [len_M, len_N - len_M])\n",
        "\n",
        "  # strip the labels from unlabeled_data\n",
        "  # unlabeled_data.dataset.targets[unlabeled_data.indices] = UNKNOWN_CLASS\n",
        "\n",
        "  labeled_data_loader = DataLoader(labeled_data, batch_size=128, shuffle=True)\n",
        "  unlabeled_data_loader = DataLoader(unlabeled_data, batch_size=128, shuffle=True)\n",
        "\n",
        "  return labeled_data_loader, unlabeled_data_loader, labeled_data, unlabeled_data\n"
      ],
      "metadata": {
        "id": "HaaxUxtcGppA"
      },
      "execution_count": null,
      "outputs": []
    },
    {
      "cell_type": "code",
      "source": [
        "labeled_train_loader, unlabeled_train_loader, labeled_train_data, unlabeled_train_data = splitTrainingData(trainset, 0.7)"
      ],
      "metadata": {
        "id": "GaNdStKMkQun"
      },
      "execution_count": null,
      "outputs": []
    },
    {
      "cell_type": "markdown",
      "source": [
        "### **E) [4] Code: Train Base CNN on M labeled training images**"
      ],
      "metadata": {
        "id": "iPnEeZO5chxW"
      }
    },
    {
      "cell_type": "code",
      "execution_count": null,
      "metadata": {
        "colab": {
          "base_uri": "https://localhost:8080/"
        },
        "id": "-Q4oP9MOBNSN",
        "outputId": "a55de28f-6cf8-47dd-bd08-d4abffe50e34"
      },
      "outputs": [
        {
          "output_type": "stream",
          "name": "stdout",
          "text": [
            "Epoch 1 / 6, Step 100/ 329 , Loss 0.4691801965236664\n",
            "Epoch 1 / 6, Step 200/ 329 , Loss 0.4827142059803009\n",
            "Epoch 1 / 6, Step 300/ 329 , Loss 0.38404151797294617\n",
            "Epoch 2 / 6, Step 100/ 329 , Loss 0.24493633210659027\n",
            "Epoch 2 / 6, Step 200/ 329 , Loss 0.2605207860469818\n",
            "Epoch 2 / 6, Step 300/ 329 , Loss 0.2828778028488159\n",
            "Epoch 3 / 6, Step 100/ 329 , Loss 0.2332649976015091\n",
            "Epoch 3 / 6, Step 200/ 329 , Loss 0.2661450207233429\n",
            "Epoch 3 / 6, Step 300/ 329 , Loss 0.26624417304992676\n",
            "Epoch 4 / 6, Step 100/ 329 , Loss 0.1302751898765564\n",
            "Epoch 4 / 6, Step 200/ 329 , Loss 0.196417436003685\n",
            "Epoch 4 / 6, Step 300/ 329 , Loss 0.23519733548164368\n",
            "Epoch 5 / 6, Step 100/ 329 , Loss 0.24351318180561066\n",
            "Epoch 5 / 6, Step 200/ 329 , Loss 0.07862726598978043\n",
            "Epoch 5 / 6, Step 300/ 329 , Loss 0.20430561900138855\n",
            "Epoch 6 / 6, Step 100/ 329 , Loss 0.10598327964544296\n",
            "Epoch 6 / 6, Step 200/ 329 , Loss 0.14645934104919434\n",
            "Epoch 6 / 6, Step 300/ 329 , Loss 0.09488426148891449\n"
          ]
        }
      ],
      "source": [
        "net = BasicNet()\n",
        "net.to(dev)\n",
        "result, trained_net = train(NUM_EPOCHS, net, labeled_train_loader)"
      ]
    },
    {
      "cell_type": "markdown",
      "source": [
        "### **E) [5] Code: Use the 'semi' trained CNN to gain important features (feature embedings) of N-M *unlabeled* training images**"
      ],
      "metadata": {
        "id": "JgorThJ9GTSZ"
      }
    },
    {
      "cell_type": "code",
      "source": [
        "#do this to store the results in 1 numpy array of 10000 images vs like 20 batches of size 128 images. \n",
        "#get memory error when doing it on a batch of size len(trainloader), so we have to combine the results for trainloader\n",
        "\n",
        "def getFeatureEmbedings(dataloader):\n",
        "  featureEmbed = []\n",
        "  predictedDigit = []\n",
        "\n",
        "  with torch.no_grad():\n",
        "    for i, (images, labels) in enumerate(dataloader):\n",
        "        images= images.to(dev)\n",
        "        labels = labels.to(dev)\n",
        "        featureEmbed.append(net(images, feature_embedding=True).to(\"cpu\").numpy())\n",
        "        pred = net(images)\n",
        "        predictedDigit.append(torch.max(pred, 1)[1].data.squeeze().to(\"cpu\").numpy())\n",
        "\n",
        "  # flatten lists\n",
        "  featureEmbed = np.array(list(itertools.chain(*featureEmbed)))\n",
        "  predictedDigit = np.array(list(itertools.chain(*predictedDigit)))\n",
        "\n",
        "  return featureEmbed, predictedDigit"
      ],
      "metadata": {
        "id": "Cay1LKG1dCgt"
      },
      "execution_count": null,
      "outputs": []
    },
    {
      "cell_type": "code",
      "source": [
        "# We need the data with the labels\n",
        "trainFeatureEmbed, trainPredictedDigit = getFeatureEmbedings(trainloader)"
      ],
      "metadata": {
        "id": "RXoE9MVsncaB"
      },
      "execution_count": null,
      "outputs": []
    },
    {
      "cell_type": "markdown",
      "source": [
        "### **E) [6] Code: Match cluster labels to actual Fashion MNIST labels**"
      ],
      "metadata": {
        "id": "cP92A4A4FnBo"
      }
    },
    {
      "cell_type": "code",
      "source": [
        "#In order to see how well k-means did we can use this supervised method of defining what a cluster is by seting the cluster label as the most common digits in that cluster\n",
        "#unsupervised approaches include: manually selecting class depending on mean image\n",
        "def retrieve_cluster_to_classification(cluster_labels,y_train):\n",
        "  reference_labels = {}\n",
        "# For loop to run through each label of cluster label\n",
        "  for i in range(len(np.unique(kmeans.labels_))):\n",
        "    index = np.where(cluster_labels == i,1,0)\n",
        "    # we only read 0:NUM_CLASSES so we dont read the unknown labels\n",
        "    num = np.bincount(y_train[index==1])[:NUM_CLASSES].argmax()\n",
        "    reference_labels[i] = num\n",
        "    # TODO: Right now the refrence label just maps to the majority label, should we also consider the 2nd and 3rd highest\n",
        "  return reference_labels"
      ],
      "metadata": {
        "id": "N4J6Y94UyRci"
      },
      "execution_count": null,
      "outputs": []
    },
    {
      "cell_type": "markdown",
      "source": [
        "### **E) [7] Code: Define retrained CNN function using predicted labels from clustering for unlabeled data**\n",
        "\n"
      ],
      "metadata": {
        "id": "cJ91J2ujyL0Y"
      }
    },
    {
      "cell_type": "code",
      "source": [
        "def retrain_CNN_with_predicted_labels(train_dataset, my_labeled_trainset, my_unlabeled_trainset, unlabeled_train_loader, cluster_method):\n",
        "  \n",
        "  # remove all unlabeled labels from main training set, set them to NUM_CLASSES\n",
        "  train_targets = np.array(train_dataset.targets.numpy(), copy=True)  \n",
        "  train_targets[my_unlabeled_trainset.indices] = NUM_CLASSES\n",
        "  \n",
        "  # mapping from NUM_CLUSTERS to FASHION_MNIST classes\n",
        "  reference_labels = retrieve_cluster_to_classification(\n",
        "      cluster_method.labels_, \n",
        "      train_targets\n",
        "  )\n",
        "\n",
        "  unlabelTrainFeatureEmbed, _ = getFeatureEmbedings(unlabeled_train_loader)\n",
        "  \n",
        "  # Assign new labels\n",
        "  predicted_test = cluster_method.predict(unlabelTrainFeatureEmbed)\n",
        "  \n",
        "  for i in range(unlabelTrainFeatureEmbed.shape[0]):\n",
        "    my_unlabeled_trainset.dataset.targets[my_unlabeled_trainset.indices[i]] = reference_labels[predicted_test[i]]\n",
        "\n",
        "  new_combined_data = torch.utils.data.ConcatDataset([my_labeled_trainset, my_unlabeled_trainset])\n",
        "  new_combined_data_loader = DataLoader(new_combined_data, batch_size=128, shuffle=True)\n",
        "  retrained_net = BasicNet()\n",
        "  retrained_net.to(dev)\n",
        "  result, retrained_net = train(NUM_EPOCHS, retrained_net, new_combined_data_loader)\n",
        "  return retrained_net\n",
        "\n"
      ],
      "metadata": {
        "id": "xwS6S-FokaZJ"
      },
      "execution_count": null,
      "outputs": []
    },
    {
      "cell_type": "markdown",
      "source": [
        "#**Experiments**\n"
      ],
      "metadata": {
        "id": "KjveyCWCmUnH"
      }
    },
    {
      "cell_type": "markdown",
      "source": [
        "###Experiment A) First we will create three experiments using diffirent ratios of M:N-M\n",
        "\n",
        "\n",
        "1.   Ratio of 70% labeled to 30% unlabeled\n",
        "2.   Ratio of 50% labeled to 50% unlabeled\n",
        "3.   Ratio of 30% labeled to 70% unlabeled\n",
        "\n",
        "\n"
      ],
      "metadata": {
        "id": "Zk9ebry0n4lA"
      }
    },
    {
      "cell_type": "code",
      "source": [
        "# Experiment A: Diffirent Ratios of M to N\n",
        "\n",
        "labeled_train_loader_70, unlabeled_train_loader_30, labeled_train_data_70, unlabeled_train_data_30 = splitTrainingData(trainset, 0.7)\n",
        "labeled_train_loader_50, unlabeled_train_loader_50, labeled_train_data_50, unlabeled_train_data_50 = splitTrainingData(trainset, 0.5)\n",
        "labeled_train_loader_30, unlabeled_train_loader_70, labeled_train_data_30, unlabeled_train_data_70 = splitTrainingData(trainset, 0.3)"
      ],
      "metadata": {
        "id": "njxlymmEn6UR"
      },
      "execution_count": null,
      "outputs": []
    },
    {
      "cell_type": "markdown",
      "source": [
        "###Experiment B) Then we will try training it with diffirent clustering methods"
      ],
      "metadata": {
        "id": "gU2k8HEDrNYm"
      }
    },
    {
      "cell_type": "code",
      "source": [
        "from sklearn.cluster import MiniBatchKMeans\n",
        "\n",
        "kmeans = MiniBatchKMeans(n_clusters = NUM_CLUSTERS)\n",
        "\n",
        "kmeans.fit(trainFeatureEmbed)"
      ],
      "metadata": {
        "colab": {
          "base_uri": "https://localhost:8080/"
        },
        "id": "JAss2NNi-6-z",
        "outputId": "0f97139b-5e45-4ca2-b8cf-c00bfa444168"
      },
      "execution_count": null,
      "outputs": [
        {
          "output_type": "execute_result",
          "data": {
            "text/plain": [
              "MiniBatchKMeans(n_clusters=30)"
            ]
          },
          "metadata": {},
          "execution_count": 53
        }
      ]
    },
    {
      "cell_type": "code",
      "source": [
        "from sklearn.cluster import KMeans\n",
        "\n",
        "gmm = KMeans(n_clusters = NUM_CLUSTERS)\n",
        "\n",
        "gmm.fit(trainFeatureEmbed)"
      ],
      "metadata": {
        "colab": {
          "base_uri": "https://localhost:8080/"
        },
        "id": "LDYIOUEK-wo9",
        "outputId": "06699d11-9d7f-484c-a050-ca338f8eeddd"
      },
      "execution_count": null,
      "outputs": [
        {
          "output_type": "execute_result",
          "data": {
            "text/plain": [
              "KMeans(n_clusters=30)"
            ]
          },
          "metadata": {},
          "execution_count": 54
        }
      ]
    },
    {
      "cell_type": "markdown",
      "source": [
        "###Experiment C) Train all the models combining diffirent experiments"
      ],
      "metadata": {
        "id": "8dpNhodXA5pv"
      }
    },
    {
      "cell_type": "code",
      "source": [
        "retrained_net_kmeans_70_label_30_not = retrain_CNN_with_predicted_labels(trainset, labeled_train_data_70, unlabeled_train_data_30, unlabeled_train_loader_30, kmeans)"
      ],
      "metadata": {
        "colab": {
          "base_uri": "https://localhost:8080/"
        },
        "id": "v01rGfhXBFaU",
        "outputId": "e162052f-1054-4a7b-d4d1-7ac4ba4c960c"
      },
      "execution_count": null,
      "outputs": [
        {
          "output_type": "stream",
          "name": "stdout",
          "text": [
            "Epoch 1 / 6, Step 100/ 469 , Loss 1.448676586151123\n",
            "Epoch 1 / 6, Step 200/ 469 , Loss 1.4181629419326782\n",
            "Epoch 1 / 6, Step 300/ 469 , Loss 1.4387338161468506\n",
            "Epoch 1 / 6, Step 400/ 469 , Loss 1.294232726097107\n",
            "Epoch 2 / 6, Step 100/ 469 , Loss 1.1496649980545044\n",
            "Epoch 2 / 6, Step 200/ 469 , Loss 1.2088148593902588\n",
            "Epoch 2 / 6, Step 300/ 469 , Loss 0.9243248105049133\n",
            "Epoch 2 / 6, Step 400/ 469 , Loss 1.2810783386230469\n",
            "Epoch 3 / 6, Step 100/ 469 , Loss 1.2413318157196045\n",
            "Epoch 3 / 6, Step 200/ 469 , Loss 1.2971490621566772\n",
            "Epoch 3 / 6, Step 300/ 469 , Loss 1.2465242147445679\n",
            "Epoch 3 / 6, Step 400/ 469 , Loss 1.2370727062225342\n",
            "Epoch 4 / 6, Step 100/ 469 , Loss 0.8841609954833984\n",
            "Epoch 4 / 6, Step 200/ 469 , Loss 0.988118588924408\n",
            "Epoch 4 / 6, Step 300/ 469 , Loss 0.9165753722190857\n",
            "Epoch 4 / 6, Step 400/ 469 , Loss 1.0912517309188843\n",
            "Epoch 5 / 6, Step 100/ 469 , Loss 1.1586616039276123\n",
            "Epoch 5 / 6, Step 200/ 469 , Loss 1.0676538944244385\n",
            "Epoch 5 / 6, Step 300/ 469 , Loss 1.017521619796753\n",
            "Epoch 5 / 6, Step 400/ 469 , Loss 1.1445368528366089\n",
            "Epoch 6 / 6, Step 100/ 469 , Loss 1.2113239765167236\n",
            "Epoch 6 / 6, Step 200/ 469 , Loss 1.0349608659744263\n",
            "Epoch 6 / 6, Step 300/ 469 , Loss 1.2336437702178955\n",
            "Epoch 6 / 6, Step 400/ 469 , Loss 1.0309056043624878\n"
          ]
        }
      ]
    },
    {
      "cell_type": "code",
      "source": [
        "retrained_net_kmeans_50_label_50_not = retrain_CNN_with_predicted_labels(trainset, labeled_train_data_50, unlabeled_train_data_50, unlabeled_train_loader_50, kmeans)"
      ],
      "metadata": {
        "colab": {
          "base_uri": "https://localhost:8080/"
        },
        "id": "Wz1hF8lNBHR_",
        "outputId": "6c40b513-2b4a-4db1-c676-cfd37a0412db"
      },
      "execution_count": null,
      "outputs": [
        {
          "output_type": "stream",
          "name": "stdout",
          "text": [
            "Epoch 1 / 6, Step 100/ 469 , Loss 1.2840626239776611\n",
            "Epoch 1 / 6, Step 200/ 469 , Loss 1.3736687898635864\n",
            "Epoch 1 / 6, Step 300/ 469 , Loss 1.184698462486267\n",
            "Epoch 1 / 6, Step 400/ 469 , Loss 1.0110880136489868\n",
            "Epoch 2 / 6, Step 100/ 469 , Loss 0.8944224119186401\n",
            "Epoch 2 / 6, Step 200/ 469 , Loss 1.1778855323791504\n",
            "Epoch 2 / 6, Step 300/ 469 , Loss 0.9677593111991882\n",
            "Epoch 2 / 6, Step 400/ 469 , Loss 1.1191428899765015\n",
            "Epoch 3 / 6, Step 100/ 469 , Loss 1.121232032775879\n",
            "Epoch 3 / 6, Step 200/ 469 , Loss 1.0038708448410034\n",
            "Epoch 3 / 6, Step 300/ 469 , Loss 1.0726529359817505\n",
            "Epoch 3 / 6, Step 400/ 469 , Loss 0.9662225842475891\n",
            "Epoch 4 / 6, Step 100/ 469 , Loss 0.98355633020401\n",
            "Epoch 4 / 6, Step 200/ 469 , Loss 1.0350593328475952\n",
            "Epoch 4 / 6, Step 300/ 469 , Loss 0.9326592087745667\n",
            "Epoch 4 / 6, Step 400/ 469 , Loss 0.9926052093505859\n",
            "Epoch 5 / 6, Step 100/ 469 , Loss 1.0707937479019165\n",
            "Epoch 5 / 6, Step 200/ 469 , Loss 1.0367767810821533\n",
            "Epoch 5 / 6, Step 300/ 469 , Loss 0.8986416459083557\n",
            "Epoch 5 / 6, Step 400/ 469 , Loss 0.9069734811782837\n",
            "Epoch 6 / 6, Step 100/ 469 , Loss 0.927135169506073\n",
            "Epoch 6 / 6, Step 200/ 469 , Loss 0.8932857513427734\n",
            "Epoch 6 / 6, Step 300/ 469 , Loss 0.9865379333496094\n",
            "Epoch 6 / 6, Step 400/ 469 , Loss 0.9541595578193665\n"
          ]
        }
      ]
    },
    {
      "cell_type": "code",
      "source": [
        "retrained_net_kmeans_30_label_70_not = retrain_CNN_with_predicted_labels(trainset, labeled_train_data_30, unlabeled_train_data_70, unlabeled_train_loader_70, kmeans)"
      ],
      "metadata": {
        "colab": {
          "base_uri": "https://localhost:8080/"
        },
        "id": "BjNFDCvOBHam",
        "outputId": "94f394d5-a733-4c6d-f44b-35eac97472ea"
      },
      "execution_count": null,
      "outputs": [
        {
          "output_type": "stream",
          "name": "stdout",
          "text": [
            "Epoch 1 / 6, Step 100/ 469 , Loss 0.649860680103302\n",
            "Epoch 1 / 6, Step 200/ 469 , Loss 0.4560025930404663\n",
            "Epoch 1 / 6, Step 300/ 469 , Loss 0.5309317111968994\n",
            "Epoch 1 / 6, Step 400/ 469 , Loss 0.7394914627075195\n",
            "Epoch 2 / 6, Step 100/ 469 , Loss 0.4349050521850586\n",
            "Epoch 2 / 6, Step 200/ 469 , Loss 0.551249086856842\n",
            "Epoch 2 / 6, Step 300/ 469 , Loss 0.6444259881973267\n",
            "Epoch 2 / 6, Step 400/ 469 , Loss 0.39055222272872925\n",
            "Epoch 3 / 6, Step 100/ 469 , Loss 0.43510597944259644\n",
            "Epoch 3 / 6, Step 200/ 469 , Loss 0.3971916735172272\n",
            "Epoch 3 / 6, Step 300/ 469 , Loss 0.5364770293235779\n",
            "Epoch 3 / 6, Step 400/ 469 , Loss 0.4727073013782501\n",
            "Epoch 4 / 6, Step 100/ 469 , Loss 0.49300462007522583\n",
            "Epoch 4 / 6, Step 200/ 469 , Loss 0.359038770198822\n",
            "Epoch 4 / 6, Step 300/ 469 , Loss 0.4499584436416626\n",
            "Epoch 4 / 6, Step 400/ 469 , Loss 0.4876686632633209\n",
            "Epoch 5 / 6, Step 100/ 469 , Loss 0.4338257312774658\n",
            "Epoch 5 / 6, Step 200/ 469 , Loss 0.6371221542358398\n",
            "Epoch 5 / 6, Step 300/ 469 , Loss 0.5640937685966492\n",
            "Epoch 5 / 6, Step 400/ 469 , Loss 0.3705853819847107\n",
            "Epoch 6 / 6, Step 100/ 469 , Loss 0.3192179203033447\n",
            "Epoch 6 / 6, Step 200/ 469 , Loss 0.4665243923664093\n",
            "Epoch 6 / 6, Step 300/ 469 , Loss 0.410858690738678\n",
            "Epoch 6 / 6, Step 400/ 469 , Loss 0.513543963432312\n"
          ]
        }
      ]
    },
    {
      "cell_type": "code",
      "source": [
        "retrained_net_gmm_70_label_30_not = retrain_CNN_with_predicted_labels(trainset, labeled_train_data_70, unlabeled_train_data_30, unlabeled_train_loader_30, gmm)"
      ],
      "metadata": {
        "colab": {
          "base_uri": "https://localhost:8080/"
        },
        "id": "0-i9wlc7BMDr",
        "outputId": "6932d2f9-6657-4d9c-b62d-96f7614e8cf6"
      },
      "execution_count": null,
      "outputs": [
        {
          "output_type": "stream",
          "name": "stdout",
          "text": [
            "Epoch 1 / 6, Step 100/ 469 , Loss 0.41591203212738037\n",
            "Epoch 1 / 6, Step 200/ 469 , Loss 0.5276227593421936\n",
            "Epoch 1 / 6, Step 300/ 469 , Loss 0.4982303977012634\n",
            "Epoch 1 / 6, Step 400/ 469 , Loss 0.42930495738983154\n",
            "Epoch 2 / 6, Step 100/ 469 , Loss 0.34958839416503906\n",
            "Epoch 2 / 6, Step 200/ 469 , Loss 0.422457218170166\n",
            "Epoch 2 / 6, Step 300/ 469 , Loss 0.37986811995506287\n",
            "Epoch 2 / 6, Step 400/ 469 , Loss 0.28429117798805237\n",
            "Epoch 3 / 6, Step 100/ 469 , Loss 0.4221511483192444\n",
            "Epoch 3 / 6, Step 200/ 469 , Loss 0.30540093779563904\n",
            "Epoch 3 / 6, Step 300/ 469 , Loss 0.2792526185512543\n",
            "Epoch 3 / 6, Step 400/ 469 , Loss 0.3353959619998932\n",
            "Epoch 4 / 6, Step 100/ 469 , Loss 0.2456040233373642\n",
            "Epoch 4 / 6, Step 200/ 469 , Loss 0.34422191977500916\n",
            "Epoch 4 / 6, Step 300/ 469 , Loss 0.4524536728858948\n",
            "Epoch 4 / 6, Step 400/ 469 , Loss 0.3071324825286865\n",
            "Epoch 5 / 6, Step 100/ 469 , Loss 0.48587071895599365\n",
            "Epoch 5 / 6, Step 200/ 469 , Loss 0.3435817360877991\n",
            "Epoch 5 / 6, Step 300/ 469 , Loss 0.3954385221004486\n",
            "Epoch 5 / 6, Step 400/ 469 , Loss 0.22967664897441864\n",
            "Epoch 6 / 6, Step 100/ 469 , Loss 0.4013823866844177\n",
            "Epoch 6 / 6, Step 200/ 469 , Loss 0.2714231014251709\n",
            "Epoch 6 / 6, Step 300/ 469 , Loss 0.32790812849998474\n",
            "Epoch 6 / 6, Step 400/ 469 , Loss 0.3028184175491333\n"
          ]
        }
      ]
    },
    {
      "cell_type": "code",
      "source": [
        "retrained_net_gmm_50_label_50_not = retrain_CNN_with_predicted_labels(trainset, labeled_train_data_50, unlabeled_train_data_50, unlabeled_train_loader_50, gmm)"
      ],
      "metadata": {
        "colab": {
          "base_uri": "https://localhost:8080/"
        },
        "id": "CSar1kepBMJw",
        "outputId": "d681d753-81bd-4d1b-c62d-681de7c8b126"
      },
      "execution_count": null,
      "outputs": [
        {
          "output_type": "stream",
          "name": "stdout",
          "text": [
            "Epoch 1 / 6, Step 100/ 469 , Loss 0.7618829607963562\n",
            "Epoch 1 / 6, Step 200/ 469 , Loss 0.6318556666374207\n",
            "Epoch 1 / 6, Step 300/ 469 , Loss 0.3435537815093994\n",
            "Epoch 1 / 6, Step 400/ 469 , Loss 0.6657202839851379\n",
            "Epoch 2 / 6, Step 100/ 469 , Loss 0.49679049849510193\n",
            "Epoch 2 / 6, Step 200/ 469 , Loss 0.31751179695129395\n",
            "Epoch 2 / 6, Step 300/ 469 , Loss 0.3622730076313019\n",
            "Epoch 2 / 6, Step 400/ 469 , Loss 0.411258339881897\n",
            "Epoch 3 / 6, Step 100/ 469 , Loss 0.33245041966438293\n",
            "Epoch 3 / 6, Step 200/ 469 , Loss 0.29311832785606384\n",
            "Epoch 3 / 6, Step 300/ 469 , Loss 0.28612399101257324\n",
            "Epoch 3 / 6, Step 400/ 469 , Loss 0.36015889048576355\n",
            "Epoch 4 / 6, Step 100/ 469 , Loss 0.24244891107082367\n",
            "Epoch 4 / 6, Step 200/ 469 , Loss 0.4388328194618225\n",
            "Epoch 4 / 6, Step 300/ 469 , Loss 0.31226906180381775\n",
            "Epoch 4 / 6, Step 400/ 469 , Loss 0.32186946272850037\n",
            "Epoch 5 / 6, Step 100/ 469 , Loss 0.2818697988986969\n",
            "Epoch 5 / 6, Step 200/ 469 , Loss 0.3400105834007263\n",
            "Epoch 5 / 6, Step 300/ 469 , Loss 0.3045065402984619\n",
            "Epoch 5 / 6, Step 400/ 469 , Loss 0.26962316036224365\n",
            "Epoch 6 / 6, Step 100/ 469 , Loss 0.29410815238952637\n",
            "Epoch 6 / 6, Step 200/ 469 , Loss 0.30408889055252075\n",
            "Epoch 6 / 6, Step 300/ 469 , Loss 0.30199599266052246\n",
            "Epoch 6 / 6, Step 400/ 469 , Loss 0.3421780467033386\n"
          ]
        }
      ]
    },
    {
      "cell_type": "code",
      "source": [
        "retrained_net_gmm_30_label_70_not = retrain_CNN_with_predicted_labels(trainset, labeled_train_data_30, unlabeled_train_data_70, unlabeled_train_loader_70, gmm)"
      ],
      "metadata": {
        "colab": {
          "base_uri": "https://localhost:8080/"
        },
        "id": "XM5MAfTbBMTA",
        "outputId": "580ddd7a-63f1-4b44-958a-ee2b6461c76b"
      },
      "execution_count": null,
      "outputs": [
        {
          "output_type": "stream",
          "name": "stdout",
          "text": [
            "Epoch 1 / 6, Step 100/ 469 , Loss 0.595768392086029\n",
            "Epoch 1 / 6, Step 200/ 469 , Loss 0.3956579566001892\n",
            "Epoch 1 / 6, Step 300/ 469 , Loss 0.51374351978302\n",
            "Epoch 1 / 6, Step 400/ 469 , Loss 0.42467403411865234\n",
            "Epoch 2 / 6, Step 100/ 469 , Loss 0.4202234148979187\n",
            "Epoch 2 / 6, Step 200/ 469 , Loss 0.4511590600013733\n",
            "Epoch 2 / 6, Step 300/ 469 , Loss 0.4215220510959625\n",
            "Epoch 2 / 6, Step 400/ 469 , Loss 0.2993345260620117\n",
            "Epoch 3 / 6, Step 100/ 469 , Loss 0.3317875266075134\n",
            "Epoch 3 / 6, Step 200/ 469 , Loss 0.32873404026031494\n",
            "Epoch 3 / 6, Step 300/ 469 , Loss 0.4781407117843628\n",
            "Epoch 3 / 6, Step 400/ 469 , Loss 0.3674331307411194\n",
            "Epoch 4 / 6, Step 100/ 469 , Loss 0.3013722002506256\n",
            "Epoch 4 / 6, Step 200/ 469 , Loss 0.2668156921863556\n",
            "Epoch 4 / 6, Step 300/ 469 , Loss 0.36485666036605835\n",
            "Epoch 4 / 6, Step 400/ 469 , Loss 0.3173113167285919\n",
            "Epoch 5 / 6, Step 100/ 469 , Loss 0.32417914271354675\n",
            "Epoch 5 / 6, Step 200/ 469 , Loss 0.3937910795211792\n",
            "Epoch 5 / 6, Step 300/ 469 , Loss 0.4597376883029938\n",
            "Epoch 5 / 6, Step 400/ 469 , Loss 0.24704648554325104\n",
            "Epoch 6 / 6, Step 100/ 469 , Loss 0.3266147971153259\n",
            "Epoch 6 / 6, Step 200/ 469 , Loss 0.2904943525791168\n",
            "Epoch 6 / 6, Step 300/ 469 , Loss 0.30415627360343933\n",
            "Epoch 6 / 6, Step 400/ 469 , Loss 0.340524822473526\n"
          ]
        }
      ]
    },
    {
      "cell_type": "markdown",
      "source": [
        "#**Results**\n"
      ],
      "metadata": {
        "id": "JGBSP5TXBiGv"
      }
    },
    {
      "cell_type": "markdown",
      "source": [
        "###First we will look at the **baseline** results from the CNN trained on M labeled images"
      ],
      "metadata": {
        "id": "fnVfGL5oZU3x"
      }
    },
    {
      "cell_type": "code",
      "source": [
        "testFeatureEmbed, _ = getFeatureEmbedings(testloader)"
      ],
      "metadata": {
        "id": "9IKInqSi6C1S"
      },
      "execution_count": null,
      "outputs": []
    },
    {
      "cell_type": "code",
      "source": [
        "baseline_accuracy, loss = test(testloader, net)\n",
        "print(f\"Our accuracy with just the CNN is: {baseline_accuracy} on test set from training on trainset\" )"
      ],
      "metadata": {
        "id": "pH2XADkWZSER",
        "colab": {
          "base_uri": "https://localhost:8080/"
        },
        "outputId": "38e4e628-8335-4af7-bde0-8d30460691d0"
      },
      "execution_count": null,
      "outputs": [
        {
          "output_type": "stream",
          "name": "stdout",
          "text": [
            "Our accuracy with just the CNN is: 0.808 on test set from training on trainset\n"
          ]
        }
      ]
    },
    {
      "cell_type": "markdown",
      "source": [
        "### Next we will look at all the other methods that use weakly supervised learning, we aim to be better than the baseline in each\n"
      ],
      "metadata": {
        "id": "vJ2rkCOdZUPs"
      }
    },
    {
      "cell_type": "code",
      "source": [
        "accuracy_kmeans_70_label_30_not, loss = test(testloader, retrained_net_kmeans_70_label_30_not)\n",
        "print(f\"Our accuracy with the CNN and Mini-Batch Kmeans clustering with 70% labeled, 30% unlabeled is: {accuracy_kmeans_70_label_30_not} on test set\" )"
      ],
      "metadata": {
        "colab": {
          "base_uri": "https://localhost:8080/"
        },
        "id": "yut5RI8zAxZg",
        "outputId": "efbce327-2ba8-4e07-b6d6-342639ac3521"
      },
      "execution_count": null,
      "outputs": [
        {
          "output_type": "stream",
          "name": "stdout",
          "text": [
            "Our accuracy with the CNN and Mini-Batch Kmeans clustering with 70% labeled, 30% unlabeled is: 0.8542 on test set\n"
          ]
        }
      ]
    },
    {
      "cell_type": "code",
      "source": [
        "accuracy_kmeans_50_label_50_not, loss = test(testloader, retrained_net_kmeans_50_label_50_not)\n",
        "print(f\"Our accuracy with the CNN and Mini-Batch Kmeans clustering with 50% labeled, 50% unlabeled is: {accuracy_kmeans_50_label_50_not} on test set\" )"
      ],
      "metadata": {
        "colab": {
          "base_uri": "https://localhost:8080/"
        },
        "id": "q0d8xRVIAxlT",
        "outputId": "1a8ec360-27f5-4cda-b4ee-44e8e2e6bf06"
      },
      "execution_count": null,
      "outputs": [
        {
          "output_type": "stream",
          "name": "stdout",
          "text": [
            "Our accuracy with the CNN and Mini-Batch Kmeans clustering with 50% labeled, 50% unlabeled is: 0.2156 on test set\n"
          ]
        }
      ]
    },
    {
      "cell_type": "code",
      "source": [
        "accuracy_kmeans_30_label_70_not, loss = test(testloader, retrained_net_kmeans_30_label_70_not)\n",
        "print(f\"Our accuracy with the CNN and Mini-Batch Kmeans clustering with 30% labeled, 70% unlabeled is: {accuracy_kmeans_30_label_70_not} on test set\" )"
      ],
      "metadata": {
        "id": "IvzHxZpzC9tw",
        "colab": {
          "base_uri": "https://localhost:8080/"
        },
        "outputId": "e7abcedc-96bc-4f21-a7d9-7e12fabc3f97"
      },
      "execution_count": null,
      "outputs": [
        {
          "output_type": "stream",
          "name": "stdout",
          "text": [
            "Our accuracy with the CNN and Mini-Batch Kmeans clustering with 30% labeled, 70% unlabeled is: 0.1 on test set\n"
          ]
        }
      ]
    },
    {
      "cell_type": "code",
      "source": [
        "accuracy_gmm_70_label_30_not, loss = test(testloader, retrained_net_gmm_70_label_30_not)\n",
        "print(f\"Our accuracy with the CNN and Kmeans clustering with 70% labeled, 30% unlabeled is: {accuracy_gmm_70_label_30_not} on test set from training on trainset\" )"
      ],
      "metadata": {
        "colab": {
          "base_uri": "https://localhost:8080/"
        },
        "id": "0V2K0kkdCjJ6",
        "outputId": "84ffa761-6266-432a-99c6-d3ec0198f3f2"
      },
      "execution_count": null,
      "outputs": [
        {
          "output_type": "stream",
          "name": "stdout",
          "text": [
            "Our accuracy with the CNN and Kmeans clustering with 70% labeled, 30% unlabeled is: 0.1 on test set from training on trainset\n"
          ]
        }
      ]
    },
    {
      "cell_type": "code",
      "source": [
        "accuracy_gmm_50_label_50_not, loss = test(testloader, retrained_net_gmm_50_label_50_not)\n",
        "print(f\"Our accuracy with the CNN and Kmeans clustering with 50% labeled, 50% unlabeled is: {accuracy_gmm_50_label_50_not} on test set from training on trainset\" )"
      ],
      "metadata": {
        "colab": {
          "base_uri": "https://localhost:8080/"
        },
        "id": "CmVV-eFACjUc",
        "outputId": "d9fed77b-b548-407e-f48d-24caea0d5433"
      },
      "execution_count": null,
      "outputs": [
        {
          "output_type": "stream",
          "name": "stdout",
          "text": [
            "Our accuracy with the CNN and Kmeans clustering with 50% labeled, 50% unlabeled is: 0.1 on test set from training on trainset\n"
          ]
        }
      ]
    },
    {
      "cell_type": "code",
      "source": [
        "accuracy_gmm_30_label_70_not, loss = test(testloader, retrained_net_gmm_30_label_70_not)\n",
        "print(f\"Our accuracy with the CNN and Kmeans clustering with 30% labeled, 70% unlabeled is: {accuracy_gmm_30_label_70_not} on test set from training on trainset\" )"
      ],
      "metadata": {
        "colab": {
          "base_uri": "https://localhost:8080/"
        },
        "id": "Q1zSeky8Cjbu",
        "outputId": "52d8090d-0f26-46d6-df99-7fac0156b6f3"
      },
      "execution_count": null,
      "outputs": [
        {
          "output_type": "stream",
          "name": "stdout",
          "text": [
            "Our accuracy with the CNN and Kmeans clustering with 30% labeled, 70% unlabeled is: 0.1001 on test set from training on trainset\n"
          ]
        }
      ]
    },
    {
      "cell_type": "markdown",
      "source": [
        "#**Conclusions**\n",
        "\n",
        "One positive result from our experiments is that we found Mini-Batch Kmeans with a ratio of 70% labeled, 30% unlabeled yielded a 5% increase in accuracy compared to the baseline. However we saw that all other ratios and clustering methods provided a < 20% accuracy rate. Mini Batch K-means in general was more accurate than just pure k-means.\n",
        "\n",
        "\n",
        "The usefulness of ratios where unlabeled was equal to or greater that would have been more of a useful result, but an improvement from 30% unlabeled to \n",
        "86.6% accuracy is not a total loss.\n",
        "\n",
        "\n",
        "We were limited in which clustering methods we could use due to RAM capacity and learning times. GMM was used originally but it would take 2 hours to train with a GPU, and would often crash. DBSCAN, and OPTICS models were also attempted but faced similar issues. \n",
        "\n",
        "\n",
        "One reason we believe that the results weren't as strong as we expected is that we randomly split the data into M% labeled and (N-M)% unlabeled, without taking into consideration the labels of the data. This could have lead to hotspots of certain label types being placed in the unlabeled set, leading to poor classification results.\n",
        "\n",
        "\n",
        "Another reason we believe that could explain the result, is that we performed clustering on the feature emebedings of the images. Meaning that after we trained our original CNN on M labeled images, we used it to get a vector of size 4096 from each image in the training set. We performed clustering on the feature embeded version of each image, and 4096 might have been too small of a feature to encode all the data of an image required to cluster it properly (although in prior tests we reached 86% accuracy just from clustering using a full labeled N size dataset).\n",
        "\n",
        "Lastly we believe that the way that we assigned labels to the unlabeled images might be improved. We used the mode label in each cluster (from the labeled images in the cluster). We believe that in the future we should have only labeled images with a probability greater than a certain threshold as the label, as there were 30 clusters, and noisy/inacurate labels could have been introduced."
      ],
      "metadata": {
        "id": "1GxL84V_Rv82"
      }
    }
  ],
  "metadata": {
    "kernelspec": {
      "display_name": "Python 3",
      "language": "python",
      "name": "python3"
    },
    "language_info": {
      "codemirror_mode": {
        "name": "ipython",
        "version": 3
      },
      "file_extension": ".py",
      "mimetype": "text/x-python",
      "name": "python",
      "nbconvert_exporter": "python",
      "pygments_lexer": "ipython3",
      "version": "3.7.4"
    },
    "colab": {
      "name": "Copy of cs484 proj.ipynb",
      "provenance": [],
      "collapsed_sections": [],
      "machine_shape": "hm",
      "include_colab_link": true
    },
    "accelerator": "GPU"
  },
  "nbformat": 4,
  "nbformat_minor": 0
}